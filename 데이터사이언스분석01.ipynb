{
 "metadata": {
  "language_info": {
   "codemirror_mode": {
    "name": "ipython",
    "version": 3
   },
   "file_extension": ".py",
   "mimetype": "text/x-python",
   "name": "python",
   "nbconvert_exporter": "python",
   "pygments_lexer": "ipython3",
   "version": "3.8.10"
  },
  "orig_nbformat": 2,
  "kernelspec": {
   "name": "python3810jvsc74a57bd02db524e06e9f5f4ffedc911c917cb75e12dbc923643829bf417064a77eb14d37",
   "display_name": "Python 3.8.10 32-bit"
  },
  "metadata": {
   "interpreter": {
    "hash": "2db524e06e9f5f4ffedc911c917cb75e12dbc923643829bf417064a77eb14d37"
   }
  }
 },
 "nbformat": 4,
 "nbformat_minor": 2,
 "cells": [
  {
   "cell_type": "code",
   "execution_count": 11,
   "metadata": {},
   "outputs": [
    {
     "output_type": "execute_result",
     "data": {
      "text/plain": [
       "  국적코드  성별    입국객수\n",
       "0  A01  남성  106320\n",
       "1  A01  여성  191436\n",
       "2  A31  남성     319\n",
       "3  A31  여성      42\n",
       "4  A18  남성  158912\n",
       "5  A18  여성  232943"
      ],
      "text/html": "<div>\n<style scoped>\n    .dataframe tbody tr th:only-of-type {\n        vertical-align: middle;\n    }\n\n    .dataframe tbody tr th {\n        vertical-align: top;\n    }\n\n    .dataframe thead th {\n        text-align: right;\n    }\n</style>\n<table border=\"1\" class=\"dataframe\">\n  <thead>\n    <tr style=\"text-align: right;\">\n      <th></th>\n      <th>국적코드</th>\n      <th>성별</th>\n      <th>입국객수</th>\n    </tr>\n  </thead>\n  <tbody>\n    <tr>\n      <th>0</th>\n      <td>A01</td>\n      <td>남성</td>\n      <td>106320</td>\n    </tr>\n    <tr>\n      <th>1</th>\n      <td>A01</td>\n      <td>여성</td>\n      <td>191436</td>\n    </tr>\n    <tr>\n      <th>2</th>\n      <td>A31</td>\n      <td>남성</td>\n      <td>319</td>\n    </tr>\n    <tr>\n      <th>3</th>\n      <td>A31</td>\n      <td>여성</td>\n      <td>42</td>\n    </tr>\n    <tr>\n      <th>4</th>\n      <td>A18</td>\n      <td>남성</td>\n      <td>158912</td>\n    </tr>\n    <tr>\n      <th>5</th>\n      <td>A18</td>\n      <td>여성</td>\n      <td>232943</td>\n    </tr>\n  </tbody>\n</table>\n</div>"
     },
     "metadata": {},
     "execution_count": 11
    }
   ],
   "source": [
    "import pandas as pd \n",
    "\n",
    "sample_1 = pd.read_excel(\"c:\\\\work\\\\sample_1.xlsx\", header=1, skipfooter=2, usecols=\"A:C\")\n",
    "sample_1\n",
    "\n"
   ]
  },
  {
   "cell_type": "code",
   "execution_count": 12,
   "metadata": {},
   "outputs": [
    {
     "output_type": "stream",
     "name": "stdout",
     "text": [
      "<class 'pandas.core.frame.DataFrame'>\nRangeIndex: 6 entries, 0 to 5\nData columns (total 3 columns):\n #   Column  Non-Null Count  Dtype \n---  ------  --------------  ----- \n 0   국적코드    6 non-null      object\n 1   성별      6 non-null      object\n 2   입국객수    6 non-null      int64 \ndtypes: int64(1), object(2)\nmemory usage: 160.0+ bytes\n"
     ]
    }
   ],
   "source": [
    "sample_1.info()"
   ]
  },
  {
   "cell_type": "code",
   "execution_count": 13,
   "metadata": {},
   "outputs": [
    {
     "output_type": "execute_result",
     "data": {
      "text/plain": [
       "                입국객수\n",
       "count       6.000000\n",
       "mean   114995.333333\n",
       "std     98105.752006\n",
       "min        42.000000\n",
       "25%     26819.250000\n",
       "50%    132616.000000\n",
       "75%    183305.000000\n",
       "max    232943.000000"
      ],
      "text/html": "<div>\n<style scoped>\n    .dataframe tbody tr th:only-of-type {\n        vertical-align: middle;\n    }\n\n    .dataframe tbody tr th {\n        vertical-align: top;\n    }\n\n    .dataframe thead th {\n        text-align: right;\n    }\n</style>\n<table border=\"1\" class=\"dataframe\">\n  <thead>\n    <tr style=\"text-align: right;\">\n      <th></th>\n      <th>입국객수</th>\n    </tr>\n  </thead>\n  <tbody>\n    <tr>\n      <th>count</th>\n      <td>6.000000</td>\n    </tr>\n    <tr>\n      <th>mean</th>\n      <td>114995.333333</td>\n    </tr>\n    <tr>\n      <th>std</th>\n      <td>98105.752006</td>\n    </tr>\n    <tr>\n      <th>min</th>\n      <td>42.000000</td>\n    </tr>\n    <tr>\n      <th>25%</th>\n      <td>26819.250000</td>\n    </tr>\n    <tr>\n      <th>50%</th>\n      <td>132616.000000</td>\n    </tr>\n    <tr>\n      <th>75%</th>\n      <td>183305.000000</td>\n    </tr>\n    <tr>\n      <th>max</th>\n      <td>232943.000000</td>\n    </tr>\n  </tbody>\n</table>\n</div>"
     },
     "metadata": {},
     "execution_count": 13
    }
   ],
   "source": [
    "sample_1.describe()"
   ]
  },
  {
   "cell_type": "code",
   "execution_count": 14,
   "metadata": {},
   "outputs": [
    {
     "output_type": "execute_result",
     "data": {
      "text/plain": [
       "0    106320\n",
       "1    191436\n",
       "2       319\n",
       "3        42\n",
       "4    158912\n",
       "5    232943\n",
       "Name: 입국객수, dtype: int64"
      ]
     },
     "metadata": {},
     "execution_count": 14
    }
   ],
   "source": [
    "sample_1[\"입국객수\"]"
   ]
  },
  {
   "cell_type": "code",
   "execution_count": 18,
   "metadata": {},
   "outputs": [
    {
     "output_type": "execute_result",
     "data": {
      "text/plain": [
       "  국적코드    입국객수\n",
       "0  A01  106320\n",
       "1  A01  191436\n",
       "2  A31     319\n",
       "3  A31      42\n",
       "4  A18  158912\n",
       "5  A18  232943"
      ],
      "text/html": "<div>\n<style scoped>\n    .dataframe tbody tr th:only-of-type {\n        vertical-align: middle;\n    }\n\n    .dataframe tbody tr th {\n        vertical-align: top;\n    }\n\n    .dataframe thead th {\n        text-align: right;\n    }\n</style>\n<table border=\"1\" class=\"dataframe\">\n  <thead>\n    <tr style=\"text-align: right;\">\n      <th></th>\n      <th>국적코드</th>\n      <th>입국객수</th>\n    </tr>\n  </thead>\n  <tbody>\n    <tr>\n      <th>0</th>\n      <td>A01</td>\n      <td>106320</td>\n    </tr>\n    <tr>\n      <th>1</th>\n      <td>A01</td>\n      <td>191436</td>\n    </tr>\n    <tr>\n      <th>2</th>\n      <td>A31</td>\n      <td>319</td>\n    </tr>\n    <tr>\n      <th>3</th>\n      <td>A31</td>\n      <td>42</td>\n    </tr>\n    <tr>\n      <th>4</th>\n      <td>A18</td>\n      <td>158912</td>\n    </tr>\n    <tr>\n      <th>5</th>\n      <td>A18</td>\n      <td>232943</td>\n    </tr>\n  </tbody>\n</table>\n</div>"
     },
     "metadata": {},
     "execution_count": 18
    }
   ],
   "source": [
    "sample_1[[\"국적코드\",\"입국객수\"]]\n"
   ]
  },
  {
   "cell_type": "code",
   "execution_count": 20,
   "metadata": {},
   "outputs": [
    {
     "output_type": "execute_result",
     "data": {
      "text/plain": [
       "  국적코드  성별    입국객수     기준년월\n",
       "0  A01  남성  106320  2019-11\n",
       "1  A01  여성  191436  2019-11\n",
       "2  A31  남성     319  2019-11\n",
       "3  A31  여성      42  2019-11\n",
       "4  A18  남성  158912  2019-11\n",
       "5  A18  여성  232943  2019-11"
      ],
      "text/html": "<div>\n<style scoped>\n    .dataframe tbody tr th:only-of-type {\n        vertical-align: middle;\n    }\n\n    .dataframe tbody tr th {\n        vertical-align: top;\n    }\n\n    .dataframe thead th {\n        text-align: right;\n    }\n</style>\n<table border=\"1\" class=\"dataframe\">\n  <thead>\n    <tr style=\"text-align: right;\">\n      <th></th>\n      <th>국적코드</th>\n      <th>성별</th>\n      <th>입국객수</th>\n      <th>기준년월</th>\n    </tr>\n  </thead>\n  <tbody>\n    <tr>\n      <th>0</th>\n      <td>A01</td>\n      <td>남성</td>\n      <td>106320</td>\n      <td>2019-11</td>\n    </tr>\n    <tr>\n      <th>1</th>\n      <td>A01</td>\n      <td>여성</td>\n      <td>191436</td>\n      <td>2019-11</td>\n    </tr>\n    <tr>\n      <th>2</th>\n      <td>A31</td>\n      <td>남성</td>\n      <td>319</td>\n      <td>2019-11</td>\n    </tr>\n    <tr>\n      <th>3</th>\n      <td>A31</td>\n      <td>여성</td>\n      <td>42</td>\n      <td>2019-11</td>\n    </tr>\n    <tr>\n      <th>4</th>\n      <td>A18</td>\n      <td>남성</td>\n      <td>158912</td>\n      <td>2019-11</td>\n    </tr>\n    <tr>\n      <th>5</th>\n      <td>A18</td>\n      <td>여성</td>\n      <td>232943</td>\n      <td>2019-11</td>\n    </tr>\n  </tbody>\n</table>\n</div>"
     },
     "metadata": {},
     "execution_count": 20
    }
   ],
   "source": [
    "#기존에 없는 '기준년월'이라는 컬럼을 추가하고 데이터를 추가한다. \n",
    "sample_1['기준년월'] = '2019-11'\n",
    "sample_1"
   ]
  },
  {
   "cell_type": "code",
   "execution_count": 21,
   "metadata": {},
   "outputs": [
    {
     "output_type": "execute_result",
     "data": {
      "text/plain": [
       "0     True\n",
       "1    False\n",
       "2     True\n",
       "3    False\n",
       "4     True\n",
       "5    False\n",
       "Name: 성별, dtype: bool"
      ]
     },
     "metadata": {},
     "execution_count": 21
    }
   ],
   "source": [
    "#필터링실습\n",
    "condition = (sample_1['성별'] == '남성')\n",
    "condition "
   ]
  },
  {
   "cell_type": "code",
   "execution_count": 22,
   "metadata": {},
   "outputs": [
    {
     "output_type": "execute_result",
     "data": {
      "text/plain": [
       "  국적코드  성별    입국객수     기준년월\n",
       "0  A01  남성  106320  2019-11\n",
       "2  A31  남성     319  2019-11\n",
       "4  A18  남성  158912  2019-11"
      ],
      "text/html": "<div>\n<style scoped>\n    .dataframe tbody tr th:only-of-type {\n        vertical-align: middle;\n    }\n\n    .dataframe tbody tr th {\n        vertical-align: top;\n    }\n\n    .dataframe thead th {\n        text-align: right;\n    }\n</style>\n<table border=\"1\" class=\"dataframe\">\n  <thead>\n    <tr style=\"text-align: right;\">\n      <th></th>\n      <th>국적코드</th>\n      <th>성별</th>\n      <th>입국객수</th>\n      <th>기준년월</th>\n    </tr>\n  </thead>\n  <tbody>\n    <tr>\n      <th>0</th>\n      <td>A01</td>\n      <td>남성</td>\n      <td>106320</td>\n      <td>2019-11</td>\n    </tr>\n    <tr>\n      <th>2</th>\n      <td>A31</td>\n      <td>남성</td>\n      <td>319</td>\n      <td>2019-11</td>\n    </tr>\n    <tr>\n      <th>4</th>\n      <td>A18</td>\n      <td>남성</td>\n      <td>158912</td>\n      <td>2019-11</td>\n    </tr>\n  </tbody>\n</table>\n</div>"
     },
     "metadata": {},
     "execution_count": 22
    }
   ],
   "source": [
    "sample_1[condition]"
   ]
  },
  {
   "cell_type": "code",
   "execution_count": 23,
   "metadata": {},
   "outputs": [
    {
     "output_type": "execute_result",
     "data": {
      "text/plain": [
       "  국적코드  성별    입국객수     기준년월\n",
       "1  A01  여성  191436  2019-11\n",
       "4  A18  남성  158912  2019-11\n",
       "5  A18  여성  232943  2019-11"
      ],
      "text/html": "<div>\n<style scoped>\n    .dataframe tbody tr th:only-of-type {\n        vertical-align: middle;\n    }\n\n    .dataframe tbody tr th {\n        vertical-align: top;\n    }\n\n    .dataframe thead th {\n        text-align: right;\n    }\n</style>\n<table border=\"1\" class=\"dataframe\">\n  <thead>\n    <tr style=\"text-align: right;\">\n      <th></th>\n      <th>국적코드</th>\n      <th>성별</th>\n      <th>입국객수</th>\n      <th>기준년월</th>\n    </tr>\n  </thead>\n  <tbody>\n    <tr>\n      <th>1</th>\n      <td>A01</td>\n      <td>여성</td>\n      <td>191436</td>\n      <td>2019-11</td>\n    </tr>\n    <tr>\n      <th>4</th>\n      <td>A18</td>\n      <td>남성</td>\n      <td>158912</td>\n      <td>2019-11</td>\n    </tr>\n    <tr>\n      <th>5</th>\n      <td>A18</td>\n      <td>여성</td>\n      <td>232943</td>\n      <td>2019-11</td>\n    </tr>\n  </tbody>\n</table>\n</div>"
     },
     "metadata": {},
     "execution_count": 23
    }
   ],
   "source": [
    "condition = (sample_1['입국객수'] >= 150000)\n",
    "sample_1[condition]"
   ]
  },
  {
   "cell_type": "code",
   "execution_count": 24,
   "metadata": {},
   "outputs": [
    {
     "output_type": "execute_result",
     "data": {
      "text/plain": [
       "0    False\n",
       "1    False\n",
       "2    False\n",
       "3    False\n",
       "4     True\n",
       "5    False\n",
       "dtype: bool"
      ]
     },
     "metadata": {},
     "execution_count": 24
    }
   ],
   "source": [
    "#이번에는 조건이 여러개인 경우 \n",
    "conditions = (sample_1['성별'] == '남성') & (sample_1['입국객수'] >= 150000)\n",
    "conditions"
   ]
  },
  {
   "cell_type": "code",
   "execution_count": 25,
   "metadata": {},
   "outputs": [
    {
     "output_type": "execute_result",
     "data": {
      "text/plain": [
       "  국적코드  성별    입국객수     기준년월\n",
       "4  A18  남성  158912  2019-11"
      ],
      "text/html": "<div>\n<style scoped>\n    .dataframe tbody tr th:only-of-type {\n        vertical-align: middle;\n    }\n\n    .dataframe tbody tr th {\n        vertical-align: top;\n    }\n\n    .dataframe thead th {\n        text-align: right;\n    }\n</style>\n<table border=\"1\" class=\"dataframe\">\n  <thead>\n    <tr style=\"text-align: right;\">\n      <th></th>\n      <th>국적코드</th>\n      <th>성별</th>\n      <th>입국객수</th>\n      <th>기준년월</th>\n    </tr>\n  </thead>\n  <tbody>\n    <tr>\n      <th>4</th>\n      <td>A18</td>\n      <td>남성</td>\n      <td>158912</td>\n      <td>2019-11</td>\n    </tr>\n  </tbody>\n</table>\n</div>"
     },
     "metadata": {},
     "execution_count": 25
    }
   ],
   "source": [
    "#두개의 컬럼에 대해 필터링하기\n",
    "sample_1[conditions]"
   ]
  },
  {
   "cell_type": "code",
   "execution_count": 26,
   "metadata": {},
   "outputs": [
    {
     "output_type": "execute_result",
     "data": {
      "text/plain": [
       "  국적코드  성별    입국객수     기준년월\n",
       "0  A01  남성  106320  2019-11\n",
       "1  A01  여성  191436  2019-11\n",
       "4  A18  남성  158912  2019-11\n",
       "5  A18  여성  232943  2019-11"
      ],
      "text/html": "<div>\n<style scoped>\n    .dataframe tbody tr th:only-of-type {\n        vertical-align: middle;\n    }\n\n    .dataframe tbody tr th {\n        vertical-align: top;\n    }\n\n    .dataframe thead th {\n        text-align: right;\n    }\n</style>\n<table border=\"1\" class=\"dataframe\">\n  <thead>\n    <tr style=\"text-align: right;\">\n      <th></th>\n      <th>국적코드</th>\n      <th>성별</th>\n      <th>입국객수</th>\n      <th>기준년월</th>\n    </tr>\n  </thead>\n  <tbody>\n    <tr>\n      <th>0</th>\n      <td>A01</td>\n      <td>남성</td>\n      <td>106320</td>\n      <td>2019-11</td>\n    </tr>\n    <tr>\n      <th>1</th>\n      <td>A01</td>\n      <td>여성</td>\n      <td>191436</td>\n      <td>2019-11</td>\n    </tr>\n    <tr>\n      <th>4</th>\n      <td>A18</td>\n      <td>남성</td>\n      <td>158912</td>\n      <td>2019-11</td>\n    </tr>\n    <tr>\n      <th>5</th>\n      <td>A18</td>\n      <td>여성</td>\n      <td>232943</td>\n      <td>2019-11</td>\n    </tr>\n  </tbody>\n</table>\n</div>"
     },
     "metadata": {},
     "execution_count": 26
    }
   ],
   "source": [
    "#여러 조건 중 하나라도 만족하면 되는 경우는 |(or)를 사용한다.\n",
    "conditions = (sample_1['국적코드'] == 'A01') \\\n",
    "    | (sample_1['국적코드'] == 'A18')\n",
    "sample_1[conditions]"
   ]
  },
  {
   "cell_type": "code",
   "execution_count": 27,
   "metadata": {},
   "outputs": [
    {
     "output_type": "execute_result",
     "data": {
      "text/plain": [
       "0     True\n",
       "1     True\n",
       "2    False\n",
       "3    False\n",
       "4     True\n",
       "5     True\n",
       "Name: 국적코드, dtype: bool"
      ]
     },
     "metadata": {},
     "execution_count": 27
    }
   ],
   "source": [
    "#한 컬럼에 대해 여러 조건으로 필터링하기\n",
    "conditions = (sample_1['국적코드'].isin(['A01','A18']))\n",
    "conditions "
   ]
  },
  {
   "cell_type": "code",
   "execution_count": 28,
   "metadata": {},
   "outputs": [
    {
     "output_type": "execute_result",
     "data": {
      "text/plain": [
       "  국적코드  성별    입국객수     기준년월\n",
       "0  A01  남성  106320  2019-11\n",
       "1  A01  여성  191436  2019-11\n",
       "4  A18  남성  158912  2019-11\n",
       "5  A18  여성  232943  2019-11"
      ],
      "text/html": "<div>\n<style scoped>\n    .dataframe tbody tr th:only-of-type {\n        vertical-align: middle;\n    }\n\n    .dataframe tbody tr th {\n        vertical-align: top;\n    }\n\n    .dataframe thead th {\n        text-align: right;\n    }\n</style>\n<table border=\"1\" class=\"dataframe\">\n  <thead>\n    <tr style=\"text-align: right;\">\n      <th></th>\n      <th>국적코드</th>\n      <th>성별</th>\n      <th>입국객수</th>\n      <th>기준년월</th>\n    </tr>\n  </thead>\n  <tbody>\n    <tr>\n      <th>0</th>\n      <td>A01</td>\n      <td>남성</td>\n      <td>106320</td>\n      <td>2019-11</td>\n    </tr>\n    <tr>\n      <th>1</th>\n      <td>A01</td>\n      <td>여성</td>\n      <td>191436</td>\n      <td>2019-11</td>\n    </tr>\n    <tr>\n      <th>4</th>\n      <td>A18</td>\n      <td>남성</td>\n      <td>158912</td>\n      <td>2019-11</td>\n    </tr>\n    <tr>\n      <th>5</th>\n      <td>A18</td>\n      <td>여성</td>\n      <td>232943</td>\n      <td>2019-11</td>\n    </tr>\n  </tbody>\n</table>\n</div>"
     },
     "metadata": {},
     "execution_count": 28
    }
   ],
   "source": [
    "sample_1[conditions]"
   ]
  },
  {
   "cell_type": "code",
   "execution_count": 29,
   "metadata": {},
   "outputs": [
    {
     "output_type": "execute_result",
     "data": {
      "text/plain": [
       "  국적코드  성별  입국객수     기준년월\n",
       "2  A31  남성   319  2019-11\n",
       "3  A31  여성    42  2019-11"
      ],
      "text/html": "<div>\n<style scoped>\n    .dataframe tbody tr th:only-of-type {\n        vertical-align: middle;\n    }\n\n    .dataframe tbody tr th {\n        vertical-align: top;\n    }\n\n    .dataframe thead th {\n        text-align: right;\n    }\n</style>\n<table border=\"1\" class=\"dataframe\">\n  <thead>\n    <tr style=\"text-align: right;\">\n      <th></th>\n      <th>국적코드</th>\n      <th>성별</th>\n      <th>입국객수</th>\n      <th>기준년월</th>\n    </tr>\n  </thead>\n  <tbody>\n    <tr>\n      <th>2</th>\n      <td>A31</td>\n      <td>남성</td>\n      <td>319</td>\n      <td>2019-11</td>\n    </tr>\n    <tr>\n      <th>3</th>\n      <td>A31</td>\n      <td>여성</td>\n      <td>42</td>\n      <td>2019-11</td>\n    </tr>\n  </tbody>\n</table>\n</div>"
     },
     "metadata": {},
     "execution_count": 29
    }
   ],
   "source": [
    "#만약 국적코드에서 A01,A18에 해당하지 않는 경우만 보고 싶다면 \n",
    "conditions = (sample_1['국적코드'].isin(['A01','A18']))\n",
    "sample_1[conditions == False]\n"
   ]
  },
  {
   "cell_type": "code",
   "execution_count": 30,
   "metadata": {},
   "outputs": [
    {
     "output_type": "execute_result",
     "data": {
      "text/plain": [
       "  국적코드     국적명\n",
       "0  A01      일본\n",
       "1  A02      대만\n",
       "2  A03      홍콩\n",
       "3  A18      중국\n",
       "4  A19      이란\n",
       "5  A22  우즈베키스탄\n",
       "6  A23   카자흐스탄\n",
       "7  A99  아시아 기타"
      ],
      "text/html": "<div>\n<style scoped>\n    .dataframe tbody tr th:only-of-type {\n        vertical-align: middle;\n    }\n\n    .dataframe tbody tr th {\n        vertical-align: top;\n    }\n\n    .dataframe thead th {\n        text-align: right;\n    }\n</style>\n<table border=\"1\" class=\"dataframe\">\n  <thead>\n    <tr style=\"text-align: right;\">\n      <th></th>\n      <th>국적코드</th>\n      <th>국적명</th>\n    </tr>\n  </thead>\n  <tbody>\n    <tr>\n      <th>0</th>\n      <td>A01</td>\n      <td>일본</td>\n    </tr>\n    <tr>\n      <th>1</th>\n      <td>A02</td>\n      <td>대만</td>\n    </tr>\n    <tr>\n      <th>2</th>\n      <td>A03</td>\n      <td>홍콩</td>\n    </tr>\n    <tr>\n      <th>3</th>\n      <td>A18</td>\n      <td>중국</td>\n    </tr>\n    <tr>\n      <th>4</th>\n      <td>A19</td>\n      <td>이란</td>\n    </tr>\n    <tr>\n      <th>5</th>\n      <td>A22</td>\n      <td>우즈베키스탄</td>\n    </tr>\n    <tr>\n      <th>6</th>\n      <td>A23</td>\n      <td>카자흐스탄</td>\n    </tr>\n    <tr>\n      <th>7</th>\n      <td>A99</td>\n      <td>아시아 기타</td>\n    </tr>\n  </tbody>\n</table>\n</div>"
     },
     "metadata": {},
     "execution_count": 30
    }
   ],
   "source": [
    "#데이터 통합 - 옆으로 통합(merge)\n",
    "#지금까지 국적이 코드로 표현돼 있어 실제로 어느 나라에 대한 입국객수인지 알 수가 없다. \n",
    "#이번에는 엑셀에서의 vloopup함수로 처리했던 작업을 파이썬에서 어떻게 처리하는지 살펴본다. \n",
    "code_master = pd.read_excel('c:\\\\work\\\\sample_codemaster.xlsx')\n",
    "code_master"
   ]
  },
  {
   "cell_type": "code",
   "execution_count": 31,
   "metadata": {},
   "outputs": [
    {
     "output_type": "execute_result",
     "data": {
      "text/plain": [
       "  국적코드  성별    입국객수     기준년월  국적명\n",
       "0  A01  남성  106320  2019-11   일본\n",
       "1  A01  여성  191436  2019-11   일본\n",
       "2  A31  남성     319  2019-11  NaN\n",
       "3  A31  여성      42  2019-11  NaN\n",
       "4  A18  남성  158912  2019-11   중국\n",
       "5  A18  여성  232943  2019-11   중국"
      ],
      "text/html": "<div>\n<style scoped>\n    .dataframe tbody tr th:only-of-type {\n        vertical-align: middle;\n    }\n\n    .dataframe tbody tr th {\n        vertical-align: top;\n    }\n\n    .dataframe thead th {\n        text-align: right;\n    }\n</style>\n<table border=\"1\" class=\"dataframe\">\n  <thead>\n    <tr style=\"text-align: right;\">\n      <th></th>\n      <th>국적코드</th>\n      <th>성별</th>\n      <th>입국객수</th>\n      <th>기준년월</th>\n      <th>국적명</th>\n    </tr>\n  </thead>\n  <tbody>\n    <tr>\n      <th>0</th>\n      <td>A01</td>\n      <td>남성</td>\n      <td>106320</td>\n      <td>2019-11</td>\n      <td>일본</td>\n    </tr>\n    <tr>\n      <th>1</th>\n      <td>A01</td>\n      <td>여성</td>\n      <td>191436</td>\n      <td>2019-11</td>\n      <td>일본</td>\n    </tr>\n    <tr>\n      <th>2</th>\n      <td>A31</td>\n      <td>남성</td>\n      <td>319</td>\n      <td>2019-11</td>\n      <td>NaN</td>\n    </tr>\n    <tr>\n      <th>3</th>\n      <td>A31</td>\n      <td>여성</td>\n      <td>42</td>\n      <td>2019-11</td>\n      <td>NaN</td>\n    </tr>\n    <tr>\n      <th>4</th>\n      <td>A18</td>\n      <td>남성</td>\n      <td>158912</td>\n      <td>2019-11</td>\n      <td>중국</td>\n    </tr>\n    <tr>\n      <th>5</th>\n      <td>A18</td>\n      <td>여성</td>\n      <td>232943</td>\n      <td>2019-11</td>\n      <td>중국</td>\n    </tr>\n  </tbody>\n</table>\n</div>"
     },
     "metadata": {},
     "execution_count": 31
    }
   ],
   "source": [
    "#왼쪽과 오른쪽 테이블을 어떻게 정할지 지정(left, right)\n",
    "#how는 왼쪽 테이블을 기준으로 두 테이블을 결합한다고 지정\n",
    "#left_on 왼쪽 테이블의 기준 컬럼은 국적코드다.\n",
    "#right_on 오른쪽 테이블의 기준 컬럼은 국적코드다. \n",
    "sample_1_code = pd.merge(left = sample_1,\n",
    "    right = code_master,\n",
    "    how = 'left',\n",
    "    left_on = '국적코드',\n",
    "    right_on = '국적코드')\n",
    "sample_1_code"
   ]
  },
  {
   "cell_type": "code",
   "execution_count": 32,
   "metadata": {},
   "outputs": [
    {
     "output_type": "execute_result",
     "data": {
      "text/plain": [
       "  국적코드  성별    입국객수     기준년월 국적명\n",
       "0  A01  남성  106320  2019-11  일본\n",
       "1  A01  여성  191436  2019-11  일본\n",
       "2  A18  남성  158912  2019-11  중국\n",
       "3  A18  여성  232943  2019-11  중국"
      ],
      "text/html": "<div>\n<style scoped>\n    .dataframe tbody tr th:only-of-type {\n        vertical-align: middle;\n    }\n\n    .dataframe tbody tr th {\n        vertical-align: top;\n    }\n\n    .dataframe thead th {\n        text-align: right;\n    }\n</style>\n<table border=\"1\" class=\"dataframe\">\n  <thead>\n    <tr style=\"text-align: right;\">\n      <th></th>\n      <th>국적코드</th>\n      <th>성별</th>\n      <th>입국객수</th>\n      <th>기준년월</th>\n      <th>국적명</th>\n    </tr>\n  </thead>\n  <tbody>\n    <tr>\n      <th>0</th>\n      <td>A01</td>\n      <td>남성</td>\n      <td>106320</td>\n      <td>2019-11</td>\n      <td>일본</td>\n    </tr>\n    <tr>\n      <th>1</th>\n      <td>A01</td>\n      <td>여성</td>\n      <td>191436</td>\n      <td>2019-11</td>\n      <td>일본</td>\n    </tr>\n    <tr>\n      <th>2</th>\n      <td>A18</td>\n      <td>남성</td>\n      <td>158912</td>\n      <td>2019-11</td>\n      <td>중국</td>\n    </tr>\n    <tr>\n      <th>3</th>\n      <td>A18</td>\n      <td>여성</td>\n      <td>232943</td>\n      <td>2019-11</td>\n      <td>중국</td>\n    </tr>\n  </tbody>\n</table>\n</div>"
     },
     "metadata": {},
     "execution_count": 32
    }
   ],
   "source": [
    "#NaN값이 출력되서 만약 양쪽 테이블에서 공통으로 존재하는 경우에 대해 출력하고 싶다면 \n",
    "#how = inner는 두 테이블의 기준 컬럼의 값이 서로 일치하는 경우에만 데이터를 통합하는 옵션이다. \n",
    "sample_1_code_inner = pd.merge(left = sample_1, \n",
    "    right = code_master,\n",
    "    how = 'inner',\n",
    "    left_on = '국적코드',\n",
    "    right_on = '국적코드')\n",
    "sample_1_code_inner "
   ]
  },
  {
   "cell_type": "code",
   "execution_count": 34,
   "metadata": {},
   "outputs": [
    {
     "output_type": "execute_result",
     "data": {
      "text/plain": [
       "  국적코드  성별    입국객수     기준년월 국적명\n",
       "0  A01  남성   92556  2019-12  일본\n",
       "1  A01  여성  163737  2019-12  일본\n",
       "2  A18  남성  155540  2019-12  중국\n",
       "3  A18  여성  249023  2019-12  중국"
      ],
      "text/html": "<div>\n<style scoped>\n    .dataframe tbody tr th:only-of-type {\n        vertical-align: middle;\n    }\n\n    .dataframe tbody tr th {\n        vertical-align: top;\n    }\n\n    .dataframe thead th {\n        text-align: right;\n    }\n</style>\n<table border=\"1\" class=\"dataframe\">\n  <thead>\n    <tr style=\"text-align: right;\">\n      <th></th>\n      <th>국적코드</th>\n      <th>성별</th>\n      <th>입국객수</th>\n      <th>기준년월</th>\n      <th>국적명</th>\n    </tr>\n  </thead>\n  <tbody>\n    <tr>\n      <th>0</th>\n      <td>A01</td>\n      <td>남성</td>\n      <td>92556</td>\n      <td>2019-12</td>\n      <td>일본</td>\n    </tr>\n    <tr>\n      <th>1</th>\n      <td>A01</td>\n      <td>여성</td>\n      <td>163737</td>\n      <td>2019-12</td>\n      <td>일본</td>\n    </tr>\n    <tr>\n      <th>2</th>\n      <td>A18</td>\n      <td>남성</td>\n      <td>155540</td>\n      <td>2019-12</td>\n      <td>중국</td>\n    </tr>\n    <tr>\n      <th>3</th>\n      <td>A18</td>\n      <td>여성</td>\n      <td>249023</td>\n      <td>2019-12</td>\n      <td>중국</td>\n    </tr>\n  </tbody>\n</table>\n</div>"
     },
     "metadata": {},
     "execution_count": 34
    }
   ],
   "source": [
    "#데이터 통합 - 아래로 통합(append)\n",
    "#월별로 관리, 년간관리하는 파일들을 통합하는 경우\n",
    "sample_2 = pd.read_excel('c:\\\\work\\\\sample_2.xlsx', header=1,\n",
    "    skipfooter=2,usecols='A:C')\n",
    "sample_2['기준년월'] = '2019-12'\n",
    "sample_2_code = pd.merge(left=sample_2, \n",
    "        right = code_master,\n",
    "        how = 'left',\n",
    "        left_on = '국적코드',\n",
    "        right_on = '국적코드')\n",
    "sample_2_code "
   ]
  },
  {
   "cell_type": "code",
   "execution_count": 35,
   "metadata": {},
   "outputs": [
    {
     "output_type": "execute_result",
     "data": {
      "text/plain": [
       "  국적코드  성별    입국객수     기준년월  국적명\n",
       "0  A01  남성  106320  2019-11   일본\n",
       "1  A01  여성  191436  2019-11   일본\n",
       "2  A31  남성     319  2019-11  NaN\n",
       "3  A31  여성      42  2019-11  NaN\n",
       "4  A18  남성  158912  2019-11   중국\n",
       "5  A18  여성  232943  2019-11   중국"
      ],
      "text/html": "<div>\n<style scoped>\n    .dataframe tbody tr th:only-of-type {\n        vertical-align: middle;\n    }\n\n    .dataframe tbody tr th {\n        vertical-align: top;\n    }\n\n    .dataframe thead th {\n        text-align: right;\n    }\n</style>\n<table border=\"1\" class=\"dataframe\">\n  <thead>\n    <tr style=\"text-align: right;\">\n      <th></th>\n      <th>국적코드</th>\n      <th>성별</th>\n      <th>입국객수</th>\n      <th>기준년월</th>\n      <th>국적명</th>\n    </tr>\n  </thead>\n  <tbody>\n    <tr>\n      <th>0</th>\n      <td>A01</td>\n      <td>남성</td>\n      <td>106320</td>\n      <td>2019-11</td>\n      <td>일본</td>\n    </tr>\n    <tr>\n      <th>1</th>\n      <td>A01</td>\n      <td>여성</td>\n      <td>191436</td>\n      <td>2019-11</td>\n      <td>일본</td>\n    </tr>\n    <tr>\n      <th>2</th>\n      <td>A31</td>\n      <td>남성</td>\n      <td>319</td>\n      <td>2019-11</td>\n      <td>NaN</td>\n    </tr>\n    <tr>\n      <th>3</th>\n      <td>A31</td>\n      <td>여성</td>\n      <td>42</td>\n      <td>2019-11</td>\n      <td>NaN</td>\n    </tr>\n    <tr>\n      <th>4</th>\n      <td>A18</td>\n      <td>남성</td>\n      <td>158912</td>\n      <td>2019-11</td>\n      <td>중국</td>\n    </tr>\n    <tr>\n      <th>5</th>\n      <td>A18</td>\n      <td>여성</td>\n      <td>232943</td>\n      <td>2019-11</td>\n      <td>중국</td>\n    </tr>\n  </tbody>\n</table>\n</div>"
     },
     "metadata": {},
     "execution_count": 35
    }
   ],
   "source": [
    "sample_1_code"
   ]
  },
  {
   "cell_type": "code",
   "execution_count": 36,
   "metadata": {},
   "outputs": [
    {
     "output_type": "execute_result",
     "data": {
      "text/plain": [
       "  국적코드  성별    입국객수     기준년월  국적명\n",
       "0  A01  남성  106320  2019-11   일본\n",
       "1  A01  여성  191436  2019-11   일본\n",
       "2  A31  남성     319  2019-11  NaN\n",
       "3  A31  여성      42  2019-11  NaN\n",
       "4  A18  남성  158912  2019-11   중국\n",
       "5  A18  여성  232943  2019-11   중국\n",
       "6  A01  남성   92556  2019-12   일본\n",
       "7  A01  여성  163737  2019-12   일본\n",
       "8  A18  남성  155540  2019-12   중국\n",
       "9  A18  여성  249023  2019-12   중국"
      ],
      "text/html": "<div>\n<style scoped>\n    .dataframe tbody tr th:only-of-type {\n        vertical-align: middle;\n    }\n\n    .dataframe tbody tr th {\n        vertical-align: top;\n    }\n\n    .dataframe thead th {\n        text-align: right;\n    }\n</style>\n<table border=\"1\" class=\"dataframe\">\n  <thead>\n    <tr style=\"text-align: right;\">\n      <th></th>\n      <th>국적코드</th>\n      <th>성별</th>\n      <th>입국객수</th>\n      <th>기준년월</th>\n      <th>국적명</th>\n    </tr>\n  </thead>\n  <tbody>\n    <tr>\n      <th>0</th>\n      <td>A01</td>\n      <td>남성</td>\n      <td>106320</td>\n      <td>2019-11</td>\n      <td>일본</td>\n    </tr>\n    <tr>\n      <th>1</th>\n      <td>A01</td>\n      <td>여성</td>\n      <td>191436</td>\n      <td>2019-11</td>\n      <td>일본</td>\n    </tr>\n    <tr>\n      <th>2</th>\n      <td>A31</td>\n      <td>남성</td>\n      <td>319</td>\n      <td>2019-11</td>\n      <td>NaN</td>\n    </tr>\n    <tr>\n      <th>3</th>\n      <td>A31</td>\n      <td>여성</td>\n      <td>42</td>\n      <td>2019-11</td>\n      <td>NaN</td>\n    </tr>\n    <tr>\n      <th>4</th>\n      <td>A18</td>\n      <td>남성</td>\n      <td>158912</td>\n      <td>2019-11</td>\n      <td>중국</td>\n    </tr>\n    <tr>\n      <th>5</th>\n      <td>A18</td>\n      <td>여성</td>\n      <td>232943</td>\n      <td>2019-11</td>\n      <td>중국</td>\n    </tr>\n    <tr>\n      <th>6</th>\n      <td>A01</td>\n      <td>남성</td>\n      <td>92556</td>\n      <td>2019-12</td>\n      <td>일본</td>\n    </tr>\n    <tr>\n      <th>7</th>\n      <td>A01</td>\n      <td>여성</td>\n      <td>163737</td>\n      <td>2019-12</td>\n      <td>일본</td>\n    </tr>\n    <tr>\n      <th>8</th>\n      <td>A18</td>\n      <td>남성</td>\n      <td>155540</td>\n      <td>2019-12</td>\n      <td>중국</td>\n    </tr>\n    <tr>\n      <th>9</th>\n      <td>A18</td>\n      <td>여성</td>\n      <td>249023</td>\n      <td>2019-12</td>\n      <td>중국</td>\n    </tr>\n  </tbody>\n</table>\n</div>"
     },
     "metadata": {},
     "execution_count": 36
    }
   ],
   "source": [
    "#두 데이터의 컬럼 순서가 동일한 것을 확인했으니 pd.append()를 사용해서 통합한다. \n",
    "#원래의 인덱스를 사용하지 않으려고 ignore_index = True를 지정함. \n",
    "sample = sample_1_code.append(sample_2_code, ignore_index = True)\n",
    "sample "
   ]
  },
  {
   "cell_type": "code",
   "execution_count": 37,
   "metadata": {},
   "outputs": [
    {
     "output_type": "execute_result",
     "data": {
      "text/plain": [
       "  국적코드  성별    입국객수     기준년월  국적명\n",
       "0  A01  남성  106320  2019-11   일본\n",
       "1  A01  여성  191436  2019-11   일본\n",
       "2  A31  남성     319  2019-11  NaN\n",
       "3  A31  여성      42  2019-11  NaN\n",
       "4  A18  남성  158912  2019-11   중국\n",
       "5  A18  여성  232943  2019-11   중국\n",
       "6  A01  남성   92556  2019-12   일본\n",
       "7  A01  여성  163737  2019-12   일본\n",
       "8  A18  남성  155540  2019-12   중국\n",
       "9  A18  여성  249023  2019-12   중국"
      ],
      "text/html": "<div>\n<style scoped>\n    .dataframe tbody tr th:only-of-type {\n        vertical-align: middle;\n    }\n\n    .dataframe tbody tr th {\n        vertical-align: top;\n    }\n\n    .dataframe thead th {\n        text-align: right;\n    }\n</style>\n<table border=\"1\" class=\"dataframe\">\n  <thead>\n    <tr style=\"text-align: right;\">\n      <th></th>\n      <th>국적코드</th>\n      <th>성별</th>\n      <th>입국객수</th>\n      <th>기준년월</th>\n      <th>국적명</th>\n    </tr>\n  </thead>\n  <tbody>\n    <tr>\n      <th>0</th>\n      <td>A01</td>\n      <td>남성</td>\n      <td>106320</td>\n      <td>2019-11</td>\n      <td>일본</td>\n    </tr>\n    <tr>\n      <th>1</th>\n      <td>A01</td>\n      <td>여성</td>\n      <td>191436</td>\n      <td>2019-11</td>\n      <td>일본</td>\n    </tr>\n    <tr>\n      <th>2</th>\n      <td>A31</td>\n      <td>남성</td>\n      <td>319</td>\n      <td>2019-11</td>\n      <td>NaN</td>\n    </tr>\n    <tr>\n      <th>3</th>\n      <td>A31</td>\n      <td>여성</td>\n      <td>42</td>\n      <td>2019-11</td>\n      <td>NaN</td>\n    </tr>\n    <tr>\n      <th>4</th>\n      <td>A18</td>\n      <td>남성</td>\n      <td>158912</td>\n      <td>2019-11</td>\n      <td>중국</td>\n    </tr>\n    <tr>\n      <th>5</th>\n      <td>A18</td>\n      <td>여성</td>\n      <td>232943</td>\n      <td>2019-11</td>\n      <td>중국</td>\n    </tr>\n    <tr>\n      <th>6</th>\n      <td>A01</td>\n      <td>남성</td>\n      <td>92556</td>\n      <td>2019-12</td>\n      <td>일본</td>\n    </tr>\n    <tr>\n      <th>7</th>\n      <td>A01</td>\n      <td>여성</td>\n      <td>163737</td>\n      <td>2019-12</td>\n      <td>일본</td>\n    </tr>\n    <tr>\n      <th>8</th>\n      <td>A18</td>\n      <td>남성</td>\n      <td>155540</td>\n      <td>2019-12</td>\n      <td>중국</td>\n    </tr>\n    <tr>\n      <th>9</th>\n      <td>A18</td>\n      <td>여성</td>\n      <td>249023</td>\n      <td>2019-12</td>\n      <td>중국</td>\n    </tr>\n  </tbody>\n</table>\n</div>"
     },
     "metadata": {},
     "execution_count": 37
    }
   ],
   "source": [
    "#데이터 저장(Excel)\n",
    "sample"
   ]
  },
  {
   "cell_type": "code",
   "execution_count": 38,
   "metadata": {},
   "outputs": [],
   "source": [
    "#to_excel()을 사용한다.\n",
    "sample.to_excel(\"c:\\\\work\\\\sample.xlsx\")\n"
   ]
  },
  {
   "cell_type": "code",
   "execution_count": 39,
   "metadata": {},
   "outputs": [],
   "source": [
    "#to_excel()을 사용한다.\n",
    "#저장할 때 index번호를 제외하고 저장한다면 \n",
    "sample.to_excel(\"c:\\\\work\\\\sample.xlsx\", index = False) \n",
    "\n"
   ]
  },
  {
   "cell_type": "code",
   "execution_count": 40,
   "metadata": {},
   "outputs": [
    {
     "output_type": "execute_result",
     "data": {
      "text/plain": [
       "기준년월   2019-11   2019-12\n",
       "국적명                     \n",
       "일본    148878.0  128146.5\n",
       "중국    195927.5  202281.5"
      ],
      "text/html": "<div>\n<style scoped>\n    .dataframe tbody tr th:only-of-type {\n        vertical-align: middle;\n    }\n\n    .dataframe tbody tr th {\n        vertical-align: top;\n    }\n\n    .dataframe thead th {\n        text-align: right;\n    }\n</style>\n<table border=\"1\" class=\"dataframe\">\n  <thead>\n    <tr style=\"text-align: right;\">\n      <th>기준년월</th>\n      <th>2019-11</th>\n      <th>2019-12</th>\n    </tr>\n    <tr>\n      <th>국적명</th>\n      <th></th>\n      <th></th>\n    </tr>\n  </thead>\n  <tbody>\n    <tr>\n      <th>일본</th>\n      <td>148878.0</td>\n      <td>128146.5</td>\n    </tr>\n    <tr>\n      <th>중국</th>\n      <td>195927.5</td>\n      <td>202281.5</td>\n    </tr>\n  </tbody>\n</table>\n</div>"
     },
     "metadata": {},
     "execution_count": 40
    }
   ],
   "source": [
    "#데이터 집계(피벗)\n",
    "#values = '입국객수' 피벗테이블 내부에 들어갈 값은 입국객수로 한다. \n",
    "#index = '국적명' 피벗테이블 로우에 국적명을 배치한다. \n",
    "#columns = '기준년월' 피벗테이블 컬럼에 기준년월을 배치한다. \n",
    "#aggfunc = 'mean' 입국객수를 국정명과 기준년월 기준으로 평균을 계산한다. \n",
    "sample_pivot = sample.pivot_table(values = '입국객수',\n",
    "        index = '국적명',\n",
    "        columns = '기준년월',\n",
    "        aggfunc = 'mean')\n",
    "sample_pivot"
   ]
  },
  {
   "cell_type": "code",
   "execution_count": 42,
   "metadata": {},
   "outputs": [
    {
     "output_type": "execute_result",
     "data": {
      "text/plain": [
       "       입국객수\n",
       "국적명        \n",
       "일본   191436\n",
       "중국   249023"
      ],
      "text/html": "<div>\n<style scoped>\n    .dataframe tbody tr th:only-of-type {\n        vertical-align: middle;\n    }\n\n    .dataframe tbody tr th {\n        vertical-align: top;\n    }\n\n    .dataframe thead th {\n        text-align: right;\n    }\n</style>\n<table border=\"1\" class=\"dataframe\">\n  <thead>\n    <tr style=\"text-align: right;\">\n      <th></th>\n      <th>입국객수</th>\n    </tr>\n    <tr>\n      <th>국적명</th>\n      <th></th>\n    </tr>\n  </thead>\n  <tbody>\n    <tr>\n      <th>일본</th>\n      <td>191436</td>\n    </tr>\n    <tr>\n      <th>중국</th>\n      <td>249023</td>\n    </tr>\n  </tbody>\n</table>\n</div>"
     },
     "metadata": {},
     "execution_count": 42
    }
   ],
   "source": [
    "#국적에 따른 최대 입국객수를 알아본다.\n",
    "sample_pivot_2 = sample.pivot_table(values = '입국객수',\n",
    "        index = '국적명',\n",
    "        aggfunc = 'max')\n",
    "sample_pivot_2"
   ]
  },
  {
   "cell_type": "code",
   "execution_count": 44,
   "metadata": {},
   "outputs": [],
   "source": [
    "from selenium import webdriver\n",
    "driver = webdriver.Chrome('c:\\work\\chromedriver.exe')"
   ]
  },
  {
   "cell_type": "code",
   "execution_count": 46,
   "metadata": {},
   "outputs": [],
   "source": [
    "url = 'https://www.naver.com'\n",
    "driver.get(url)"
   ]
  },
  {
   "cell_type": "code",
   "execution_count": 47,
   "metadata": {},
   "outputs": [],
   "source": [
    "html = driver.page_source "
   ]
  },
  {
   "cell_type": "code",
   "execution_count": 5,
   "metadata": {},
   "outputs": [],
   "source": [
    "html = '''\n",
    "<html>\n",
    "    <head>\n",
    "    </head>\n",
    "    <body>\n",
    "        <h1> 우리동네시장</h1>\n",
    "            <div class = 'sale'>\n",
    "                <p id='fruits1' class='fruits'>\n",
    "                    <span class = 'name'> 바나나 </span>\n",
    "                    <span class = 'price'> 3000원 </span>\n",
    "                    <span class = 'inventory'> 500개 </span>\n",
    "                    <span class = 'store'> 가나다상회 </span>\n",
    "                    <a href = 'http://bit.ly/forPlaywithData' > 홈페이지 </a>\n",
    "                </p>\n",
    "            </div>\n",
    "            <div class = 'prepare'>\n",
    "                <p id='fruits2' class='fruits'>\n",
    "                    <span class ='name'> 파인애플 </span>\n",
    "                </p>\n",
    "            </div>\n",
    "    </body>\n",
    "</html>\n",
    "'''\n",
    "\n",
    "from bs4 import BeautifulSoup \n",
    "\n",
    "soup = BeautifulSoup(html, 'html.parser') "
   ]
  },
  {
   "cell_type": "code",
   "execution_count": 6,
   "metadata": {},
   "outputs": [],
   "source": [
    "#태그명으로 찾기\n",
    "tags_span = soup.select('span')\n",
    "tags_p = soup.select('p')\n"
   ]
  },
  {
   "cell_type": "code",
   "execution_count": 7,
   "metadata": {},
   "outputs": [
    {
     "output_type": "execute_result",
     "data": {
      "text/plain": [
       "[<span class=\"price\"> 3000원 </span>]"
      ]
     },
     "metadata": {},
     "execution_count": 7
    }
   ],
   "source": [
    "#id와 class로 찾기\n",
    "# #뒤에 id를 입력해서 찾거나 .뒤에 class를 넣는 방법이 있다. \n",
    "ids_fruits1 = soup.select('#fruits1')\n",
    "class_price = soup.select('.price')\n",
    "#태그가 span이면서 class명이 price인 것을 모두 찾는다. \n",
    "tags_span_class_price = soup.select('span.price')\n",
    "tags_span_class_price"
   ]
  },
  {
   "cell_type": "code",
   "execution_count": 8,
   "metadata": {},
   "outputs": [
    {
     "output_type": "execute_result",
     "data": {
      "text/plain": [
       "[<span class=\"name\"> 바나나 </span>, <span class=\"name\"> 파인애플 </span>]"
      ]
     },
     "metadata": {},
     "execution_count": 8
    }
   ],
   "source": [
    "#상위 구조 활용\n",
    "#정보가 담긴 태그의 속성만으로는 찾기가 어려울 경우 부모 태그 아래에 있는지 등의 정보를 추가해서 찾을 수 있다.\n",
    "#한단계 아래를 의미할 때는 '>'기호를 사용한다. \n",
    "#상위 태그는 부모태그, 하위 태그는 자식 태그라고 부른다. \n",
    "tags_name = soup.select('span.name')\n",
    "tags_name "
   ]
  },
  {
   "cell_type": "code",
   "execution_count": 10,
   "metadata": {},
   "outputs": [
    {
     "output_type": "execute_result",
     "data": {
      "text/plain": [
       "[<span class=\"name\"> 바나나 </span>]"
      ]
     },
     "metadata": {},
     "execution_count": 10
    }
   ],
   "source": [
    "#이때 파인애플은 제외하고 바나나만 찾기 위해 바나나가 속한 부모 태그 정보를 추가한다. \n",
    "#부모 태그를 추가하면 바나나만 출력된다.\n",
    "tags_banana1 = soup.select('#fruits1 > span.name')\n",
    "tags_banana1"
   ]
  },
  {
   "cell_type": "code",
   "execution_count": 11,
   "metadata": {},
   "outputs": [
    {
     "output_type": "stream",
     "name": "stdout",
     "text": [
      "[<span class=\"name\"> 바나나 </span>]\n[<span class=\"name\"> 바나나 </span>]\n"
     ]
    }
   ],
   "source": [
    "#태그 위치로 위치 찾기2 \n",
    "#결과는 동일하지만 첫번째 코드는 상위태그1(div.sale)바로 아래에 있는 상위 태그2(#fruits1)을 찾고,\n",
    "#상위태그2(#fruits1) 바로 아래에 있는 태그(span.name)을 모두 찾았다. \n",
    "#두번째 코드는 상위태그(div.sale) 바로 아래에 있는 태그뿐 아니라 몇 단계 아래의 태그 중에서 태그 정보(span.name)\n",
    "#을 모두 찾았다. \n",
    "tags_banana2 = soup.select('div.sale > #fruits1 > span.name')\n",
    "tags_banana3 = soup.select('div.sale span.name')\n",
    "print(tags_banana2)\n",
    "print(tags_banana3)\n"
   ]
  },
  {
   "cell_type": "code",
   "execution_count": 12,
   "metadata": {},
   "outputs": [
    {
     "output_type": "execute_result",
     "data": {
      "text/plain": [
       "<span class=\"name\"> 바나나 </span>"
      ]
     },
     "metadata": {},
     "execution_count": 12
    }
   ],
   "source": [
    "#태그 그룹에서 하나의 태그만 선택\n",
    "tags = soup.select('span.name')\n",
    "tag_1 = tags[0]\n",
    "tag_1"
   ]
  },
  {
   "cell_type": "code",
   "execution_count": 13,
   "metadata": {},
   "outputs": [
    {
     "output_type": "stream",
     "name": "stdout",
     "text": [
      "<span class=\"name\"> 바나나 </span>\n<span class=\"name\"> 파인애플 </span>\n"
     ]
    }
   ],
   "source": [
    "tags = soup.select('span.name')\n",
    "for tag in tags:\n",
    "    print(tag)"
   ]
  },
  {
   "cell_type": "code",
   "execution_count": 15,
   "metadata": {},
   "outputs": [
    {
     "output_type": "execute_result",
     "data": {
      "text/plain": [
       "'http://bit.ly/forPlaywithData'"
      ]
     },
     "metadata": {},
     "execution_count": 15
    }
   ],
   "source": [
    "#선택한 태그에서 텍스트, 속성값 가져오기\n",
    "tags = soup.select('a')\n",
    "tag = tags[0]\n",
    "content = tag.text \n",
    "content \n",
    "link = tag['href']\n",
    "link "
   ]
  },
  {
   "cell_type": "code",
   "execution_count": 17,
   "metadata": {},
   "outputs": [],
   "source": [
    "#멜론 노래 순위 정보 크롤링\n",
    "from selenium import webdriver\n",
    "driver = webdriver.Chrome('c:\\work\\chromedriver.exe')\n",
    "\n",
    "url = 'https://www.melon.com/chart/index.htm'\n",
    "driver.get(url)\n"
   ]
  },
  {
   "cell_type": "code",
   "execution_count": 18,
   "metadata": {},
   "outputs": [
    {
     "output_type": "stream",
     "name": "stdout",
     "text": [
      "100\n<tr data-song-no=\"33507137\">\n<td><div class=\"wrap t_right\"><input class=\"input_check\" name=\"input_check\" title=\"Butter 곡 선택\" type=\"checkbox\" value=\"33507137\"/></div></td>\n<td><div class=\"wrap\">\n<a class=\"image_typeAll\" href=\"javascript:melon.link.goAlbumDetail('10612483');\" title=\"Butter\">\n<img alt=\"Butter - 페이지 이동\" height=\"60\" onerror=\"WEBPOCIMG.defaultAlbumImg(this);\" src=\"https://cdnimg.melon.co.kr/cm2/album/images/106/12/483/10612483_20210521111412_500.jpg/melon/resize/120/quality/80/optimize\" width=\"60\"/>\n<span class=\"bg_album_frame\"></span>\n</a>\n</div></td>\n<td><div class=\"wrap\">\n<a class=\"btn button_icons type03 song_info\" href=\"javascript:melon.link.goSongDetail('33507137');\" title=\"Butter 곡정보\"><span class=\"none\">곡정보</span></a>\n</div></td>\n<td><div class=\"wrap\">\n<div class=\"wrap_song_info\">\n<div class=\"ellipsis rank01\"><span>\n<a href=\"javascript:melon.play.playSong('19030101',33507137);\" title=\"Butter 재생\">Butter</a>\n</span></div>\n<br/>\n<div class=\"ellipsis rank02\">\n<a href=\"javascript:melon.link.goArtistDetail('672375');\" title=\"방탄소년단 - 페이지 이동\">방탄소년단</a><span class=\"checkEllipsis\" style=\"display: none;\"><a href=\"javascript:melon.link.goArtistDetail('672375');\" title=\"방탄소년단 - 페이지 이동\">방탄소년단</a></span>\n</div>\n</div>\n</div></td>\n<td><div class=\"wrap\">\n<div class=\"wrap_song_info\">\n<div class=\"ellipsis rank03\">\n<a href=\"javascript:melon.link.goAlbumDetail('10612483');\" title=\"Butter - 페이지 이동\">Butter</a>\n</div>\n</div>\n</div></td>\n<td><div class=\"wrap\">\n<button class=\"button_etc like\" data-song-menuid=\"19030101\" data-song-no=\"33507137\" title=\"Butter 좋아요\" type=\"button\"><span class=\"odd_span\">좋아요</span>\n<span class=\"cnt\">\n<span class=\"none\">총건수</span>\n163,116</span></button>\n</div></td>\n<td><div class=\"wrap t_center\">\n<button class=\"button_icons play\" onclick=\"melon.play.playSong('19030101',33507137);\" title=\"듣기\" type=\"button\"><span class=\"none\">듣기</span></button>\n</div></td>\n<td><div class=\"wrap t_center\">\n<button class=\"button_icons scrap\" onclick=\"melon.play.addPlayList('33507137');\" title=\"담기\" type=\"button\"><span class=\"none\">담기</span></button>\n</div></td>\n<td><div class=\"wrap t_center\">\n<button class=\"button_icons download\" onclick=\"melon.buy.goBuyProduct('frm', '33507137', '3C0001', '','0', '19030101');\" title=\"다운로드\" type=\"button\"><span class=\"none\">다운로드</span></button>\n</div></td>\n<td><div class=\"wrap t_center\">\n<button class=\"button_icons video\" onclick=\"melon.link.goMvDetail('19030101', '33507137','song');\" title=\"뮤직비디오\" type=\"button\"><span class=\"none\">뮤직비디오</span></button>\n</div></td>\n</tr>\n"
     ]
    }
   ],
   "source": [
    "#첫번째 줄에서 table > tbody > tr을 통해 곡 정보가 포함된 tr태그를 모두 찾았다. \n",
    "from bs4 import BeautifulSoup\n",
    "html = driver.page_source\n",
    "soup = BeautifulSoup(html, 'html.parser')\n",
    "songs = soup.select('table > tbody > tr')\n",
    "print(len(songs))\n",
    "print(songs[0])"
   ]
  },
  {
   "cell_type": "code",
   "execution_count": 22,
   "metadata": {},
   "outputs": [
    {
     "output_type": "execute_result",
     "data": {
      "text/plain": [
       "6"
      ]
     },
     "metadata": {},
     "execution_count": 22
    }
   ],
   "source": [
    "#곡 제목찾기\n",
    "#조건에 만족하는 곡의 갯수가 6개\n",
    "song = songs[0]\n",
    "title = song.select('a')\n",
    "len(title)\n"
   ]
  },
  {
   "cell_type": "code",
   "execution_count": 23,
   "metadata": {},
   "outputs": [
    {
     "output_type": "execute_result",
     "data": {
      "text/plain": [
       "2"
      ]
     },
     "metadata": {},
     "execution_count": 23
    }
   ],
   "source": [
    "#곡 제목찾기2\n",
    "title = song.select('span > a')\n",
    "len(title)"
   ]
  },
  {
   "cell_type": "code",
   "execution_count": 24,
   "metadata": {},
   "outputs": [
    {
     "output_type": "execute_result",
     "data": {
      "text/plain": [
       "1"
      ]
     },
     "metadata": {},
     "execution_count": 24
    }
   ],
   "source": [
    "#곡 제목찾기3\n",
    "title = song.select('div.ellipsis.rank01 > span > a')\n",
    "len(title)"
   ]
  },
  {
   "cell_type": "code",
   "execution_count": 25,
   "metadata": {},
   "outputs": [
    {
     "output_type": "execute_result",
     "data": {
      "text/plain": [
       "'Butter'"
      ]
     },
     "metadata": {},
     "execution_count": 25
    }
   ],
   "source": [
    "#곡 제목 가져오기\n",
    "title = song.select('div.ellipsis.rank01 > span > a')[0].text \n",
    "title"
   ]
  },
  {
   "cell_type": "code",
   "execution_count": 26,
   "metadata": {},
   "outputs": [
    {
     "output_type": "execute_result",
     "data": {
      "text/plain": [
       "'방탄소년단'"
      ]
     },
     "metadata": {},
     "execution_count": 26
    }
   ],
   "source": [
    "#가수 정보 가져오기\n",
    "singer = song.select('div.ellipsis.rank02 > a')[0].text \n",
    "singer"
   ]
  },
  {
   "cell_type": "code",
   "execution_count": 28,
   "metadata": {},
   "outputs": [
    {
     "output_type": "stream",
     "name": "stdout",
     "text": [
      "Butter|방탄소년단\n",
      "Dun Dun Dance|오마이걸 (OH MY GIRL)\n",
      "헤픈 우연|헤이즈 (Heize)\n",
      "Peaches (Feat. Daniel Caesar & Giveon)|Justin Bieber\n",
      "Next Level|aespa\n",
      "롤린 (Rollin')|브레이브걸스\n",
      "라일락|아이유\n",
      "상상더하기|MSG워너비 TOP 8 (별루지, 김정수, 강창모, 정기석, 이동휘, 이상이, 박재정, 원슈타인)\n",
      "운전만해 (We Ride)|브레이브걸스\n",
      "Celebrity|아이유\n",
      "Dynamite|방탄소년단\n",
      "ASAP|STAYC(스테이씨)\n",
      "Timeless|SG 워너비\n",
      "상상더하기|라붐 (LABOUM)\n",
      "마.피.아. In the morning|ITZY (있지)\n",
      "내 손을 잡아|아이유\n",
      "라라라|SG 워너비\n",
      "사이렌 Remix (Feat. UNEDUCATED KID, Paul Blanco)|호미들\n",
      "멜로디|ASH ISLAND\n",
      "밝게 빛나는 별이 되어 비춰줄게|송이한\n",
      "내사람|SG 워너비\n",
      "LOVE DAY (2021) (바른연애 길잡이 X 양요섭, 정은지)|양요섭\n",
      "Coin|아이유\n",
      "밤하늘의 별을(2020)|경서\n",
      "On The Ground|로제 (ROSÉ)\n",
      "체념|정상동기 (김정수, 정기석, 이동휘, 이상이)\n",
      "Savage Love (Laxed - Siren Beat) (BTS Remix)|Jawsh 685\n",
      "잠이 오질 않네요|장범준\n",
      "어푸 (Ah puh)|아이유\n",
      "Lovesick Girls|BLACKPINK\n",
      "취기를 빌려 (취향저격 그녀 X 산들)|산들\n",
      "Blueming|아이유\n",
      "에잇(Prod.&Feat. SUGA of BTS)|아이유\n",
      "그냥 안아달란 말야|다비치\n",
      "VVS (Feat. JUSTHIS) (Prod. GroovyRoom)|미란이 (Mirani)\n",
      "나랑 같이 걸을래 (바른연애 길잡이 X 적재)|적재\n",
      "작은 것들을 위한 시 (Boy With Luv) (Feat. Halsey)|방탄소년단\n",
      "Dolphin|오마이걸 (OH MY GIRL)\n",
      "추억은 만남보다 이별에 남아|정동하\n",
      "Life Goes On|방탄소년단\n",
      "12:45 (Stripped)|Etham\n",
      "어떻게 이별까지 사랑하겠어, 널 사랑하는 거지|AKMU (악동뮤지션)\n",
      "그날에 나는 맘이 편했을까|이예준\n",
      "봄날|방탄소년단\n",
      "흔들리는 꽃들 속에서 네 샴푸향이 느껴진거야|장범준\n",
      "살다가|SG 워너비\n",
      "오래된 노래|스탠딩 에그\n",
      "만약에|M.O.M (별루지, 강창모, 박재정, 원슈타인)\n",
      "2002|Anne-Marie\n",
      "METEOR|창모 (CHANGMO)\n",
      "이 밤을 빌려 말해요 (바른연애 길잡이 X 10CM)|10CM\n",
      "모든 날, 모든 순간 (Every day, Every Moment)|폴킴\n",
      "Off My Face|Justin Bieber\n",
      "살짝 설렜어 (Nonstop)|오마이걸 (OH MY GIRL)\n",
      "너의 번호를 누르고 (Prod. 영화처럼)|#안녕\n",
      "아로하|조정석\n",
      "어떻게 지내 (Prod. By VAN.C)|오반 (OVAN)\n",
      "힘든 건 사랑이 아니다|임창정\n",
      "사실 나는 (Feat.전건호)|경서예지\n",
      "오늘도 빛나는 너에게 (To You My Light) (Feat.이라온)|마크툽 (MAKTUB)\n",
      "이렇게 좋아해 본 적이 없어요|CHEEZE (치즈)\n",
      "맛 (Hot Sauce)|NCT DREAM\n",
      "Memories|Maroon 5\n",
      "너의 발걸음에 빛을 비춰줄게 (Prod. 조영수)|케이시 (Kassy)\n",
      "늦은 밤 너의 집 앞 골목길에서|노을\n",
      "How You Like That|BLACKPINK\n",
      "처음처럼 (Feat. 개리)|헤이즈 (Heize)\n",
      "I Love U|성시경\n",
      "If You Love Me (Feat. 주헌 (몬스타엑스))|NS 윤지\n",
      "이제 나만 믿어요|임영웅\n",
      "아이와 나의 바다|아이유\n",
      "Dance Monkey|Tones And I\n",
      "마음을 드려요|아이유\n",
      "서울의 잠 못 이루는 밤 (Feat. 이수현)|10CM\n",
      "기다릴게|하동균\n",
      "봄 안녕 봄|아이유\n",
      "내 마음이 움찔했던 순간 (취향저격 그녀 X 규현)|규현 (KYUHYUN)\n",
      "고백 (바른연애 길잡이 X 허각)|허각\n",
      "함께 했는데 이별은 나 혼자인 거야|소정 (레이디스 코드)\n",
      "Love poem|아이유\n",
      "Paris In The Rain|Lauv\n",
      "너를 만나|폴킴\n",
      "When We Disco (Duet with 선미)|박진영\n",
      "우린 어쩌다 헤어진 걸까|허각\n",
      "우리 왜 헤어져야 해|신예영\n",
      "시작|가호 (Gaho)\n",
      "Don't Start Now|Dua Lipa\n",
      "Flu|아이유\n",
      "거짓말이라도 해서 널 보고싶어|백지영\n",
      "Maniac|Conan Gray\n",
      "Downtown Baby|블루 (BLOO)\n",
      "서면역에서|순순희\n",
      "내일이 오면 (Feat. 기리보이, BIG Naughty (서동현))|릴보이 (lIlBOI)\n",
      "감기 (Feat. 창모)|헤이즈 (Heize)\n",
      "혼술하고 싶은 밤|벤\n",
      "안녕|폴킴\n",
      "벌써일년|반하나\n",
      "죄와벌|SG 워너비\n",
      "친구, 그 오랜시간|정승환\n",
      "되풀이|임창정\n"
     ]
    }
   ],
   "source": [
    "#이번에는 100곡의 노래순위 정보 가져오기\n",
    "for song in songs:\n",
    "    title = song.select('div.ellipsis.rank01 > span >a')[0].text \n",
    "    singer = song.select('div.ellipsis.rank02 > a')[0].text \n",
    "    print(title, singer, sep = \"|\")"
   ]
  },
  {
   "cell_type": "code",
   "execution_count": 29,
   "metadata": {},
   "outputs": [
    {
     "output_type": "stream",
     "name": "stdout",
     "text": [
      "Butter||방탄소년단\n",
      "Dun Dun Dance||오마이걸 (OH MY GIRL)\n",
      "헤픈 우연||헤이즈 (Heize)\n",
      "Peaches (Feat. Daniel Caesar & Giveon)||Justin Bieber\n",
      "Next Level||aespa\n",
      "롤린 (Rollin')||브레이브걸스\n",
      "라일락||아이유\n",
      "상상더하기||MSG워너비 TOP 8 (별루지, 김정수, 강창모, 정기석, 이동휘, 이상이, 박재정, 원슈타인)\n",
      "운전만해 (We Ride)||브레이브걸스\n",
      "Celebrity||아이유\n",
      "Dynamite||방탄소년단\n",
      "ASAP||STAYC(스테이씨)\n",
      "Timeless||SG 워너비\n",
      "상상더하기||라붐 (LABOUM)\n",
      "마.피.아. In the morning||ITZY (있지)\n",
      "내 손을 잡아||아이유\n",
      "라라라||SG 워너비\n",
      "사이렌 Remix (Feat. UNEDUCATED KID, Paul Blanco)||호미들\n",
      "멜로디||ASH ISLAND\n",
      "밝게 빛나는 별이 되어 비춰줄게||송이한\n",
      "내사람||SG 워너비\n",
      "LOVE DAY (2021) (바른연애 길잡이 X 양요섭, 정은지)||양요섭\n",
      "Coin||아이유\n",
      "밤하늘의 별을(2020)||경서\n",
      "On The Ground||로제 (ROSÉ)\n",
      "체념||정상동기 (김정수, 정기석, 이동휘, 이상이)\n",
      "Savage Love (Laxed - Siren Beat) (BTS Remix)||Jawsh 685\n",
      "잠이 오질 않네요||장범준\n",
      "어푸 (Ah puh)||아이유\n",
      "Lovesick Girls||BLACKPINK\n",
      "취기를 빌려 (취향저격 그녀 X 산들)||산들\n",
      "Blueming||아이유\n",
      "에잇(Prod.&Feat. SUGA of BTS)||아이유\n",
      "그냥 안아달란 말야||다비치\n",
      "VVS (Feat. JUSTHIS) (Prod. GroovyRoom)||미란이 (Mirani)\n",
      "나랑 같이 걸을래 (바른연애 길잡이 X 적재)||적재\n",
      "작은 것들을 위한 시 (Boy With Luv) (Feat. Halsey)||방탄소년단\n",
      "Dolphin||오마이걸 (OH MY GIRL)\n",
      "추억은 만남보다 이별에 남아||정동하\n",
      "Life Goes On||방탄소년단\n",
      "12:45 (Stripped)||Etham\n",
      "어떻게 이별까지 사랑하겠어, 널 사랑하는 거지||AKMU (악동뮤지션)\n",
      "그날에 나는 맘이 편했을까||이예준\n",
      "봄날||방탄소년단\n",
      "흔들리는 꽃들 속에서 네 샴푸향이 느껴진거야||장범준\n",
      "살다가||SG 워너비\n",
      "오래된 노래||스탠딩 에그\n",
      "만약에||M.O.M (별루지, 강창모, 박재정, 원슈타인)\n",
      "2002||Anne-Marie\n",
      "METEOR||창모 (CHANGMO)\n",
      "이 밤을 빌려 말해요 (바른연애 길잡이 X 10CM)||10CM\n",
      "모든 날, 모든 순간 (Every day, Every Moment)||폴킴\n",
      "Off My Face||Justin Bieber\n",
      "살짝 설렜어 (Nonstop)||오마이걸 (OH MY GIRL)\n",
      "너의 번호를 누르고 (Prod. 영화처럼)||#안녕\n",
      "아로하||조정석\n",
      "어떻게 지내 (Prod. By VAN.C)||오반 (OVAN)\n",
      "힘든 건 사랑이 아니다||임창정\n",
      "사실 나는 (Feat.전건호)||경서예지\n",
      "오늘도 빛나는 너에게 (To You My Light) (Feat.이라온)||마크툽 (MAKTUB)\n",
      "이렇게 좋아해 본 적이 없어요||CHEEZE (치즈)\n",
      "맛 (Hot Sauce)||NCT DREAM\n",
      "Memories||Maroon 5\n",
      "너의 발걸음에 빛을 비춰줄게 (Prod. 조영수)||케이시 (Kassy)\n",
      "늦은 밤 너의 집 앞 골목길에서||노을\n",
      "How You Like That||BLACKPINK\n",
      "처음처럼 (Feat. 개리)||헤이즈 (Heize)\n",
      "I Love U||성시경\n",
      "If You Love Me (Feat. 주헌 (몬스타엑스))||NS 윤지\n",
      "이제 나만 믿어요||임영웅\n",
      "아이와 나의 바다||아이유\n",
      "Dance Monkey||Tones And I\n",
      "마음을 드려요||아이유\n",
      "서울의 잠 못 이루는 밤 (Feat. 이수현)||10CM\n",
      "기다릴게||하동균\n",
      "봄 안녕 봄||아이유\n",
      "내 마음이 움찔했던 순간 (취향저격 그녀 X 규현)||규현 (KYUHYUN)\n",
      "고백 (바른연애 길잡이 X 허각)||허각\n",
      "함께 했는데 이별은 나 혼자인 거야||소정 (레이디스 코드)\n",
      "Love poem||아이유\n",
      "Paris In The Rain||Lauv\n",
      "너를 만나||폴킴\n",
      "When We Disco (Duet with 선미)||박진영\n",
      "우린 어쩌다 헤어진 걸까||허각\n",
      "우리 왜 헤어져야 해||신예영\n",
      "시작||가호 (Gaho)\n",
      "Don't Start Now||Dua Lipa\n",
      "Flu||아이유\n",
      "거짓말이라도 해서 널 보고싶어||백지영\n",
      "Maniac||Conan Gray\n",
      "Downtown Baby||블루 (BLOO)\n",
      "서면역에서||순순희\n",
      "내일이 오면 (Feat. 기리보이, BIG Naughty (서동현))||릴보이 (lIlBOI)\n",
      "감기 (Feat. 창모)||헤이즈 (Heize)\n",
      "혼술하고 싶은 밤||벤\n",
      "안녕||폴킴\n",
      "벌써일년||반하나\n",
      "죄와벌||SG 워너비\n",
      "친구, 그 오랜시간||정승환\n",
      "되풀이||임창정\n"
     ]
    }
   ],
   "source": [
    "#selenium을 활용한 크롤링\n",
    "#selenium을 사용하면 웹 페이지에 계속 접속한 상태로 정보를 가져온다는 특징이 있다. \n",
    "driver = webdriver.Chrome('c:\\work\\chromedriver.exe')\n",
    "url = 'http://www.melon.com/chart/index.htm'\n",
    "driver.get(url)\n",
    "\n",
    "songs = driver.find_elements_by_css_selector('table > tbody > tr')\n",
    "for song in songs: \n",
    "    title = song.find_elements_by_css_selector('div.ellipsis.rank01 > span > a')[0].text \n",
    "    singer = song.find_elements_by_css_selector('div.ellipsis.rank02 > a')[0].text \n",
    "    print(title, singer, sep=\"||\")"
   ]
  },
  {
   "cell_type": "code",
   "execution_count": 30,
   "metadata": {},
   "outputs": [],
   "source": [
    "#멜론 크롤링 결과를 엑셀로 저장하기 \n",
    "from selenium import webdriver\n",
    "from bs4 import BeautifulSoup\n",
    "\n",
    "driver = webdriver.Chrome('c:\\work\\chromedriver.exe')\n",
    "url = 'http://www.melon.com/chart/index.htm'\n",
    "driver.get(url)\n",
    "\n",
    "html = driver.page_source \n",
    "soup = BeautifulSoup(html, 'html.parser')"
   ]
  },
  {
   "cell_type": "code",
   "execution_count": 31,
   "metadata": {},
   "outputs": [],
   "source": [
    "#반복문을 이용해 곡과 가수명을 song_data에 저장하기\n",
    "song_data = []\n",
    "rank = 1 \n",
    "songs = soup.select('table > tbody > tr')\n",
    "for song in songs:\n",
    "    title = song.select('div.rank01 > span > a')[0].text \n",
    "    singer = song.select('div.rank02 > a')[0].text \n",
    "    song_data.append(['Melon',rank,title,singer])\n",
    "    rank = rank + 1 \n",
    "\n"
   ]
  },
  {
   "cell_type": "code",
   "execution_count": 32,
   "metadata": {},
   "outputs": [
    {
     "output_type": "execute_result",
     "data": {
      "text/plain": [
       "     서비스  순위                                     타이틀                 가수\n",
       "0  Melon   1                                  Butter              방탄소년단\n",
       "1  Melon   2                           Dun Dun Dance  오마이걸 (OH MY GIRL)\n",
       "2  Melon   3                                   헤픈 우연        헤이즈 (Heize)\n",
       "3  Melon   4  Peaches (Feat. Daniel Caesar & Giveon)      Justin Bieber\n",
       "4  Melon   5                              Next Level              aespa"
      ],
      "text/html": "<div>\n<style scoped>\n    .dataframe tbody tr th:only-of-type {\n        vertical-align: middle;\n    }\n\n    .dataframe tbody tr th {\n        vertical-align: top;\n    }\n\n    .dataframe thead th {\n        text-align: right;\n    }\n</style>\n<table border=\"1\" class=\"dataframe\">\n  <thead>\n    <tr style=\"text-align: right;\">\n      <th></th>\n      <th>서비스</th>\n      <th>순위</th>\n      <th>타이틀</th>\n      <th>가수</th>\n    </tr>\n  </thead>\n  <tbody>\n    <tr>\n      <th>0</th>\n      <td>Melon</td>\n      <td>1</td>\n      <td>Butter</td>\n      <td>방탄소년단</td>\n    </tr>\n    <tr>\n      <th>1</th>\n      <td>Melon</td>\n      <td>2</td>\n      <td>Dun Dun Dance</td>\n      <td>오마이걸 (OH MY GIRL)</td>\n    </tr>\n    <tr>\n      <th>2</th>\n      <td>Melon</td>\n      <td>3</td>\n      <td>헤픈 우연</td>\n      <td>헤이즈 (Heize)</td>\n    </tr>\n    <tr>\n      <th>3</th>\n      <td>Melon</td>\n      <td>4</td>\n      <td>Peaches (Feat. Daniel Caesar &amp; Giveon)</td>\n      <td>Justin Bieber</td>\n    </tr>\n    <tr>\n      <th>4</th>\n      <td>Melon</td>\n      <td>5</td>\n      <td>Next Level</td>\n      <td>aespa</td>\n    </tr>\n  </tbody>\n</table>\n</div>"
     },
     "metadata": {},
     "execution_count": 32
    }
   ],
   "source": [
    "#이렇게 수집된 데이터를 데이터프레임으로 만든다.\n",
    "import pandas as pd \n",
    "columns = ['서비스','순위','타이틀','가수']\n",
    "pd_data = pd.DataFrame(song_data, columns=columns)\n",
    "pd_data.head()"
   ]
  },
  {
   "cell_type": "code",
   "execution_count": 33,
   "metadata": {},
   "outputs": [],
   "source": [
    "#크롤링 결과를 엑셀로 저장하기\n",
    "pd_data.to_excel('c:\\work\\melon.xlsx', index=False)"
   ]
  },
  {
   "cell_type": "code",
   "execution_count": 34,
   "metadata": {},
   "outputs": [],
   "source": [
    "#벅스 크롤링 결과를 엑셀에 저장하기\n",
    "from selenium import webdriver\n",
    "from bs4 import BeautifulSoup\n",
    "\n",
    "driver = webdriver.Chrome('c:\\work\\chromedriver.exe')\n",
    "url = 'https://music.bugs.co.kr/chart'\n",
    "driver.get(url)\n",
    "\n",
    "html = driver.page_source \n",
    "soup = BeautifulSoup(html, 'html.parser')"
   ]
  },
  {
   "cell_type": "code",
   "execution_count": 35,
   "metadata": {},
   "outputs": [
    {
     "output_type": "stream",
     "name": "stdout",
     "text": [
      "104\n"
     ]
    }
   ],
   "source": [
    "#tr태그로 곡 정보 찾기1\n",
    "songs = soup.select('tr')\n",
    "print(len(songs))"
   ]
  },
  {
   "cell_type": "code",
   "execution_count": 36,
   "metadata": {},
   "outputs": [
    {
     "output_type": "stream",
     "name": "stdout",
     "text": [
      "103\n"
     ]
    }
   ],
   "source": [
    "#tr태그로 곡 정보 찾기 2 \n",
    "songs = soup.select('tbody > tr')\n",
    "print(len(songs))"
   ]
  },
  {
   "cell_type": "code",
   "execution_count": 37,
   "metadata": {},
   "outputs": [
    {
     "output_type": "stream",
     "name": "stdout",
     "text": [
      "100\n"
     ]
    }
   ],
   "source": [
    "#이번에는 table태그에 있는 byChart라는 class이름을 지정해 출력해 본다. \n",
    "songs = soup.select('table.byChart > tbody > tr')\n",
    "print(len(songs))"
   ]
  },
  {
   "cell_type": "code",
   "execution_count": 38,
   "metadata": {},
   "outputs": [
    {
     "output_type": "stream",
     "name": "stdout",
     "text": [
      "<tr albumid=\"20398006\" artistid=\"80079394\" multiartist=\"N\" mvid=\"594864\" rowtype=\"track\" trackid=\"32238640\">\n<input name=\"_isStream\" type=\"hidden\" value=\"32238640\"/>\n<input name=\"_isDown\" type=\"hidden\" value=\"32238640\"/>\n<td class=\"check\"><input buyminquality=\"T\" disc_id=\"1\" name=\"check\" title=\"Butter\" type=\"checkbox\" value=\"32238640\"/></td>\n<td>\n<div class=\"ranking\">\n<strong>1</strong>\n<p class=\"change none\"><em>0</em><span>변동없음</span></p>\n</div>\n</td>\n<td>\n<a class=\"thumbnail\" href=\"https://music.bugs.co.kr/album/20398006?wl_ref=list_tr_07_chart\" onclick=\"\n\">\n<span class=\"mask\"></span>\n<img alt=\"Butter 대표이미지\" onerror=\"bugs.utils.imgError(this);\" src=\"https://image.bugsm.co.kr/album/images/50/203980/20398006.jpg?version=20210529222035.0\"/>\n</a>\n</td>\n<td>\n<a class=\"trackInfo\" href=\"https://music.bugs.co.kr/track/32238640?wl_ref=list_tr_08_chart\" onclick=\"\n\">곡정보</a>\n</td>\n<th scope=\"row\">\n<p adult_yn=\"N\" class=\"title\">\n<a adultcheckval=\"1\" aria-label=\"새창\" href=\"javascript:;\" onclick=\"bugs.wiselog.area('list_tr_09_chart');bugs.music.listen('32238640',true);\n\" title=\"Butter\">Butter</a>\n</p>\n</th>\n<td class=\"left\">\n<p class=\"artist\">\n<a href=\"https://music.bugs.co.kr/artist/80079394?wl_ref=list_tr_10_chart\" onclick=\"\n\" title=\"방탄소년단\">방탄소년단</a>\n</p>\n</td>\n<td class=\"left\">\n<a class=\"album\" href=\"https://music.bugs.co.kr/album/20398006?wl_ref=list_tr_11_chart\" onclick=\"\n\" title=\"Butter\">Butter</a>\n</td>\n<td>\n<a adultcheckval=\"1\" aria-label=\"새창\" class=\"btn play\" href=\"javascript:;\" onclick=\"bugs.wiselog.area('list_tr_12_chart');bugs.music.listen('32238640',true);\n\">듣기</a>\n</td>\n<td>\n<a adultcheckval=\"1\" aria-label=\"새창\" class=\"btn addPlaylist\" href=\"javascript:;\" onclick=\"bugs.wiselog.area('list_tr_13_chart');bugs.music.listen('32238640');\n\">재생목록에 추가</a>\n</td>\n<td>\n<a class=\"btn addAlbum\" href=\"javascript:;\" onclick=\"bugs.wiselog.area('list_tr_14_chart');bugs.music.addTrackToMyAlbum(this,'32238640');\n\" track_title=\"Butter\">내 앨범에 담기</a>\n</td>\n<td>\n<a adultcheckval=\"1\" aria-label=\"새창\" class=\"btn download flac\" href=\"javascript:;\" onclick=\"bugs.wiselog.area('list_tr_15_chart');bugs.layermenu.down(this,'32238640','true','true','44.1','false','', null );\n\"><em class=\"flac\">flac </em>다운로드</a>\n</td>\n<td>\n<a aria-label=\"새창\" class=\"btn viewMV\" href=\"javascript:;\" onclick=\"bugs.wiselog.area('list_tr_16_chart');\nbugs.layermenu.mv(this,32238640, 594864, 'Y', 'Y', 'Y', 'Y', 32238640, 'N','ALL', 'Y');\n\">영상 재생</a>\n</td>\n<td>\n<a artist_disp_nm=\"방탄소년단\" artist_id=\"80079394\" class=\"btnActions\" href=\"javascript:;\" layer_type=\"CHART\" layerpositiontarget=\"td\" onclick=\"bugs.wiselog.area('list_tr_17_chart');\nbugs.layermenu.trackMoreAction(this,'32238640','0','20398006','bugs.music.listenRadioFromSeed(\\'32238640\\',\\'track\\');','N', 'Y', '_chart');\n\" track_title=\"Butter\">기타 기능</a>\n</td>\n</tr>\n"
     ]
    }
   ],
   "source": [
    "print(songs[0])"
   ]
  },
  {
   "cell_type": "code",
   "execution_count": 39,
   "metadata": {},
   "outputs": [
    {
     "output_type": "execute_result",
     "data": {
      "text/plain": [
       "11"
      ]
     },
     "metadata": {},
     "execution_count": 39
    }
   ],
   "source": [
    "#한개의 곡 정보 지정하기\n",
    "song = songs[0]\n",
    "#벅스 사이트에서 곡 제목 찾기1\n",
    "title = song.select('a')\n",
    "len(title)"
   ]
  },
  {
   "cell_type": "code",
   "execution_count": 40,
   "metadata": {},
   "outputs": [
    {
     "output_type": "execute_result",
     "data": {
      "text/plain": [
       "2"
      ]
     },
     "metadata": {},
     "execution_count": 40
    }
   ],
   "source": [
    "title = song.select('p > a')\n",
    "len(title)"
   ]
  },
  {
   "cell_type": "code",
   "execution_count": 41,
   "metadata": {},
   "outputs": [
    {
     "output_type": "execute_result",
     "data": {
      "text/plain": [
       "1"
      ]
     },
     "metadata": {},
     "execution_count": 41
    }
   ],
   "source": [
    "#벅스 사이트에서 곡 제목 찾기3\n",
    "title = song.select('p.title > a')\n",
    "len(title)"
   ]
  },
  {
   "cell_type": "code",
   "execution_count": 42,
   "metadata": {},
   "outputs": [
    {
     "output_type": "execute_result",
     "data": {
      "text/plain": [
       "'Butter'"
      ]
     },
     "metadata": {},
     "execution_count": 42
    }
   ],
   "source": [
    "#벅스 사이트에서 곡 제목 출력하기\n",
    "title = song.select('p.title > a')[0].text \n",
    "title"
   ]
  },
  {
   "cell_type": "code",
   "execution_count": 46,
   "metadata": {},
   "outputs": [
    {
     "output_type": "execute_result",
     "data": {
      "text/plain": [
       "'방탄소년단'"
      ]
     },
     "metadata": {},
     "execution_count": 46
    }
   ],
   "source": [
    "#가수 이름 출력하기\n",
    "singer = song.select('p.artist > a')[0].text.strip()\n",
    "singer"
   ]
  },
  {
   "cell_type": "code",
   "execution_count": 47,
   "metadata": {},
   "outputs": [
    {
     "output_type": "stream",
     "name": "stdout",
     "text": [
      "Butter|방탄소년단\n",
      "Next Level|aespa\n",
      "Dun Dun Dance|오마이걸(OH MY GIRL)\n",
      "Given-Taken|ENHYPEN\n",
      "헤픈 우연|헤이즈(Heize)\n",
      "피날레 (Show And Prove)|비투비\n",
      "Friend|비투비\n",
      "그리워하다|비투비\n",
      "ASAP|STAYC(스테이씨)\n",
      "Show Your Love|비투비 포유\n",
      "Blue Moon|비투비\n",
      "너 없인 안 된다|비투비\n",
      "상상더하기|MSG워너비 TOP 8 (별루지, 김정수, 강창모, 정기석, 이동휘, 이상이, 박재정, 원슈타인)\n",
      "Peaches (feat. Daniel Caesar, Giveon)|Justin Bieber(저스틴 비버)\n",
      "라일락|아이유(IU)\n",
      "상상더하기|라붐(LABOUM)\n",
      "롤린 (Rollin')|브레이브걸스(Brave Girls)\n",
      "Dynamite|방탄소년단\n",
      "체념|정상동기 (김정수, 정기석, 이동휘, 이상이)\n",
      "운전만해 (We Ride)|브레이브걸스(Brave Girls)\n",
      "마.피.아. In the morning|ITZY (있지)\n",
      "Celebrity|아이유(IU)\n",
      "Coin|아이유(IU)\n",
      "Kiss Me More (feat. SZA)|Doja Cat(도자 캣)\n",
      "만약에|M.O.M (별루지, 강창모, 박재정, 원슈타인)\n",
      "처음처럼 (Feat. 개리)|헤이즈(Heize)\n",
      "Life Goes On|방탄소년단\n",
      "Je T′aime|조이 (JOY)\n",
      "어푸 (Ah puh)|아이유(IU)\n",
      "내 손을 잡아|아이유(IU)\n",
      "Timeless|SG워너비\n",
      "그냥 안아달란 말야|다비치\n",
      "맛 (Hot Sauce)|NCT DREAM\n",
      "고래 (Dive Into You)|NCT DREAM\n",
      "Off My Face|Justin Bieber(저스틴 비버)\n",
      "모든 날, 모든 순간 (Every day, Every Moment)|폴킴(Paul Kim)\n",
      "감기 (Feat. 창모)|헤이즈(Heize)\n",
      "Savage Love (Laxed - Siren Beat) (BTS Remix)|Jawsh 685\n",
      "I Love U|성시경\n",
      "미안해 널 사랑해 (Feat. 김필)|헤이즈(Heize)\n",
      "서울의 잠 못 이루는 밤 (Feat. 이수현)|10CM\n",
      "Beautiful Mistakes|Maroon 5(마룬 파이브)\n",
      "parachute|John K\n",
      "4EVERYTHING|Ace Hashimoto\n",
      "Bad Habits|Ace Hashimoto\n",
      "At My Worst|Pink Sweat$\n",
      "Lovesick Girls|BLACKPINK\n",
      "On The Ground|로제(ROSÉ)\n",
      "벌써일년|반하나\n",
      "에잇(Prod.&Feat. SUGA of BTS)|아이유(IU)\n",
      "Blueming|아이유(IU)\n",
      "Leave The Door Open|Bruno Mars(브루노 마스)\n",
      "Advice|태민 (TAEMIN)\n",
      "멜로디|ASH ISLAND\n",
      "라라라|SG워너비\n",
      "Black Mamba|aespa\n",
      "어떻게 이별까지 사랑하겠어, 널 사랑하는 거지|AKMU (악동뮤지션)\n",
      "Dolphin|오마이걸(OH MY GIRL)\n",
      "사이렌 Remix (Feat. UNEDUCATED KID, Paul Blanco)|호미들\n",
      "이렇게 좋아해 본 적이 없어요|CHEEZE(치즈)\n",
      "작은 것들을 위한 시 (Boy With Luv) (Feat. Halsey)|방탄소년단\n",
      "If You Love Me (Feat. 주헌 (몬스타엑스))|NS Yoon-G\n",
      "흔들리는 꽃들 속에서 네 샴푸향이 느껴진거야|장범준\n",
      "내사람: Partner For Life|SG워너비\n",
      "2002|Anne-Marie(앤 마리)\n",
      "Like 1999|Valley\n",
      "밤하늘의 별을(2020)|경서\n",
      "살짝 설렜어 (Nonstop)|오마이걸(OH MY GIRL)\n",
      "빗물에게 들으니 (Feat. 안예은)|헤이즈(Heize)\n",
      "Not For Sale|ENHYPEN\n",
      "WE GO|프로미스나인\n",
      "잠이 오질 않네요|장범준\n",
      "LOVE DAY (2021) (바른연애 길잡이 X 양요섭, 정은지)|양요섭\n",
      "12:45 (Stripped)|Etham\n",
      "친구, 그 오랜시간|정승환\n",
      "밝게 빛나는 별이 되어 비춰줄게|송이한\n",
      "나랑 같이 걸을래 (바른연애 길잡이 X 적재)|적재\n",
      "KINGDOM COME|더보이즈(THE BOYZ)\n",
      "아이와 나의 바다|아이유(IU)\n",
      "우리 한 때 사랑한 건|성시경\n",
      "BOMAYE|실키보이즈(SILKYBOIS)\n",
      "밤편지|아이유(IU)\n",
      "Butter (Hotter Remix)|방탄소년단\n",
      "봄날|방탄소년단\n",
      "닫힌엔딩 (Closed Ending)|숀(SHAUN)\n",
      "너를 사랑했던 시간|성시경\n",
      "신호등|이무진\n",
      "불어온다|하이라이트(Highlight)\n",
      "WOLFGANG|Stray Kids (스트레이 키즈)\n",
      "너의 발걸음에 빛을 비춰줄게 (Prod. 조영수)|케이시\n",
      "이 밤을 빌려 말해요 (바른연애 길잡이 X 10CM)|10CM\n",
      "살다가|SG워너비\n",
      "Drunk-Dazed|ENHYPEN\n",
      "별빛 같은 나의 사랑아|임영웅\n",
      "Don't Start Now|Dua Lipa(두아 리파)\n",
      "오래된 노래|스탠딩 에그(Standing Egg)\n",
      "취기를 빌려 (취향저격 그녀 X 산들)|산들\n",
      "Save Your Tears (Remix)|The Weeknd(위켄드)\n",
      "Summer|The Volunteers (더 발룬티어스)\n",
      "Flicker|ENHYPEN\n"
     ]
    }
   ],
   "source": [
    "#벅스 100위 노래 순위 가져오기\n",
    "songs = soup.select('table.byChart > tbody > tr')\n",
    "for song in songs:\n",
    "    title = song.select('p.title > a')[0].text \n",
    "    singer = song.select('p.artist > a')[0].text \n",
    "    print(title, singer, sep=\"|\")"
   ]
  },
  {
   "cell_type": "code",
   "execution_count": 48,
   "metadata": {},
   "outputs": [],
   "source": [
    "#반복문으로 곡과 가수명을 song_data에 저장하기\n",
    "song_data = []\n",
    "rank = 1 \n",
    "songs = soup.select('table.byChart > tbody > tr')\n",
    "for song in songs:\n",
    "    title = song.select('p.title > a')[0].text \n",
    "    singer = song.select('p.artist > a')[0].text \n",
    "    song_data.append(['Bugs', rank, title, singer])\n",
    "    rank = rank + 1 \n",
    "\n",
    "    "
   ]
  },
  {
   "cell_type": "code",
   "execution_count": 49,
   "metadata": {},
   "outputs": [
    {
     "output_type": "stream",
     "name": "stdout",
     "text": [
      "<class 'pandas.core.frame.DataFrame'>\nRangeIndex: 100 entries, 0 to 99\nData columns (total 4 columns):\n #   Column  Non-Null Count  Dtype \n---  ------  --------------  ----- \n 0   서비스     100 non-null    object\n 1   순위      100 non-null    int64 \n 2   타이틀     100 non-null    object\n 3   가수      100 non-null    object\ndtypes: int64(1), object(3)\nmemory usage: 2.0+ KB\n"
     ]
    }
   ],
   "source": [
    "#데이터프레임 반드릭\n",
    "import pandas as pd \n",
    "columns = ['서비스','순위','타이틀','가수']\n",
    "pd_data = pd.DataFrame(song_data, columns = columns)\n",
    "pd_data.info()"
   ]
  },
  {
   "cell_type": "code",
   "execution_count": 51,
   "metadata": {},
   "outputs": [],
   "source": [
    "#엑셀 파일로 저장\n",
    "pd_data.to_excel('c:\\\\work\\\\bugs.xlsx', index=False)\n"
   ]
  },
  {
   "cell_type": "code",
   "execution_count": 54,
   "metadata": {},
   "outputs": [],
   "source": [
    "#지니 크롤링 결과를 엑셀로 저장하기 \n",
    "from selenium import webdriver\n",
    "from bs4 import BeautifulSoup\n",
    "\n",
    "driver = webdriver.Chrome('c:\\work\\chromedriver.exe')\n",
    "url = 'https://www.genie.co.kr/chart/top200'\n",
    "driver.get(url)\n",
    "\n",
    "html = driver.page_source \n",
    "soup = BeautifulSoup(html, 'html.parser')"
   ]
  },
  {
   "cell_type": "code",
   "execution_count": 55,
   "metadata": {},
   "outputs": [
    {
     "output_type": "stream",
     "name": "stdout",
     "text": [
      "50\n"
     ]
    }
   ],
   "source": [
    "songs = soup.select('table > tbody > tr')\n",
    "print(len(songs))"
   ]
  },
  {
   "cell_type": "code",
   "execution_count": 57,
   "metadata": {},
   "outputs": [],
   "source": [
    "#지니 결과 엑셀로 저장하기\n",
    "song_data = []\n",
    "rank = 1 \n",
    "songs = soup.select('tbody > tr')\n",
    "for song in songs: \n",
    "    title = song.select('a.title')[0].text.strip()\n",
    "    singer = song.select('a.artist')[0].text \n",
    "    song_data.append(['Genie',rank,title,singer])\n",
    "    rank = rank + 1 \n",
    "\n",
    "columns = ['서비스','순위','타이틀','가수']\n",
    "pd_data = pd.DataFrame(song_data, columns=columns)\n",
    "pd_data.to_excel('c:\\work\\genie.xlsx', index=False)"
   ]
  },
  {
   "cell_type": "code",
   "execution_count": 59,
   "metadata": {},
   "outputs": [
    {
     "output_type": "stream",
     "name": "stdout",
     "text": [
      "<class 'pandas.core.frame.DataFrame'>\nInt64Index: 250 entries, 0 to 49\nData columns (total 4 columns):\n #   Column  Non-Null Count  Dtype \n---  ------  --------------  ----- \n 0   서비스     250 non-null    object\n 1   순위      250 non-null    int64 \n 2   타이틀     250 non-null    object\n 3   가수      250 non-null    object\ndtypes: int64(1), object(3)\nmemory usage: 6.8+ KB\n"
     ]
    }
   ],
   "source": [
    "#멜론, 벅스, 지니 크롤링 엑셀 파일 통합하기 \n",
    "import pandas as pd \n",
    "excel_names = ['c:\\\\work\\\\melon.xlsx','c:\\\\work\\\\bugs.xlsx','c:\\\\work\\\\genie.xlsx']\n",
    "appended_data = pd.DataFrame()\n",
    "for name in excel_names:\n",
    "    pd_data = pd.read_excel(name)\n",
    "    appended_data = appended_data.append(pd_data)\n",
    "\n",
    "appended_data.info()"
   ]
  },
  {
   "cell_type": "code",
   "execution_count": 60,
   "metadata": {},
   "outputs": [],
   "source": [
    "#통합한 크롤링 결과를 엑셀 파일로 저장하기\n",
    "appended_data.to_excel('c:\\\\work\\\\total.xlsx', index=False)\n"
   ]
  },
  {
   "cell_type": "code",
   "execution_count": 61,
   "metadata": {},
   "outputs": [],
   "source": [
    "#유튜브 랭킹 데이터 수집하기\n",
    "from selenium import webdriver \n",
    "from bs4 import BeautifulSoup\n",
    "import time \n",
    "import pandas as pd \n",
    "\n",
    "browser = webdriver.Chrome('c:\\\\work\\\\chromedriver.exe')\n",
    "url = 'https://youtube-rank.com/board/bbs/board.php?bo_table=youtube'\n",
    "browser.get(url)\n"
   ]
  },
  {
   "cell_type": "code",
   "execution_count": 63,
   "metadata": {},
   "outputs": [],
   "source": [
    "#페이지 정보 가져오기\n",
    "html = browser.page_source \n",
    "soup = BeautifulSoup(html, 'html.parser')\n"
   ]
  },
  {
   "cell_type": "code",
   "execution_count": 64,
   "metadata": {},
   "outputs": [
    {
     "output_type": "stream",
     "name": "stdout",
     "text": [
      "102 \n\n<tr>\n<th class=\"rank\"><a href=\"/board/bbs/board.php?bo_table=youtube&amp;sop=and&amp;sst=rank&amp;sod=desc&amp;sfl=&amp;stx=&amp;sca=&amp;page=1\">순위 <i aria-hidden=\"true\" class=\"fa fa-sort\"></i></a></th>\n<th class=\"td_img\">이미지</th>\n<th class=\"subject\">제목</th>\n<th class=\"subscriber_cnt\"><a href=\"/board/bbs/board.php?bo_table=youtube&amp;sop=and&amp;sst=subscriber_cnt&amp;sod=desc&amp;sfl=&amp;stx=&amp;sca=&amp;page=1\">구독자순 <i aria-hidden=\"true\" class=\"fa fa-sort\"></i></a></th>\n<th class=\"view_cnt\"><a href=\"/board/bbs/board.php?bo_table=youtube&amp;sop=and&amp;sst=view_cnt&amp;sod=desc&amp;sfl=&amp;stx=&amp;sca=&amp;page=1\">View순 <i aria-hidden=\"true\" class=\"fa fa-sort\"></i></a></th>\n<th class=\"video_cnt\"><a href=\"/board/bbs/board.php?bo_table=youtube&amp;sop=and&amp;sst=video_cnt&amp;sod=desc&amp;sfl=&amp;stx=&amp;sca=&amp;page=1\">Video순 <i aria-hidden=\"true\" class=\"fa fa-sort\"></i></a></th>\n<th class=\"hit\"><a href=\"/board/bbs/board.php?bo_table=youtube&amp;sop=and&amp;sst=wr_hit&amp;sod=desc&amp;sfl=&amp;stx=&amp;sca=&amp;page=1\">조회수 <i aria-hidden=\"true\" class=\"fa fa-sort\"></i></a></th>\n</tr>\n"
     ]
    }
   ],
   "source": [
    "#tr태그 추출하기\n",
    "channel_list = soup.select('tr')\n",
    "print(len(channel_list), '\\n')\n",
    "print(channel_list[0])"
   ]
  },
  {
   "cell_type": "code",
   "execution_count": 65,
   "metadata": {},
   "outputs": [
    {
     "output_type": "stream",
     "name": "stdout",
     "text": [
      "100\n"
     ]
    }
   ],
   "source": [
    "#tr 태그 확인하기\n",
    "channel_list = soup.select('form > table > tbody > tr')\n",
    "print(len(channel_list))"
   ]
  },
  {
   "cell_type": "code",
   "execution_count": 66,
   "metadata": {},
   "outputs": [
    {
     "output_type": "stream",
     "name": "stdout",
     "text": [
      "<tr class=\"aos-init aos-animate\" data-aos=\"fade-up\" data-aos-duration=\"800\">\n<td class=\"rank\">\n                        1                    </td>\n<td class=\"td_img\">\n<div class=\"info_img\"><a href=\"https://youtube-rank.com/board/bbs/board.php?bo_table=youtube&amp;wr_id=3203\"><img class=\"lazyload\" data-src=\"https://yt3.ggpht.com/ytc/AAUvwnheBe2kEkBDitMl_iIGaTiiP4PeG6pO562vu9ch7g=s88-c-k-c0x00ffffff-no-rj-mo\" height=\"88\" src=\"https://yt3.ggpht.com/ytc/AAUvwnheBe2kEkBDitMl_iIGaTiiP4PeG6pO562vu9ch7g=s88-c-k-c0x00ffffff-no-rj-mo\" width=\"88\"/></a></div>\n<p class=\"info_rank\">1</p>\n</td>\n<td class=\"subject\">\n<h1>\n<p <a=\"\" class=\"category\" href=\"https://youtube-rank.com/board/bbs/board.php?bo_table=youtube&amp;sca=%EC%9D%8C%EC%95%85%2F%EB%8C%84%EC%8A%A4%2F%EA%B0%80%EC%88%98\">[음악/댄스/가수]\n                                \n                                </p>\n<a href=\"https://youtube-rank.com/board/bbs/board.php?bo_table=youtube&amp;wr_id=3203\">\n\t\t\t\t\t\t\t\t\n\t\t\t\t\t\t\t\tBLACKPINK\t\t\t\t\t\t\t</a>\n<span>\n<i class=\"fa fa-comment\"></i>\n\t\t\t\t\t\t\t\t1\t\t\t\t\t\t\t</span>\n<i aria-hidden=\"true\" class=\"fa fa-heart\"></i> </h1>\n<h2><span><a href=\"https://youtube-rank.com/board/bbs/board.php?bo_table=youtube&amp;wr_id=3203\">\"YG Entertainment\" YG 와이지 K-pop BLACKPINK 블랙핑크 블핑 제니 로제 리사 지수 Lisa Jisoo Jennie ...</a></span></h2>\n<h3>\n<i class=\"fa fa-user\"></i>\n                            6160만<i class=\"fa fa-play\"></i>178억0787만                            <i class=\"fa fa-video-camera\"></i>\n                            355                            <i class=\"fa fa-eye\"></i>\n                            12,810                        </h3>\n</td>\n<td class=\"subscriber_cnt\">6160만</td>\n<td class=\"view_cnt\">178억0787만</td>\n<td class=\"video_cnt\">355개</td>\n<td class=\"hit\">\n<strong>12,810</strong>\n<span>HIT</span>\n</td>\n</tr>\n"
     ]
    }
   ],
   "source": [
    "#채널 하나만 출력하기\n",
    "channel = channel_list[0]\n",
    "print(channel)"
   ]
  },
  {
   "cell_type": "code",
   "execution_count": 67,
   "metadata": {},
   "outputs": [
    {
     "output_type": "stream",
     "name": "stdout",
     "text": [
      "[음악/댄스/가수]\n"
     ]
    }
   ],
   "source": [
    "#카테코리 정보 추출하기\n",
    "category = channel.select('p.category')[0].text.strip()\n",
    "print(category)"
   ]
  },
  {
   "cell_type": "code",
   "execution_count": 68,
   "metadata": {},
   "outputs": [
    {
     "output_type": "stream",
     "name": "stdout",
     "text": [
      "BLACKPINK\n"
     ]
    }
   ],
   "source": [
    "#채널명 찾아오기\n",
    "title = channel.select('h1 > a')[0].text.strip()\n",
    "print(title)"
   ]
  },
  {
   "cell_type": "code",
   "execution_count": 69,
   "metadata": {},
   "outputs": [
    {
     "output_type": "stream",
     "name": "stdout",
     "text": [
      "6160만\n178억0787만\n355개\n"
     ]
    }
   ],
   "source": [
    "#구독자수, View수, 동영상수 추출하기\n",
    "subscriber = channel.select('.subscriber_cnt')[0].text \n",
    "view = channel.select('.view_cnt')[0].text \n",
    "video = channel.select('.video_cnt')[0].text \n",
    "\n",
    "print(subscriber)\n",
    "print(view)\n",
    "print(video)\n"
   ]
  },
  {
   "cell_type": "code",
   "execution_count": 70,
   "metadata": {},
   "outputs": [
    {
     "output_type": "stream",
     "name": "stdout",
     "text": [
      "BLACKPINK [음악/댄스/가수] 6160만 178억0787만 355개\n",
      "HYBE LABELS [음악/댄스/가수] 5680만 168억4949만 611개\n",
      "BANGTANTV [음악/댄스/가수] 5090만 102억7144만 1,490개\n",
      "SMTOWN [음악/댄스/가수] 2750만 209억7936만 3,697개\n",
      "Boram Tube Vlog [보람튜브 브이로그] [키즈/어린이] 2650만 110억5288만 223개\n",
      "1MILLION Dance Studio [음악/댄스/가수] 2400만 65억2152만 2,635개\n",
      "1theK (원더케이) [음악/댄스/가수] 2280만 199억5659만 14,556개\n",
      "JYP Entertainment [음악/댄스/가수] 2070만 129억3806만 1,263개\n",
      "Mnet K-POP [음악/댄스/가수] 1800만 123억0955만 24,113개\n",
      "JFlaMusic [음악/댄스/가수] 1710만 33억5670만 278개\n",
      "KBS WORLD TV [TV/방송] 1630만 119억1809만 51,216개\n",
      "officialpsy [음악/댄스/가수] 1490만 84억7720만 90개\n",
      "BIGBANG [음악/댄스/가수] 1360만 65억6244만 773개\n",
      "Jane ASMR 제인 [음식/요리/레시피] 1340만 44억6094만 1,111개\n",
      "Nao FunFun [키즈/어린이] 1080만 337만 23개\n",
      "TWICE [음악/댄스/가수] 1070만 19억1473만 547개\n",
      "Stone Music Entertainment [음악/댄스/가수] 980만 75억6766만 7,560개\n",
      "DuDuPopTOY [키즈/어린이] 967만 42억8001만 1,652개\n",
      "MBCkpop [TV/방송] 932만 71억4065만 40,185개\n",
      "서은이야기[SeoeunStory] [키즈/어린이] 924만 39억0519만 965개\n",
      "핑크퐁 (인기 동요・동화) [키즈/어린이] 922만 55억3291만 2,137개\n",
      "Larva TUBA [키즈/어린이] 912만 39억3021만 2,549개\n",
      "Toymong tv 토이몽TV [키즈/어린이] 908만 37억2151만 1,765개\n",
      "Hongyu ASMR 홍유 [음식/요리/레시피] 884만 23억5134만 358개\n",
      "The Late Show with Stephen Colbert [미분류] 856만 76억6406만 8,071개\n",
      "MBCentertainment [뉴스/정치/사회] 828만 138억1285만 84,062개\n",
      "Mnet Official [음악/댄스/가수] 822만 88억0035만 18,009개\n",
      "iKON [음악/댄스/가수] 817만 20억2348만 461개\n",
      "EXO [음악/댄스/가수] 768만 3억7217만 173개\n",
      "MariAndKids [키즈/어린이] 745만 22억6211만 811개\n",
      "M2 [TV/방송] 718만 51억2303만 13,613개\n",
      "SonicToy소닉토이 [키즈/어린이] 714만 28억9034만 163개\n",
      "Serie A [해외] 683만 23억7119만 20,430개\n",
      "[햄지]Hamzy [음식/요리/레시피] 673만 18억8030만 303개\n",
      "JTBC Entertainment [뉴스/정치/사회] 668만 93억2785만 62,185개\n",
      "TOMORROW X TOGETHER OFFICIAL [음악/댄스/가수] 668만 3억5087만 680개\n",
      "Sungha Jung [음악/댄스/가수] 668만 18억5626만 1,250개\n",
      "Travel Thirsty [음식/요리/레시피] 659만 27억3143만 639개\n",
      "SEVENTEEN [음악/댄스/가수] 654만 19억4517만 813개\n",
      "Stray Kids [음악/댄스/가수] 630만 8억7038만 440개\n",
      "ALL THE K-POP [음악/댄스/가수] 630만 37억7568만 18,582개\n",
      "YG ENTERTAINMENT [음악/댄스/가수] 625만 16억0989만 389개\n",
      "이지금 [IU Official] [음악/댄스/가수] 614만 7억8818만 124개\n",
      "KBS Kpop [TV/방송] 606만 43억7957만 27,884개\n",
      "GOT7 [음악/댄스/가수] 598만 7억3442만 579개\n",
      "문복희 Eat with Boki [음식/요리/레시피] 587만 12억5887만 359개\n",
      "PONY Syndrome [패션/미용] 585만 3억4991만 181개\n",
      "MAMAMOO [음악/댄스/가수] 578만 14억8938만 578개\n",
      "쏘영 Ssoyoung [음식/요리/레시피] 570만 8억1361만 526개\n",
      "tvN DRAMA [TV/방송] 569만 52억7506만 32,964개\n",
      "스브스케이팝 / SBS KPOP [TV/방송] 566만 35억9534만 24,539개\n",
      "Samsung [회사/오피셜] 560만 9억2919만 1,470개\n",
      "SBS Entertainment [TV/방송] 556만 63억3249만 215,504개\n",
      "스위트티비 SweetTV [키즈/어린이] 554만 25억6686만 500개\n",
      "SBS Drama [TV/방송] 526만 54억6717만 340,383개\n",
      "2NE1 [음악/댄스/가수] 524만 19억1510만 321개\n",
      "[장난감티비]TOYTV [키즈/어린이] 520만 24억8127만 1,421개\n",
      "미니특공대TV [키즈/어린이] 517만 28억8369만 1,077개\n",
      "콩순이 • 시크릿 쥬쥬 [Kongsuni • Secret Jouju] [키즈/어린이] 515만 44억0315만 1,221개\n",
      "ITZY [음악/댄스/가수] 513만 8억3783만 392개\n",
      "[Awesome Haeun]어썸하은 [BJ/인물/연예인] 510만 7억7559만 468개\n",
      "백종원의 요리비책 Paik's Cuisine [음식/요리/레시피] 498만 4억7398만 309개\n",
      "ToyMart TV [키즈/어린이] 497만 21억4793만 650개\n",
      "starshipTV [음악/댄스/가수] 472만 26억7181만 1,890개\n",
      "베이비버스 -인기 동요・동화 [키즈/어린이] 472만 30억8268만 1,216개\n",
      "BT21 [음악/댄스/가수] 447만 3억3885만 185개\n",
      "TOY GUMA [키즈/어린이] 441만 14억5813만 306개\n",
      "SBS NOW / SBS 공식 채널 [뉴스/정치/사회] 439만 43억3363만 19,442개\n",
      "KBS Entertain [TV/방송] 438만 67억4633만 98,167개\n",
      "떵개떵 [음식/요리/레시피] 438만 24억2649만 4,256개\n",
      "뽀로로(Pororo) [키즈/어린이] 427만 57억1853만 3,520개\n",
      "하루한끼 one meal a day [음식/요리/레시피] 426만 3억9376만 153개\n",
      "MBCdrama [TV/방송] 425만 47억9754만 53,460개\n",
      "ASTRO 아스트로 [음악/댄스/가수] 420만 3억7758만 408개\n",
      "Raon Lee [음악/댄스/가수] 414만 8억8203만 287개\n",
      "[Dorothy]도로시 [음식/요리/레시피] 413만 9억7345만 893개\n",
      "야미보이 Yummyboy [음식/요리/레시피] 412만 14억3279만 810개\n",
      "슈슈토이 Shushu ToysReview [키즈/어린이] 408만 14억9217만 536개\n",
      "Red Velvet [음악/댄스/가수] 406만 5억1454만 123개\n",
      "채널 NCT DAILY [TV/방송] 405만 6억7869만 467개\n",
      "Cooking tree 쿠킹트리 [음식/요리/레시피] 401만 3억5880만 1,091개\n",
      "푸메Fume [음식/요리/레시피] 400만 7억9658만 425개\n",
      "TREASURE (트레저) [음악/댄스/가수] 398만 7억2479만 235개\n",
      "JTBC Drama [TV/방송] 398만 40억5727만 21,907개\n",
      "SBS TV동물농장x애니멀봐 [애완/반려동물] 397만 35억7119만 2,873개\n",
      "까니짱 [ G-NI ] [음식/요리/레시피] 396만 9억7291만 442개\n",
      "With Kids Playground [위드키즈 놀이터] [키즈/어린이] 395만 14억7870만 386개\n",
      "Evan Kids [키즈/어린이] 393만 7529만 23개\n",
      "로미유 스토리[Romiyu Story] [키즈/어린이] 392만 10억1611만 427개\n",
      "영국남자 Korean Englishman [BJ/인물/연예인] 385만 12억5665만 422개\n",
      "크림히어로즈 [애완/반려동물] 383만 13억4924만 895개\n",
      "허팝Heopop [BJ/인물/연예인] 378만 30억4124만 1,787개\n",
      "워크맨-Workman [BJ/인물/연예인] 375만 6억2795만 131개\n",
      "NCT [음악/댄스/가수] 374만 2억3333만 197개\n",
      "waveya 2011 [BJ/인물/연예인] 373만 13억3563만 687개\n",
      "Lime Tube[라임튜브] [키즈/어린이] 371만 25억5895만 1,671개\n",
      "WINNER [음악/댄스/가수] 367만 11억4471만 428개\n",
      "JaeYeol ASMR 재열 [취미/라이프] 366만 9억3404만 930개\n",
      "CoCosToy 꼬꼬스토이 [키즈/어린이] 349만 19억3365만 749개\n",
      "백현 Baekhyun [음악/댄스/가수] 348만 4463만 17개\n"
     ]
    },
    {
     "output_type": "error",
     "ename": "IndexError",
     "evalue": "list index out of range",
     "traceback": [
      "\u001b[1;31m---------------------------------------------------------------------------\u001b[0m",
      "\u001b[1;31mIndexError\u001b[0m                                Traceback (most recent call last)",
      "\u001b[1;32m<ipython-input-70-8f2d8cb10857>\u001b[0m in \u001b[0;36m<module>\u001b[1;34m\u001b[0m\n\u001b[0;32m      2\u001b[0m \u001b[0mchannel_list\u001b[0m \u001b[1;33m=\u001b[0m \u001b[0msoup\u001b[0m\u001b[1;33m.\u001b[0m\u001b[0mselect\u001b[0m\u001b[1;33m(\u001b[0m\u001b[1;34m'tbody > tr'\u001b[0m\u001b[1;33m)\u001b[0m\u001b[1;33m\u001b[0m\u001b[1;33m\u001b[0m\u001b[0m\n\u001b[0;32m      3\u001b[0m \u001b[1;32mfor\u001b[0m \u001b[0mchannel\u001b[0m \u001b[1;32min\u001b[0m \u001b[0mchannel_list\u001b[0m\u001b[1;33m:\u001b[0m\u001b[1;33m\u001b[0m\u001b[1;33m\u001b[0m\u001b[0m\n\u001b[1;32m----> 4\u001b[1;33m     \u001b[0mtitle\u001b[0m \u001b[1;33m=\u001b[0m \u001b[0mchannel\u001b[0m\u001b[1;33m.\u001b[0m\u001b[0mselect\u001b[0m\u001b[1;33m(\u001b[0m\u001b[1;34m'h1 > a'\u001b[0m\u001b[1;33m)\u001b[0m\u001b[1;33m[\u001b[0m\u001b[1;36m0\u001b[0m\u001b[1;33m]\u001b[0m\u001b[1;33m.\u001b[0m\u001b[0mtext\u001b[0m\u001b[1;33m.\u001b[0m\u001b[0mstrip\u001b[0m\u001b[1;33m(\u001b[0m\u001b[1;33m)\u001b[0m\u001b[1;33m\u001b[0m\u001b[1;33m\u001b[0m\u001b[0m\n\u001b[0m\u001b[0;32m      5\u001b[0m     \u001b[0mcategory\u001b[0m \u001b[1;33m=\u001b[0m \u001b[0mchannel\u001b[0m\u001b[1;33m.\u001b[0m\u001b[0mselect\u001b[0m\u001b[1;33m(\u001b[0m\u001b[1;34m'p.category'\u001b[0m\u001b[1;33m)\u001b[0m\u001b[1;33m[\u001b[0m\u001b[1;36m0\u001b[0m\u001b[1;33m]\u001b[0m\u001b[1;33m.\u001b[0m\u001b[0mtext\u001b[0m\u001b[1;33m.\u001b[0m\u001b[0mstrip\u001b[0m\u001b[1;33m(\u001b[0m\u001b[1;33m)\u001b[0m\u001b[1;33m\u001b[0m\u001b[1;33m\u001b[0m\u001b[0m\n\u001b[0;32m      6\u001b[0m     \u001b[0msubscriber\u001b[0m \u001b[1;33m=\u001b[0m \u001b[0mchannel\u001b[0m\u001b[1;33m.\u001b[0m\u001b[0mselect\u001b[0m\u001b[1;33m(\u001b[0m\u001b[1;34m'.subscriber_cnt'\u001b[0m\u001b[1;33m)\u001b[0m\u001b[1;33m[\u001b[0m\u001b[1;36m0\u001b[0m\u001b[1;33m]\u001b[0m\u001b[1;33m.\u001b[0m\u001b[0mtext\u001b[0m\u001b[1;33m\u001b[0m\u001b[1;33m\u001b[0m\u001b[0m\n",
      "\u001b[1;31mIndexError\u001b[0m: list index out of range"
     ]
    }
   ],
   "source": [
    "#반복문으로 채널 정보 추출하기\n",
    "channel_list = soup.select('tbody > tr')\n",
    "for channel in channel_list:\n",
    "    title = channel.select('h1 > a')[0].text.strip()\n",
    "    category = channel.select('p.category')[0].text.strip()\n",
    "    subscriber = channel.select('.subscriber_cnt')[0].text \n",
    "    view = channel.select('.view_cnt')[0].text \n",
    "    video = channel.select('.video_cnt')[0].text \n",
    "    print(title, category, subscriber, view, video)"
   ]
  },
  {
   "cell_type": "code",
   "execution_count": 71,
   "metadata": {},
   "outputs": [],
   "source": [
    "#반복문으로 유튜브 랭킁 화면의 여러 페이지를 크롤링하기 \n",
    "results = []\n",
    "for page in range(1,11):\n",
    "    url = 'https://youtube-rank.com/board/bbs/board.php?bo_table=youtube&page={page}'\n",
    "    browser.get(url)\n",
    "    time.sleep(2)\n",
    "    html = browser.page_source \n",
    "    soup = BeautifulSoup(html, 'html.parser')\n",
    "    channel_list = soup.select('form > table > tbody > tr')\n",
    "    for channel in channel_list:\n",
    "        title = channel.select('h1 > a')[0].text.strip()\n",
    "        category = channel.select('p.category')[0].text.strip()\n",
    "        subscriber = channel.select('.subscriber_cnt')[0].text \n",
    "        view = channel.select('.view_cnt')[0].text \n",
    "        video = channel.select('.video_cnt')[0].text \n",
    "        data = [title, category, subscriber, view, video]\n",
    "        results.append(data)"
   ]
  },
  {
   "cell_type": "code",
   "execution_count": 73,
   "metadata": {},
   "outputs": [],
   "source": [
    "#엑셀에 저장\n",
    "df = pd.DataFrame(results)\n",
    "df.columns = ['title','category','subscriber','view','video']\n",
    "df.to_excel('c:\\\\work\\\\youtube_rank.xlsx',index=False)"
   ]
  },
  {
   "cell_type": "code",
   "execution_count": 74,
   "metadata": {},
   "outputs": [],
   "source": [
    "#유튜브 랭킹 데이터 시각화 \n",
    "import pandas as pd \n",
    "import matplotlib.pyplot as plt \n",
    "from matplotlib import font_manager, rc \n",
    "import platform \n",
    "\n",
    "if platform.system() == \"Windows\":\n",
    "    path = 'c:\\\\Windows\\\\Fonts\\\\malgun.ttf'\n",
    "    font_name = font_manager.FontProperties(fname=path).get_name() \n",
    "    rc('font', family=font_name)\n",
    "elif platform.system() == \"Darwin\":\n",
    "    rc('font', family='AppleGothic')\n",
    "else:\n",
    "    print('Check your OS system')\n",
    "\n",
    "\n",
    "\n",
    "\n"
   ]
  },
  {
   "cell_type": "code",
   "execution_count": 76,
   "metadata": {},
   "outputs": [
    {
     "output_type": "execute_result",
     "data": {
      "text/plain": [
       "                         title    category subscriber       view   video\n",
       "0                    BLACKPINK  [음악/댄스/가수]      6160만  178억0787만    355개\n",
       "1                  HYBE LABELS  [음악/댄스/가수]      5680만  168억4949만    611개\n",
       "2                    BANGTANTV  [음악/댄스/가수]      5090만  102억7144만  1,490개\n",
       "3                       SMTOWN  [음악/댄스/가수]      2750만  209억7936만  3,697개\n",
       "4  Boram Tube Vlog [보람튜브 브이로그]    [키즈/어린이]      2650만  110억5288만    223개"
      ],
      "text/html": "<div>\n<style scoped>\n    .dataframe tbody tr th:only-of-type {\n        vertical-align: middle;\n    }\n\n    .dataframe tbody tr th {\n        vertical-align: top;\n    }\n\n    .dataframe thead th {\n        text-align: right;\n    }\n</style>\n<table border=\"1\" class=\"dataframe\">\n  <thead>\n    <tr style=\"text-align: right;\">\n      <th></th>\n      <th>title</th>\n      <th>category</th>\n      <th>subscriber</th>\n      <th>view</th>\n      <th>video</th>\n    </tr>\n  </thead>\n  <tbody>\n    <tr>\n      <th>0</th>\n      <td>BLACKPINK</td>\n      <td>[음악/댄스/가수]</td>\n      <td>6160만</td>\n      <td>178억0787만</td>\n      <td>355개</td>\n    </tr>\n    <tr>\n      <th>1</th>\n      <td>HYBE LABELS</td>\n      <td>[음악/댄스/가수]</td>\n      <td>5680만</td>\n      <td>168억4949만</td>\n      <td>611개</td>\n    </tr>\n    <tr>\n      <th>2</th>\n      <td>BANGTANTV</td>\n      <td>[음악/댄스/가수]</td>\n      <td>5090만</td>\n      <td>102억7144만</td>\n      <td>1,490개</td>\n    </tr>\n    <tr>\n      <th>3</th>\n      <td>SMTOWN</td>\n      <td>[음악/댄스/가수]</td>\n      <td>2750만</td>\n      <td>209억7936만</td>\n      <td>3,697개</td>\n    </tr>\n    <tr>\n      <th>4</th>\n      <td>Boram Tube Vlog [보람튜브 브이로그]</td>\n      <td>[키즈/어린이]</td>\n      <td>2650만</td>\n      <td>110억5288만</td>\n      <td>223개</td>\n    </tr>\n  </tbody>\n</table>\n</div>"
     },
     "metadata": {},
     "execution_count": 76
    }
   ],
   "source": [
    "#엑셀 로딩 \n",
    "df = pd.read_excel('c:\\\\work\\\\youtube_rank.xlsx')\n",
    "df.head()\n"
   ]
  },
  {
   "cell_type": "code",
   "execution_count": 77,
   "metadata": {},
   "outputs": [
    {
     "output_type": "execute_result",
     "data": {
      "text/plain": [
       "0    6160만\n",
       "1    5680만\n",
       "2    5090만\n",
       "3    2750만\n",
       "4    2650만\n",
       "5    2400만\n",
       "6    2280만\n",
       "7    2070만\n",
       "8    1800만\n",
       "9    1710만\n",
       "Name: subscriber, dtype: object"
      ]
     },
     "metadata": {},
     "execution_count": 77
    }
   ],
   "source": [
    "#데이터 살펴보기 \n",
    "df['subscriber'][0:10]"
   ]
  },
  {
   "cell_type": "code",
   "execution_count": 78,
   "metadata": {},
   "outputs": [
    {
     "output_type": "execute_result",
     "data": {
      "text/plain": [
       "0    6160000\n",
       "1    5680000\n",
       "2    5090000\n",
       "3    2750000\n",
       "4    2650000\n",
       "5    2400000\n",
       "6    2280000\n",
       "7    2070000\n",
       "8    1800000\n",
       "9    1710000\n",
       "Name: subscriber, dtype: object"
      ]
     },
     "metadata": {},
     "execution_count": 78
    }
   ],
   "source": [
    "df['subscriber'].str.replace('만', '000')[0:10]"
   ]
  },
  {
   "cell_type": "code",
   "execution_count": 79,
   "metadata": {},
   "outputs": [
    {
     "output_type": "execute_result",
     "data": {
      "text/plain": [
       "                         title    category subscriber       view   video  \\\n",
       "0                    BLACKPINK  [음악/댄스/가수]      6160만  178억0787만    355개   \n",
       "1                  HYBE LABELS  [음악/댄스/가수]      5680만  168억4949만    611개   \n",
       "2                    BANGTANTV  [음악/댄스/가수]      5090만  102억7144만  1,490개   \n",
       "3                       SMTOWN  [음악/댄스/가수]      2750만  209억7936만  3,697개   \n",
       "4  Boram Tube Vlog [보람튜브 브이로그]    [키즈/어린이]      2650만  110억5288만    223개   \n",
       "\n",
       "  replaced_subscriber  \n",
       "0             6160000  \n",
       "1             5680000  \n",
       "2             5090000  \n",
       "3             2750000  \n",
       "4             2650000  "
      ],
      "text/html": "<div>\n<style scoped>\n    .dataframe tbody tr th:only-of-type {\n        vertical-align: middle;\n    }\n\n    .dataframe tbody tr th {\n        vertical-align: top;\n    }\n\n    .dataframe thead th {\n        text-align: right;\n    }\n</style>\n<table border=\"1\" class=\"dataframe\">\n  <thead>\n    <tr style=\"text-align: right;\">\n      <th></th>\n      <th>title</th>\n      <th>category</th>\n      <th>subscriber</th>\n      <th>view</th>\n      <th>video</th>\n      <th>replaced_subscriber</th>\n    </tr>\n  </thead>\n  <tbody>\n    <tr>\n      <th>0</th>\n      <td>BLACKPINK</td>\n      <td>[음악/댄스/가수]</td>\n      <td>6160만</td>\n      <td>178억0787만</td>\n      <td>355개</td>\n      <td>6160000</td>\n    </tr>\n    <tr>\n      <th>1</th>\n      <td>HYBE LABELS</td>\n      <td>[음악/댄스/가수]</td>\n      <td>5680만</td>\n      <td>168억4949만</td>\n      <td>611개</td>\n      <td>5680000</td>\n    </tr>\n    <tr>\n      <th>2</th>\n      <td>BANGTANTV</td>\n      <td>[음악/댄스/가수]</td>\n      <td>5090만</td>\n      <td>102억7144만</td>\n      <td>1,490개</td>\n      <td>5090000</td>\n    </tr>\n    <tr>\n      <th>3</th>\n      <td>SMTOWN</td>\n      <td>[음악/댄스/가수]</td>\n      <td>2750만</td>\n      <td>209억7936만</td>\n      <td>3,697개</td>\n      <td>2750000</td>\n    </tr>\n    <tr>\n      <th>4</th>\n      <td>Boram Tube Vlog [보람튜브 브이로그]</td>\n      <td>[키즈/어린이]</td>\n      <td>2650만</td>\n      <td>110억5288만</td>\n      <td>223개</td>\n      <td>2650000</td>\n    </tr>\n  </tbody>\n</table>\n</div>"
     },
     "metadata": {},
     "execution_count": 79
    }
   ],
   "source": [
    "#판다스에서 문자열을 다루는 다양한 함수를 제공한다. \n",
    "df['replaced_subscriber'] = df['subscriber'].str.replace('만','000')\n",
    "df.head()"
   ]
  },
  {
   "cell_type": "code",
   "execution_count": 80,
   "metadata": {},
   "outputs": [
    {
     "output_type": "stream",
     "name": "stdout",
     "text": [
      "<class 'pandas.core.frame.DataFrame'>\nRangeIndex: 1000 entries, 0 to 999\nData columns (total 6 columns):\n #   Column               Non-Null Count  Dtype \n---  ------               --------------  ----- \n 0   title                1000 non-null   object\n 1   category             1000 non-null   object\n 2   subscriber           1000 non-null   object\n 3   view                 1000 non-null   object\n 4   video                1000 non-null   object\n 5   replaced_subscriber  1000 non-null   object\ndtypes: object(6)\nmemory usage: 23.5+ KB\n"
     ]
    }
   ],
   "source": [
    "df.info()"
   ]
  },
  {
   "cell_type": "code",
   "execution_count": 81,
   "metadata": {},
   "outputs": [
    {
     "output_type": "stream",
     "name": "stdout",
     "text": [
      "<class 'pandas.core.frame.DataFrame'>\nRangeIndex: 1000 entries, 0 to 999\nData columns (total 6 columns):\n #   Column               Non-Null Count  Dtype \n---  ------               --------------  ----- \n 0   title                1000 non-null   object\n 1   category             1000 non-null   object\n 2   subscriber           1000 non-null   object\n 3   view                 1000 non-null   object\n 4   video                1000 non-null   object\n 5   replaced_subscriber  1000 non-null   int32 \ndtypes: int32(1), object(5)\nmemory usage: 23.5+ KB\n"
     ]
    }
   ],
   "source": [
    "#replaced_subscriber의 데이터 형식이 int가 아닌 것을 볼 수 있다.\n",
    "#astype()함수를 통해 변환한다. \n",
    "df['replaced_subscriber'] = df['replaced_subscriber'].astype('int')\n",
    "df.info()"
   ]
  },
  {
   "cell_type": "code",
   "execution_count": 82,
   "metadata": {},
   "outputs": [
    {
     "output_type": "execute_result",
     "data": {
      "text/plain": [
       "                            sum               count\n",
       "            replaced_subscriber replaced_subscriber\n",
       "category                                           \n",
       "[BJ/인물/연예인]            20210000                  50\n",
       "[TV/방송]                77690000                 120\n",
       "[뉴스/정치/사회]             19350000                  30\n",
       "[미분류]                   8560000                  10\n",
       "[애완/반려동물]               7800000                  20"
      ],
      "text/html": "<div>\n<style scoped>\n    .dataframe tbody tr th:only-of-type {\n        vertical-align: middle;\n    }\n\n    .dataframe tbody tr th {\n        vertical-align: top;\n    }\n\n    .dataframe thead tr th {\n        text-align: left;\n    }\n\n    .dataframe thead tr:last-of-type th {\n        text-align: right;\n    }\n</style>\n<table border=\"1\" class=\"dataframe\">\n  <thead>\n    <tr>\n      <th></th>\n      <th>sum</th>\n      <th>count</th>\n    </tr>\n    <tr>\n      <th></th>\n      <th>replaced_subscriber</th>\n      <th>replaced_subscriber</th>\n    </tr>\n    <tr>\n      <th>category</th>\n      <th></th>\n      <th></th>\n    </tr>\n  </thead>\n  <tbody>\n    <tr>\n      <th>[BJ/인물/연예인]</th>\n      <td>20210000</td>\n      <td>50</td>\n    </tr>\n    <tr>\n      <th>[TV/방송]</th>\n      <td>77690000</td>\n      <td>120</td>\n    </tr>\n    <tr>\n      <th>[뉴스/정치/사회]</th>\n      <td>19350000</td>\n      <td>30</td>\n    </tr>\n    <tr>\n      <th>[미분류]</th>\n      <td>8560000</td>\n      <td>10</td>\n    </tr>\n    <tr>\n      <th>[애완/반려동물]</th>\n      <td>7800000</td>\n      <td>20</td>\n    </tr>\n  </tbody>\n</table>\n</div>"
     },
     "metadata": {},
     "execution_count": 82
    }
   ],
   "source": [
    "#이제는 카테고리별 채널 수와 구독사 수를 파이차트로 시각화하기 위해 \n",
    "#category.컬럼에서 개별 카테고리의 개수를 세어야 하고 replaced_subscriber컬럼에서\n",
    "#카테고리별 구독자 수를 모두 더해야 한다. \n",
    "pivot_df = df.pivot_table(index = 'category', values='replaced_subscriber', aggfunc=['sum','count'])\n",
    "pivot_df.head()"
   ]
  },
  {
   "cell_type": "code",
   "execution_count": 84,
   "metadata": {},
   "outputs": [
    {
     "output_type": "execute_result",
     "data": {
      "text/plain": [
       "             subscriber_sum  category_count\n",
       "category                                   \n",
       "[BJ/인물/연예인]        20210000              50\n",
       "[TV/방송]            77690000             120\n",
       "[뉴스/정치/사회]         19350000              30\n",
       "[미분류]               8560000              10\n",
       "[애완/반려동물]           7800000              20"
      ],
      "text/html": "<div>\n<style scoped>\n    .dataframe tbody tr th:only-of-type {\n        vertical-align: middle;\n    }\n\n    .dataframe tbody tr th {\n        vertical-align: top;\n    }\n\n    .dataframe thead th {\n        text-align: right;\n    }\n</style>\n<table border=\"1\" class=\"dataframe\">\n  <thead>\n    <tr style=\"text-align: right;\">\n      <th></th>\n      <th>subscriber_sum</th>\n      <th>category_count</th>\n    </tr>\n    <tr>\n      <th>category</th>\n      <th></th>\n      <th></th>\n    </tr>\n  </thead>\n  <tbody>\n    <tr>\n      <th>[BJ/인물/연예인]</th>\n      <td>20210000</td>\n      <td>50</td>\n    </tr>\n    <tr>\n      <th>[TV/방송]</th>\n      <td>77690000</td>\n      <td>120</td>\n    </tr>\n    <tr>\n      <th>[뉴스/정치/사회]</th>\n      <td>19350000</td>\n      <td>30</td>\n    </tr>\n    <tr>\n      <th>[미분류]</th>\n      <td>8560000</td>\n      <td>10</td>\n    </tr>\n    <tr>\n      <th>[애완/반려동물]</th>\n      <td>7800000</td>\n      <td>20</td>\n    </tr>\n  </tbody>\n</table>\n</div>"
     },
     "metadata": {},
     "execution_count": 84
    }
   ],
   "source": [
    "#결과에서 카테고리별 구독자 수와 채널 수를 확인할 수 있다. 이번에는 해당 컬럼을 알아보기 쉽게 변경한다. \n",
    "pivot_df.columns = ['subscriber_sum', 'category_count']\n",
    "pivot_df.head()\n"
   ]
  },
  {
   "cell_type": "code",
   "execution_count": 85,
   "metadata": {},
   "outputs": [
    {
     "output_type": "execute_result",
     "data": {
      "text/plain": [
       "      category  subscriber_sum  category_count\n",
       "0  [BJ/인물/연예인]        20210000              50\n",
       "1      [TV/방송]        77690000             120\n",
       "2   [뉴스/정치/사회]        19350000              30\n",
       "3        [미분류]         8560000              10\n",
       "4    [애완/반려동물]         7800000              20"
      ],
      "text/html": "<div>\n<style scoped>\n    .dataframe tbody tr th:only-of-type {\n        vertical-align: middle;\n    }\n\n    .dataframe tbody tr th {\n        vertical-align: top;\n    }\n\n    .dataframe thead th {\n        text-align: right;\n    }\n</style>\n<table border=\"1\" class=\"dataframe\">\n  <thead>\n    <tr style=\"text-align: right;\">\n      <th></th>\n      <th>category</th>\n      <th>subscriber_sum</th>\n      <th>category_count</th>\n    </tr>\n  </thead>\n  <tbody>\n    <tr>\n      <th>0</th>\n      <td>[BJ/인물/연예인]</td>\n      <td>20210000</td>\n      <td>50</td>\n    </tr>\n    <tr>\n      <th>1</th>\n      <td>[TV/방송]</td>\n      <td>77690000</td>\n      <td>120</td>\n    </tr>\n    <tr>\n      <th>2</th>\n      <td>[뉴스/정치/사회]</td>\n      <td>19350000</td>\n      <td>30</td>\n    </tr>\n    <tr>\n      <th>3</th>\n      <td>[미분류]</td>\n      <td>8560000</td>\n      <td>10</td>\n    </tr>\n    <tr>\n      <th>4</th>\n      <td>[애완/반려동물]</td>\n      <td>7800000</td>\n      <td>20</td>\n    </tr>\n  </tbody>\n</table>\n</div>"
     },
     "metadata": {},
     "execution_count": 85
    }
   ],
   "source": [
    "#각 컬럼명이 subscriber_sum과 category_count로 변경되었다. 하지만 각 컬럼은 데이터프레임에서 인덱스로 \n",
    "#설정되어 있어서 reset_index()를 사용해서 인덱스를 초기화한다.\n",
    "pivot_df = pivot_df.reset_index()\n",
    "pivot_df.head()"
   ]
  },
  {
   "cell_type": "code",
   "execution_count": 86,
   "metadata": {},
   "outputs": [
    {
     "output_type": "execute_result",
     "data": {
      "text/plain": [
       "      category  subscriber_sum  category_count\n",
       "6   [음악/댄스/가수]       475950000             360\n",
       "8     [키즈/어린이]       160730000             230\n",
       "5  [음식/요리/레시피]        80970000             140\n",
       "1      [TV/방송]        77690000             120\n",
       "0  [BJ/인물/연예인]        20210000              50"
      ],
      "text/html": "<div>\n<style scoped>\n    .dataframe tbody tr th:only-of-type {\n        vertical-align: middle;\n    }\n\n    .dataframe tbody tr th {\n        vertical-align: top;\n    }\n\n    .dataframe thead th {\n        text-align: right;\n    }\n</style>\n<table border=\"1\" class=\"dataframe\">\n  <thead>\n    <tr style=\"text-align: right;\">\n      <th></th>\n      <th>category</th>\n      <th>subscriber_sum</th>\n      <th>category_count</th>\n    </tr>\n  </thead>\n  <tbody>\n    <tr>\n      <th>6</th>\n      <td>[음악/댄스/가수]</td>\n      <td>475950000</td>\n      <td>360</td>\n    </tr>\n    <tr>\n      <th>8</th>\n      <td>[키즈/어린이]</td>\n      <td>160730000</td>\n      <td>230</td>\n    </tr>\n    <tr>\n      <th>5</th>\n      <td>[음식/요리/레시피]</td>\n      <td>80970000</td>\n      <td>140</td>\n    </tr>\n    <tr>\n      <th>1</th>\n      <td>[TV/방송]</td>\n      <td>77690000</td>\n      <td>120</td>\n    </tr>\n    <tr>\n      <th>0</th>\n      <td>[BJ/인물/연예인]</td>\n      <td>20210000</td>\n      <td>50</td>\n    </tr>\n  </tbody>\n</table>\n</div>"
     },
     "metadata": {},
     "execution_count": 86
    }
   ],
   "source": [
    "#데이터프레임을 내림차순 정렬하기\n",
    "pivot_df = pivot_df.sort_values(by='subscriber_sum', ascending=False)\n",
    "pivot_df.head()"
   ]
  },
  {
   "cell_type": "code",
   "execution_count": 87,
   "metadata": {},
   "outputs": [
    {
     "output_type": "display_data",
     "data": {
      "text/plain": "<Figure size 2160x720 with 1 Axes>",
      "image/svg+xml": "<?xml version=\"1.0\" encoding=\"utf-8\" standalone=\"no\"?>\r\n<!DOCTYPE svg PUBLIC \"-//W3C//DTD SVG 1.1//EN\"\r\n  \"http://www.w3.org/Graphics/SVG/1.1/DTD/svg11.dtd\">\r\n<svg height=\"558pt\" version=\"1.1\" viewBox=\"0 0 591.314561 558\" width=\"591.314561pt\" xmlns=\"http://www.w3.org/2000/svg\" xmlns:xlink=\"http://www.w3.org/1999/xlink\">\r\n <metadata>\r\n  <rdf:RDF xmlns:cc=\"http://creativecommons.org/ns#\" xmlns:dc=\"http://purl.org/dc/elements/1.1/\" xmlns:rdf=\"http://www.w3.org/1999/02/22-rdf-syntax-ns#\">\r\n   <cc:Work>\r\n    <dc:type rdf:resource=\"http://purl.org/dc/dcmitype/StillImage\"/>\r\n    <dc:date>2021-06-01T16:53:32.462800</dc:date>\r\n    <dc:format>image/svg+xml</dc:format>\r\n    <dc:creator>\r\n     <cc:Agent>\r\n      <dc:title>Matplotlib v3.4.2, https://matplotlib.org/</dc:title>\r\n     </cc:Agent>\r\n    </dc:creator>\r\n   </cc:Work>\r\n  </rdf:RDF>\r\n </metadata>\r\n <defs>\r\n  <style type=\"text/css\">*{stroke-linecap:butt;stroke-linejoin:round;}</style>\r\n </defs>\r\n <g id=\"figure_1\">\r\n  <g id=\"patch_1\">\r\n   <path d=\"M 0 558 \r\nL 591.314561 558 \r\nL 591.314561 0 \r\nL 0 0 \r\nz\r\n\" style=\"fill:none;\"/>\r\n  </g>\r\n  <g id=\"axes_1\">\r\n   <g id=\"patch_2\">\r\n    <path d=\"M 496.44 279 \r\nC 496.44 247.853885 489.747944 217.068278 476.818068 188.732809 \r\nC 463.888191 160.397341 445.019814 135.167961 421.493663 114.757163 \r\nC 397.967512 94.346365 370.328204 79.226646 340.45181 70.424286 \r\nC 310.575416 61.621926 279.153557 59.340695 248.319052 63.735435 \r\nC 217.484546 68.130175 187.951195 79.099151 161.723632 95.897823 \r\nC 135.496068 112.696495 113.181445 134.935983 96.294409 161.10674 \r\nC 79.407374 187.277496 68.338851 216.773684 63.840139 247.593191 \r\nC 59.341426 278.412699 61.516666 309.842073 70.21821 339.747986 \r\nL 279 279 \r\nL 496.44 279 \r\nz\r\n\" style=\"fill:#1f77b4;\"/>\r\n   </g>\r\n   <g id=\"patch_3\">\r\n    <path d=\"M 70.21821 339.747986 \r\nC 82.008809 380.270521 105.345779 416.497124 137.368073 443.986517 \r\nC 169.390368 471.475911 208.733617 489.056857 250.574451 494.573982 \r\nL 279 279 \r\nL 70.21821 339.747986 \r\nz\r\n\" style=\"fill:#ff7f0e;\"/>\r\n   </g>\r\n   <g id=\"patch_4\">\r\n    <path d=\"M 250.574451 494.573982 \r\nC 271.54458 497.3391 292.806411 497.029651 313.687186 493.655428 \r\nC 334.567962 490.281205 354.845102 483.878174 373.877006 474.648939 \r\nL 279 279 \r\nL 250.574451 494.573982 \r\nz\r\n\" style=\"fill:#2ca02c;\"/>\r\n   </g>\r\n   <g id=\"patch_5\">\r\n    <path d=\"M 373.877006 474.648939 \r\nC 392.135401 465.794805 409.064811 454.428228 424.171857 440.880467 \r\nC 439.278903 427.332706 452.41539 411.736659 463.19848 394.546847 \r\nL 279 279 \r\nL 373.877006 474.648939 \r\nz\r\n\" style=\"fill:#d62728;\"/>\r\n   </g>\r\n   <g id=\"patch_6\">\r\n    <path d=\"M 463.19848 394.546847 \r\nC 465.999312 390.081912 468.636875 385.516616 471.105941 380.860006 \r\nC 473.575008 376.203397 475.873945 371.458552 477.998197 366.634875 \r\nL 279 279 \r\nL 463.19848 394.546847 \r\nz\r\n\" style=\"fill:#9467bd;\"/>\r\n   </g>\r\n   <g id=\"patch_7\">\r\n    <path d=\"M 477.998197 366.634875 \r\nC 480.032036 362.016504 481.904484 357.328729 483.612138 352.580069 \r\nC 485.319792 347.831408 486.861618 343.02474 488.234814 338.168796 \r\nL 279 279 \r\nL 477.998197 366.634875 \r\nz\r\n\" style=\"fill:#8c564b;\"/>\r\n   </g>\r\n   <g id=\"patch_8\">\r\n    <path d=\"M 488.234814 338.168796 \r\nC 488.842235 336.020811 489.416544 333.8636 489.957535 331.69793 \r\nC 490.498527 329.53226 491.006138 327.358388 491.480188 325.177086 \r\nL 279 279 \r\nL 488.234814 338.168796 \r\nz\r\n\" style=\"fill:#e377c2;\"/>\r\n   </g>\r\n   <g id=\"patch_9\">\r\n    <path d=\"M 491.480188 325.177086 \r\nC 491.912148 323.189459 492.316196 321.195868 492.692215 319.196902 \r\nC 493.068233 317.197937 493.416185 315.193793 493.735966 313.185064 \r\nL 279 279 \r\nL 491.480188 325.177086 \r\nz\r\n\" style=\"fill:#7f7f7f;\"/>\r\n   </g>\r\n   <g id=\"patch_10\">\r\n    <path d=\"M 493.735966 313.185064 \r\nC 494.015978 311.426145 494.274369 309.663852 494.51108 307.898584 \r\nC 494.74779 306.133316 494.962803 304.365206 495.156068 302.594655 \r\nL 279 279 \r\nL 493.735966 313.185064 \r\nz\r\n\" style=\"fill:#bcbd22;\"/>\r\n   </g>\r\n   <g id=\"patch_11\">\r\n    <path d=\"M 495.156068 302.594655 \r\nC 495.321603 301.078156 495.471174 299.559956 495.604756 298.040309 \r\nC 495.738338 296.520662 495.855924 294.999652 495.957495 293.47753 \r\nL 279 279 \r\nL 495.156068 302.594655 \r\nz\r\n\" style=\"fill:#17becf;\"/>\r\n   </g>\r\n   <g id=\"patch_12\">\r\n    <path d=\"M 495.957495 293.47753 \r\nC 496.054725 292.020457 496.137275 290.562442 496.205131 289.103706 \r\nC 496.272986 287.64497 496.326145 286.185587 496.364599 284.72578 \r\nL 279 279 \r\nL 495.957495 293.47753 \r\nz\r\n\" style=\"fill:#1f77b4;\"/>\r\n   </g>\r\n   <g id=\"patch_13\">\r\n    <path d=\"M 496.364599 284.72578 \r\nC 496.389732 283.771697 496.408582 282.817458 496.421149 281.863127 \r\nC 496.433716 280.908795 496.44 279.954391 496.44 278.999976 \r\nL 279 279 \r\nL 496.364599 284.72578 \r\nz\r\n\" style=\"fill:#ff7f0e;\"/>\r\n   </g>\r\n   <g id=\"matplotlib.axis_1\"/>\r\n   <g id=\"matplotlib.axis_2\"/>\r\n   <g id=\"text_1\">\r\n    <!-- [음악/댄스/가수] -->\r\n    <g transform=\"translate(171.238457 44.930853)scale(0.1 -0.1)\">\r\n     <defs>\r\n      <path d=\"M 1797 -1044 \r\nL 638 -1044 \r\nL 638 4600 \r\nL 1797 4600 \r\nL 1797 4234 \r\nL 1084 4234 \r\nL 1084 -684 \r\nL 1797 -684 \r\nL 1797 -1044 \r\nz\r\n\" id=\"MalgunGothic-5b\" transform=\"scale(0.015625)\"/>\r\n      <path d=\"M 3200 3103 \r\nQ 2291 3103 1798 3426 \r\nQ 1306 3750 1306 4269 \r\nQ 1306 4788 1798 5111 \r\nQ 2291 5434 3200 5434 \r\nQ 4109 5434 4601 5111 \r\nQ 5094 4788 5094 4269 \r\nQ 5094 3750 4601 3426 \r\nQ 4109 3103 3200 3103 \r\nz\r\nM 3200 5038 \r\nQ 2525 5038 2161 4831 \r\nQ 1797 4625 1797 4269 \r\nQ 1797 3913 2161 3706 \r\nQ 2525 3500 3200 3500 \r\nQ 3875 3500 4239 3706 \r\nQ 4603 3913 4603 4269 \r\nQ 4603 4625 4239 4831 \r\nQ 3875 5038 3200 5038 \r\nz\r\nM 403 2175 \r\nL 403 2591 \r\nL 5997 2591 \r\nL 5997 2175 \r\nL 403 2175 \r\nz\r\nM 1325 -384 \r\nL 1325 1625 \r\nL 5075 1625 \r\nL 5075 -384 \r\nL 1325 -384 \r\nz\r\nM 4609 1209 \r\nL 1791 1209 \r\nL 1791 31 \r\nL 4609 31 \r\nL 4609 1209 \r\nz\r\n\" id=\"MalgunGothic-c74c\" transform=\"scale(0.015625)\"/>\r\n      <path d=\"M 5125 3438 \r\nL 5125 2100 \r\nL 4659 2100 \r\nL 4659 5466 \r\nL 5125 5466 \r\nL 5125 3859 \r\nL 6034 3859 \r\nL 6034 3438 \r\nL 5125 3438 \r\nz\r\nM 2150 2394 \r\nQ 1478 2394 1050 2808 \r\nQ 622 3222 622 3847 \r\nQ 622 4469 1047 4881 \r\nQ 1472 5294 2150 5294 \r\nQ 2828 5294 3258 4883 \r\nQ 3688 4472 3688 3847 \r\nQ 3688 3216 3256 2805 \r\nQ 2825 2394 2150 2394 \r\nz\r\nM 2150 4897 \r\nQ 1678 4897 1383 4601 \r\nQ 1088 4306 1088 3847 \r\nQ 1088 3381 1381 3089 \r\nQ 1675 2797 2150 2797 \r\nQ 2628 2797 2923 3090 \r\nQ 3219 3384 3219 3847 \r\nQ 3219 4300 2923 4598 \r\nQ 2628 4897 2150 4897 \r\nz\r\nM 4659 -563 \r\nL 4659 1350 \r\nL 1259 1350 \r\nL 1259 1766 \r\nL 5125 1766 \r\nL 5125 -563 \r\nL 4659 -563 \r\nz\r\n\" id=\"MalgunGothic-c545\" transform=\"scale(0.015625)\"/>\r\n      <path d=\"M 2584 4600 \r\nL 378 -763 \r\nL -84 -763 \r\nL 2113 4600 \r\nL 2584 4600 \r\nz\r\n\" id=\"MalgunGothic-2f\" transform=\"scale(0.015625)\"/>\r\n      <path d=\"M 5056 1166 \r\nL 5056 3128 \r\nL 4353 3128 \r\nL 4353 1294 \r\nL 3891 1294 \r\nL 3891 5344 \r\nL 4353 5344 \r\nL 4353 3547 \r\nL 5056 3547 \r\nL 5056 5466 \r\nL 5522 5466 \r\nL 5522 1166 \r\nL 5056 1166 \r\nz\r\nM 3384 2297 \r\nQ 2603 2234 863 2234 \r\nL 863 5031 \r\nL 3169 5031 \r\nL 3169 4609 \r\nL 1331 4609 \r\nL 1331 2650 \r\nQ 2772 2650 3347 2706 \r\nL 3384 2297 \r\nz\r\nM 1753 -331 \r\nL 1753 1497 \r\nL 2222 1497 \r\nL 2222 91 \r\nL 5703 91 \r\nL 5703 -331 \r\nL 1753 -331 \r\nz\r\n\" id=\"MalgunGothic-b304\" transform=\"scale(0.015625)\"/>\r\n      <path d=\"M 3194 3897 \r\nQ 2969 3416 2328 2930 \r\nQ 1688 2444 959 2247 \r\nL 641 2619 \r\nQ 1703 2841 2329 3472 \r\nQ 2956 4103 2956 4659 \r\nL 2956 4978 \r\nL 3438 4978 \r\nL 3438 4659 \r\nQ 3438 4094 4073 3476 \r\nQ 4709 2859 5759 2625 \r\nL 5428 2253 \r\nQ 4694 2481 4058 2956 \r\nQ 3422 3431 3194 3897 \r\nz\r\nM 5997 447 \r\nL 403 447 \r\nL 403 863 \r\nL 5997 863 \r\nL 5997 447 \r\nz\r\n\" id=\"MalgunGothic-c2a4\" transform=\"scale(0.015625)\"/>\r\n      <path d=\"M 5094 2566 \r\nL 5094 -563 \r\nL 4628 -563 \r\nL 4628 5466 \r\nL 5094 5466 \r\nL 5094 2981 \r\nL 6175 2981 \r\nL 6175 2566 \r\nL 5094 2566 \r\nz\r\nM 3609 4928 \r\nQ 3541 2363 897 863 \r\nL 538 1241 \r\nQ 1484 1631 2234 2506 \r\nQ 2984 3381 3109 4513 \r\nL 794 4513 \r\nL 794 4928 \r\nL 3609 4928 \r\nz\r\n\" id=\"MalgunGothic-ac00\" transform=\"scale(0.015625)\"/>\r\n      <path d=\"M 5491 2994 \r\nQ 4750 3097 4078 3498 \r\nQ 3406 3900 3200 4275 \r\nQ 2975 3891 2309 3491 \r\nQ 1644 3091 922 2956 \r\nL 634 3347 \r\nQ 1559 3450 2261 3942 \r\nQ 2963 4434 2963 5013 \r\nL 2963 5275 \r\nL 3431 5275 \r\nL 3431 5013 \r\nQ 3431 4431 4118 3948 \r\nQ 4806 3466 5766 3378 \r\nL 5491 2994 \r\nz\r\nM 3431 1838 \r\nL 3431 -563 \r\nL 2963 -563 \r\nL 2963 1838 \r\nL 403 1838 \r\nL 403 2253 \r\nL 5997 2253 \r\nL 5997 1838 \r\nL 3431 1838 \r\nz\r\n\" id=\"MalgunGothic-c218\" transform=\"scale(0.015625)\"/>\r\n      <path d=\"M 1322 -1044 \r\nL 166 -1044 \r\nL 166 -684 \r\nL 878 -684 \r\nL 878 4234 \r\nL 166 4234 \r\nL 166 4600 \r\nL 1322 4600 \r\nL 1322 -1044 \r\nz\r\n\" id=\"MalgunGothic-5d\" transform=\"scale(0.015625)\"/>\r\n     </defs>\r\n     <use xlink:href=\"#MalgunGothic-5b\"/>\r\n     <use x=\"30.46875\" xlink:href=\"#MalgunGothic-c74c\"/>\r\n     <use x=\"130.46875\" xlink:href=\"#MalgunGothic-c545\"/>\r\n     <use x=\"230.46875\" xlink:href=\"#MalgunGothic-2f\"/>\r\n     <use x=\"270.068359\" xlink:href=\"#MalgunGothic-b304\"/>\r\n     <use x=\"370.068359\" xlink:href=\"#MalgunGothic-c2a4\"/>\r\n     <use x=\"470.068359\" xlink:href=\"#MalgunGothic-2f\"/>\r\n     <use x=\"509.667969\" xlink:href=\"#MalgunGothic-ac00\"/>\r\n     <use x=\"609.667969\" xlink:href=\"#MalgunGothic-c218\"/>\r\n     <use x=\"709.667969\" xlink:href=\"#MalgunGothic-5d\"/>\r\n    </g>\r\n   </g>\r\n   <g id=\"text_2\">\r\n    <!-- 54.5% -->\r\n    <g transform=\"translate(247.053931 152.455323)scale(0.1 -0.1)\">\r\n     <defs>\r\n      <path d=\"M 3072 1403 \r\nQ 3072 722 2636 322 \r\nQ 2200 -78 1469 -78 \r\nQ 828 -78 516 113 \r\nL 516 650 \r\nQ 994 344 1475 344 \r\nQ 1969 344 2270 630 \r\nQ 2572 916 2572 1372 \r\nQ 2572 1838 2265 2092 \r\nQ 1959 2347 1381 2347 \r\nQ 994 2347 603 2300 \r\nL 759 4600 \r\nL 2869 4600 \r\nL 2869 4147 \r\nL 1206 4147 \r\nL 1106 2763 \r\nQ 1347 2784 1547 2784 \r\nQ 2263 2784 2667 2414 \r\nQ 3072 2044 3072 1403 \r\nz\r\n\" id=\"MalgunGothic-35\" transform=\"scale(0.015625)\"/>\r\n      <path d=\"M 2703 4600 \r\nL 2703 1563 \r\nL 3309 1563 \r\nL 3309 1113 \r\nL 2703 1113 \r\nL 2703 0 \r\nL 2213 0 \r\nL 2213 1113 \r\nL 50 1113 \r\nL 50 1534 \r\nQ 728 2297 1295 3109 \r\nQ 1863 3922 2172 4600 \r\nL 2703 4600 \r\nz\r\nM 625 1563 \r\nL 2213 1563 \r\nL 2213 3831 \r\nQ 1613 2788 959 1981 \r\nL 625 1563 \r\nz\r\n\" id=\"MalgunGothic-34\" transform=\"scale(0.015625)\"/>\r\n      <path d=\"M 356 275 \r\nQ 356 422 459 523 \r\nQ 563 625 700 625 \r\nQ 838 625 941 523 \r\nQ 1044 422 1044 275 \r\nQ 1044 138 942 33 \r\nQ 841 -72 700 -72 \r\nQ 559 -72 457 29 \r\nQ 356 131 356 275 \r\nz\r\n\" id=\"MalgunGothic-2e\" transform=\"scale(0.015625)\"/>\r\n      <path d=\"M 253 3444 \r\nQ 253 3997 547 4331 \r\nQ 841 4666 1353 4666 \r\nQ 1847 4666 2115 4355 \r\nQ 2384 4044 2384 3509 \r\nQ 2384 2972 2082 2633 \r\nQ 1781 2294 1288 2294 \r\nQ 816 2294 534 2608 \r\nQ 253 2922 253 3444 \r\nz\r\nM 666 3475 \r\nQ 666 3091 841 2864 \r\nQ 1016 2638 1322 2638 \r\nQ 1631 2638 1803 2863 \r\nQ 1975 3088 1975 3494 \r\nQ 1975 3894 1804 4112 \r\nQ 1634 4331 1334 4331 \r\nQ 1022 4331 844 4098 \r\nQ 666 3866 666 3475 \r\nz\r\nM 4350 4600 \r\nL 1403 -34 \r\nL 966 -34 \r\nL 3909 4600 \r\nL 4350 4600 \r\nz\r\nM 2988 1078 \r\nQ 2988 1641 3284 1977 \r\nQ 3581 2313 4081 2313 \r\nQ 4569 2313 4841 2000 \r\nQ 5113 1688 5113 1138 \r\nQ 5113 600 4809 264 \r\nQ 4506 -72 4019 -72 \r\nQ 3550 -72 3269 245 \r\nQ 2988 563 2988 1078 \r\nz\r\nM 3394 1103 \r\nQ 3394 725 3570 498 \r\nQ 3747 272 4050 272 \r\nQ 4356 272 4529 501 \r\nQ 4703 731 4703 1134 \r\nQ 4703 1534 4534 1748 \r\nQ 4366 1963 4066 1963 \r\nQ 3753 1963 3573 1731 \r\nQ 3394 1500 3394 1103 \r\nz\r\n\" id=\"MalgunGothic-25\" transform=\"scale(0.015625)\"/>\r\n     </defs>\r\n     <use xlink:href=\"#MalgunGothic-35\"/>\r\n     <use x=\"55.078125\" xlink:href=\"#MalgunGothic-34\"/>\r\n     <use x=\"110.15625\" xlink:href=\"#MalgunGothic-2e\"/>\r\n     <use x=\"132.03125\" xlink:href=\"#MalgunGothic-35\"/>\r\n     <use x=\"187.109375\" xlink:href=\"#MalgunGothic-25\"/>\r\n    </g>\r\n   </g>\r\n   <g id=\"text_3\">\r\n    <!-- [키즈/어린이] -->\r\n    <g transform=\"translate(63.151756 463.207044)scale(0.1 -0.1)\">\r\n     <defs>\r\n      <path d=\"M 4884 -563 \r\nL 4884 5466 \r\nL 5350 5466 \r\nL 5350 -563 \r\nL 4884 -563 \r\nz\r\nM 3675 4928 \r\nQ 3609 2366 959 856 \r\nL 603 1234 \r\nQ 1188 1459 1800 1993 \r\nQ 2413 2528 2766 3200 \r\nL 722 2988 \r\nL 556 3438 \r\nL 2944 3584 \r\nQ 3116 4025 3175 4513 \r\nL 850 4513 \r\nL 850 4928 \r\nL 3675 4928 \r\nz\r\n\" id=\"MalgunGothic-d0a4\" transform=\"scale(0.015625)\"/>\r\n      <path d=\"M 3438 4469 \r\nQ 3472 3888 4126 3309 \r\nQ 4781 2731 5759 2522 \r\nL 5428 2125 \r\nQ 4709 2344 4071 2811 \r\nQ 3434 3278 3194 3750 \r\nQ 2978 3281 2350 2815 \r\nQ 1722 2350 972 2125 \r\nL 641 2497 \r\nQ 1594 2700 2251 3292 \r\nQ 2909 3884 2950 4469 \r\nL 1025 4469 \r\nL 1025 4884 \r\nL 5375 4884 \r\nL 5375 4469 \r\nL 3438 4469 \r\nz\r\nM 5997 481 \r\nL 403 481 \r\nL 403 897 \r\nL 5997 897 \r\nL 5997 481 \r\nz\r\n\" id=\"MalgunGothic-c988\" transform=\"scale(0.015625)\"/>\r\n      <path d=\"M 3781 2822 \r\nQ 3731 1925 3314 1445 \r\nQ 2897 966 2259 966 \r\nQ 1572 966 1150 1514 \r\nQ 728 2063 728 3016 \r\nQ 728 3978 1145 4520 \r\nQ 1563 5063 2259 5063 \r\nQ 2900 5063 3312 4583 \r\nQ 3725 4103 3775 3238 \r\nL 4891 3238 \r\nL 4891 5466 \r\nL 5356 5466 \r\nL 5356 -563 \r\nL 4891 -563 \r\nL 4891 2822 \r\nL 3781 2822 \r\nz\r\nM 2259 4647 \r\nQ 1775 4647 1483 4206 \r\nQ 1191 3766 1191 3016 \r\nQ 1191 2269 1487 1825 \r\nQ 1784 1381 2259 1381 \r\nQ 2728 1381 3028 1831 \r\nQ 3328 2281 3328 3016 \r\nQ 3328 3766 3034 4206 \r\nQ 2741 4647 2259 4647 \r\nz\r\n\" id=\"MalgunGothic-c5b4\" transform=\"scale(0.015625)\"/>\r\n      <path d=\"M 4947 1063 \r\nL 4947 5466 \r\nL 5422 5466 \r\nL 5422 1063 \r\nL 4947 1063 \r\nz\r\nM 4325 2059 \r\nQ 3844 1981 3405 1967 \r\nQ 2966 1953 1044 1953 \r\nL 1044 3769 \r\nL 3278 3769 \r\nL 3278 4728 \r\nL 1044 4728 \r\nL 1044 5141 \r\nL 3738 5141 \r\nL 3738 3366 \r\nL 1503 3366 \r\nL 1503 2363 \r\nQ 2956 2363 3423 2380 \r\nQ 3891 2397 4256 2463 \r\nL 4325 2059 \r\nz\r\nM 1703 -391 \r\nL 1703 1434 \r\nL 2169 1434 \r\nL 2169 31 \r\nL 5575 31 \r\nL 5575 -391 \r\nL 1703 -391 \r\nz\r\n\" id=\"MalgunGothic-b9b0\" transform=\"scale(0.015625)\"/>\r\n      <path d=\"M 4947 -563 \r\nL 4947 5466 \r\nL 5416 5466 \r\nL 5416 -563 \r\nL 4947 -563 \r\nz\r\nM 2284 959 \r\nQ 1597 959 1173 1514 \r\nQ 750 2069 750 3016 \r\nQ 750 3975 1169 4522 \r\nQ 1588 5069 2284 5069 \r\nQ 2978 5069 3403 4522 \r\nQ 3828 3975 3828 3016 \r\nQ 3828 2063 3401 1511 \r\nQ 2975 959 2284 959 \r\nz\r\nM 2284 4653 \r\nQ 1803 4653 1503 4204 \r\nQ 1203 3756 1203 3016 \r\nQ 1203 2278 1506 1826 \r\nQ 1809 1375 2284 1375 \r\nQ 2756 1375 3061 1828 \r\nQ 3366 2281 3366 3016 \r\nQ 3366 3759 3067 4206 \r\nQ 2769 4653 2284 4653 \r\nz\r\n\" id=\"MalgunGothic-c774\" transform=\"scale(0.015625)\"/>\r\n     </defs>\r\n     <use xlink:href=\"#MalgunGothic-5b\"/>\r\n     <use x=\"30.46875\" xlink:href=\"#MalgunGothic-d0a4\"/>\r\n     <use x=\"130.46875\" xlink:href=\"#MalgunGothic-c988\"/>\r\n     <use x=\"230.46875\" xlink:href=\"#MalgunGothic-2f\"/>\r\n     <use x=\"270.068359\" xlink:href=\"#MalgunGothic-c5b4\"/>\r\n     <use x=\"370.068359\" xlink:href=\"#MalgunGothic-b9b0\"/>\r\n     <use x=\"470.068359\" xlink:href=\"#MalgunGothic-c774\"/>\r\n     <use x=\"570.068359\" xlink:href=\"#MalgunGothic-5d\"/>\r\n    </g>\r\n   </g>\r\n   <g id=\"text_4\">\r\n    <!-- 18.4% -->\r\n    <g transform=\"translate(180.483344 380.605973)scale(0.1 -0.1)\">\r\n     <defs>\r\n      <path d=\"M 2231 0 \r\nL 1734 0 \r\nL 1734 3972 \r\nQ 1591 3828 1266 3661 \r\nQ 941 3494 672 3428 \r\nL 672 3959 \r\nQ 1016 4056 1409 4275 \r\nQ 1803 4494 2031 4700 \r\nL 2231 4700 \r\nL 2231 0 \r\nz\r\n\" id=\"MalgunGothic-31\" transform=\"scale(0.015625)\"/>\r\n      <path d=\"M 303 1281 \r\nQ 303 1669 539 2011 \r\nQ 775 2353 1153 2494 \r\nQ 856 2647 675 2915 \r\nQ 494 3184 494 3500 \r\nQ 494 3828 659 4098 \r\nQ 825 4369 1122 4522 \r\nQ 1419 4675 1778 4675 \r\nQ 2334 4675 2700 4342 \r\nQ 3066 4009 3066 3500 \r\nQ 3066 3181 2881 2914 \r\nQ 2697 2647 2413 2494 \r\nQ 2788 2350 3022 2009 \r\nQ 3256 1669 3256 1281 \r\nQ 3256 672 2843 297 \r\nQ 2431 -78 1778 -78 \r\nQ 1131 -78 717 301 \r\nQ 303 681 303 1281 \r\nz\r\nM 809 1328 \r\nQ 809 878 1081 611 \r\nQ 1353 344 1781 344 \r\nQ 2206 344 2482 619 \r\nQ 2759 894 2759 1328 \r\nQ 2759 1731 2482 2011 \r\nQ 2206 2291 1781 2291 \r\nQ 1372 2291 1090 2020 \r\nQ 809 1750 809 1328 \r\nz\r\nM 1003 3459 \r\nQ 1003 3125 1234 2900 \r\nQ 1466 2675 1781 2675 \r\nQ 2097 2675 2330 2900 \r\nQ 2563 3125 2563 3459 \r\nQ 2563 3803 2341 4026 \r\nQ 2119 4250 1781 4250 \r\nQ 1450 4250 1226 4029 \r\nQ 1003 3809 1003 3459 \r\nz\r\n\" id=\"MalgunGothic-38\" transform=\"scale(0.015625)\"/>\r\n     </defs>\r\n     <use xlink:href=\"#MalgunGothic-31\"/>\r\n     <use x=\"55.078125\" xlink:href=\"#MalgunGothic-38\"/>\r\n     <use x=\"110.15625\" xlink:href=\"#MalgunGothic-2e\"/>\r\n     <use x=\"132.03125\" xlink:href=\"#MalgunGothic-34\"/>\r\n     <use x=\"187.109375\" xlink:href=\"#MalgunGothic-25\"/>\r\n    </g>\r\n   </g>\r\n   <g id=\"text_5\">\r\n    <!-- [음식/요리/레시피] -->\r\n    <g transform=\"translate(317.155905 517.842846)scale(0.1 -0.1)\">\r\n     <defs>\r\n      <path d=\"M 4884 1991 \r\nL 4884 5466 \r\nL 5350 5466 \r\nL 5350 1991 \r\nL 4884 1991 \r\nz\r\nM 3653 2328 \r\nQ 3244 2550 2831 2950 \r\nQ 2419 3350 2253 3700 \r\nQ 2075 3303 1659 2858 \r\nQ 1244 2413 819 2175 \r\nL 488 2497 \r\nQ 1134 2806 1571 3393 \r\nQ 2009 3981 2009 4628 \r\nL 2009 5269 \r\nL 2463 5269 \r\nL 2463 4628 \r\nQ 2463 4025 2916 3472 \r\nQ 3369 2919 3969 2669 \r\nL 3653 2328 \r\nz\r\nM 4884 -563 \r\nL 4884 1234 \r\nL 1428 1234 \r\nL 1428 1650 \r\nL 5350 1650 \r\nL 5350 -563 \r\nL 4884 -563 \r\nz\r\n\" id=\"MalgunGothic-c2dd\" transform=\"scale(0.015625)\"/>\r\n      <path d=\"M 403 391 \r\nL 403 806 \r\nL 1850 806 \r\nL 1850 2344 \r\nQ 1166 2738 1166 3525 \r\nQ 1166 4234 1727 4626 \r\nQ 2288 5019 3200 5019 \r\nQ 4116 5019 4672 4626 \r\nQ 5228 4234 5228 3525 \r\nQ 5228 2738 4550 2344 \r\nL 4550 806 \r\nL 5997 806 \r\nL 5997 391 \r\nL 403 391 \r\nz\r\nM 1650 3525 \r\nQ 1650 3022 2076 2736 \r\nQ 2503 2450 3200 2450 \r\nQ 3897 2450 4320 2737 \r\nQ 4744 3025 4744 3525 \r\nQ 4744 4028 4317 4318 \r\nQ 3891 4609 3200 4609 \r\nQ 2506 4609 2078 4318 \r\nQ 1650 4028 1650 3525 \r\nz\r\nM 2316 2150 \r\nL 2316 806 \r\nL 4084 806 \r\nL 4084 2150 \r\nQ 3709 2034 3200 2034 \r\nQ 2734 2034 2316 2150 \r\nz\r\n\" id=\"MalgunGothic-c694\" transform=\"scale(0.015625)\"/>\r\n      <path d=\"M 4884 -563 \r\nL 4884 5466 \r\nL 5350 5466 \r\nL 5350 -563 \r\nL 4884 -563 \r\nz\r\nM 856 738 \r\nL 856 3128 \r\nL 3150 3128 \r\nL 3150 4519 \r\nL 856 4519 \r\nL 856 4934 \r\nL 3616 4934 \r\nL 3616 2725 \r\nL 1325 2725 \r\nL 1325 1153 \r\nQ 3597 1153 4197 1281 \r\nL 4250 878 \r\nQ 3500 738 856 738 \r\nz\r\n\" id=\"MalgunGothic-b9ac\" transform=\"scale(0.015625)\"/>\r\n      <path d=\"M 5088 -563 \r\nL 5088 5466 \r\nL 5563 5466 \r\nL 5563 -563 \r\nL 5088 -563 \r\nz\r\nM 4000 -403 \r\nL 4000 2509 \r\nL 3144 2509 \r\nL 3144 2925 \r\nL 4000 2925 \r\nL 4000 5344 \r\nL 4459 5344 \r\nL 4459 -403 \r\nL 4000 -403 \r\nz\r\nM 769 722 \r\nL 769 3144 \r\nL 2438 3144 \r\nL 2438 4506 \r\nL 769 4506 \r\nL 769 4922 \r\nL 2906 4922 \r\nL 2906 2741 \r\nL 1234 2741 \r\nL 1234 1141 \r\nQ 2822 1141 3284 1222 \r\nL 3334 825 \r\nQ 2728 722 769 722 \r\nz\r\n\" id=\"MalgunGothic-b808\" transform=\"scale(0.015625)\"/>\r\n      <path d=\"M 4947 -563 \r\nL 4947 5466 \r\nL 5416 5466 \r\nL 5416 -563 \r\nL 4947 -563 \r\nz\r\nM 3769 966 \r\nQ 3263 1353 2820 1939 \r\nQ 2378 2525 2259 2950 \r\nQ 2116 2463 1687 1872 \r\nQ 1259 1281 756 891 \r\nL 397 1203 \r\nQ 1141 1703 1581 2479 \r\nQ 2022 3256 2022 4063 \r\nL 2022 5050 \r\nL 2484 5050 \r\nL 2484 4084 \r\nQ 2484 3303 2920 2556 \r\nQ 3356 1809 4097 1331 \r\nL 3769 966 \r\nz\r\n\" id=\"MalgunGothic-c2dc\" transform=\"scale(0.015625)\"/>\r\n      <path d=\"M 5025 -563 \r\nL 5025 5466 \r\nL 5491 5466 \r\nL 5491 -563 \r\nL 5025 -563 \r\nz\r\nM 672 4531 \r\nL 672 4941 \r\nL 4319 4941 \r\nL 4319 4531 \r\nL 672 4531 \r\nz\r\nM 4622 1141 \r\nQ 4163 1050 3647 1050 \r\nL 475 1050 \r\nL 475 1466 \r\nL 1409 1466 \r\nL 1344 4091 \r\nL 1813 4091 \r\nL 1869 1466 \r\nL 3122 1466 \r\nL 3181 4091 \r\nL 3641 4091 \r\nL 3578 1466 \r\nQ 4272 1466 4575 1538 \r\nL 4622 1141 \r\nz\r\n\" id=\"MalgunGothic-d53c\" transform=\"scale(0.015625)\"/>\r\n     </defs>\r\n     <use xlink:href=\"#MalgunGothic-5b\"/>\r\n     <use x=\"30.46875\" xlink:href=\"#MalgunGothic-c74c\"/>\r\n     <use x=\"130.46875\" xlink:href=\"#MalgunGothic-c2dd\"/>\r\n     <use x=\"230.46875\" xlink:href=\"#MalgunGothic-2f\"/>\r\n     <use x=\"270.068359\" xlink:href=\"#MalgunGothic-c694\"/>\r\n     <use x=\"370.068359\" xlink:href=\"#MalgunGothic-b9ac\"/>\r\n     <use x=\"470.068359\" xlink:href=\"#MalgunGothic-2f\"/>\r\n     <use x=\"509.667969\" xlink:href=\"#MalgunGothic-b808\"/>\r\n     <use x=\"609.667969\" xlink:href=\"#MalgunGothic-c2dc\"/>\r\n     <use x=\"709.667969\" xlink:href=\"#MalgunGothic-d53c\"/>\r\n     <use x=\"809.667969\" xlink:href=\"#MalgunGothic-5d\"/>\r\n    </g>\r\n   </g>\r\n   <g id=\"text_6\">\r\n    <!-- 9.3% -->\r\n    <g transform=\"translate(289.028718 410.407319)scale(0.1 -0.1)\">\r\n     <defs>\r\n      <path d=\"M 556 563 \r\nQ 941 344 1366 344 \r\nQ 1994 344 2347 855 \r\nQ 2700 1366 2700 2313 \r\nQ 2694 2306 2688 2313 \r\nQ 2388 1713 1653 1713 \r\nQ 1059 1713 682 2120 \r\nQ 306 2528 306 3144 \r\nQ 306 3806 711 4240 \r\nQ 1116 4675 1772 4675 \r\nQ 2466 4675 2833 4131 \r\nQ 3200 3588 3200 2578 \r\nQ 3200 1319 2717 620 \r\nQ 2234 -78 1344 -78 \r\nQ 881 -78 556 78 \r\nL 556 563 \r\nz\r\nM 813 3219 \r\nQ 813 2741 1063 2450 \r\nQ 1313 2159 1759 2159 \r\nQ 2147 2159 2406 2417 \r\nQ 2666 2675 2666 3047 \r\nQ 2666 3556 2411 3903 \r\nQ 2156 4250 1725 4250 \r\nQ 1322 4250 1067 3948 \r\nQ 813 3647 813 3219 \r\nz\r\n\" id=\"MalgunGothic-39\" transform=\"scale(0.015625)\"/>\r\n      <path d=\"M 416 719 \r\nQ 891 344 1478 344 \r\nQ 1959 344 2254 587 \r\nQ 2550 831 2550 1247 \r\nQ 2550 2169 1253 2169 \r\nL 872 2169 \r\nL 872 2591 \r\nL 1234 2591 \r\nQ 2388 2591 2388 3453 \r\nQ 2388 4250 1509 4250 \r\nQ 1022 4250 594 3916 \r\nL 594 4413 \r\nQ 1031 4675 1634 4675 \r\nQ 2184 4675 2539 4372 \r\nQ 2894 4069 2894 3581 \r\nQ 2894 2678 1972 2409 \r\nL 1972 2400 \r\nQ 2469 2356 2764 2053 \r\nQ 3059 1750 3059 1300 \r\nQ 3059 672 2604 297 \r\nQ 2150 -78 1450 -78 \r\nQ 806 -78 416 169 \r\nL 416 719 \r\nz\r\n\" id=\"MalgunGothic-33\" transform=\"scale(0.015625)\"/>\r\n     </defs>\r\n     <use xlink:href=\"#MalgunGothic-39\"/>\r\n     <use x=\"55.078125\" xlink:href=\"#MalgunGothic-2e\"/>\r\n     <use x=\"76.953125\" xlink:href=\"#MalgunGothic-33\"/>\r\n     <use x=\"132.03125\" xlink:href=\"#MalgunGothic-25\"/>\r\n    </g>\r\n   </g>\r\n   <g id=\"text_7\">\r\n    <!-- [TV/방송] -->\r\n    <g transform=\"translate(438.689042 459.790389)scale(0.1 -0.1)\">\r\n     <defs>\r\n      <path d=\"M 3294 4134 \r\nL 1966 4134 \r\nL 1966 0 \r\nL 1456 0 \r\nL 1456 4134 \r\nL 134 4134 \r\nL 134 4600 \r\nL 3294 4600 \r\nL 3294 4134 \r\nz\r\n\" id=\"MalgunGothic-54\" transform=\"scale(0.015625)\"/>\r\n      <path d=\"M 4000 4600 \r\nL 2288 0 \r\nL 1734 0 \r\nL 59 4600 \r\nL 625 4600 \r\nL 1919 922 \r\nQ 1978 750 2009 519 \r\nL 2025 519 \r\nQ 2050 713 2128 928 \r\nL 3453 4600 \r\nL 4000 4600 \r\nz\r\n\" id=\"MalgunGothic-56\" transform=\"scale(0.015625)\"/>\r\n      <path d=\"M 5125 3378 \r\nL 5125 1900 \r\nL 4659 1900 \r\nL 4659 5466 \r\nL 5125 5466 \r\nL 5125 3794 \r\nL 6034 3794 \r\nL 6034 3378 \r\nL 5125 3378 \r\nz\r\nM 756 2344 \r\nL 756 5184 \r\nL 1216 5184 \r\nL 1216 4141 \r\nL 3059 4141 \r\nL 3059 5184 \r\nL 3519 5184 \r\nL 3519 2344 \r\nL 756 2344 \r\nz\r\nM 3059 3731 \r\nL 1216 3731 \r\nL 1216 2753 \r\nL 3059 2753 \r\nL 3059 3731 \r\nz\r\nM 3263 -481 \r\nQ 2319 -481 1809 -176 \r\nQ 1300 128 1300 641 \r\nQ 1300 1144 1808 1445 \r\nQ 2316 1747 3263 1747 \r\nQ 4213 1747 4720 1448 \r\nQ 5228 1150 5228 641 \r\nQ 5228 122 4717 -179 \r\nQ 4206 -481 3263 -481 \r\nz\r\nM 3263 1344 \r\nQ 2547 1344 2172 1159 \r\nQ 1797 975 1797 641 \r\nQ 1797 303 2176 112 \r\nQ 2556 -78 3263 -78 \r\nQ 3978 -78 4358 114 \r\nQ 4738 306 4738 641 \r\nQ 4738 972 4363 1158 \r\nQ 3988 1344 3263 1344 \r\nz\r\n\" id=\"MalgunGothic-bc29\" transform=\"scale(0.015625)\"/>\r\n      <path d=\"M 5459 3303 \r\nQ 4734 3409 4096 3771 \r\nQ 3459 4134 3206 4531 \r\nQ 2972 4163 2323 3786 \r\nQ 1675 3409 972 3309 \r\nL 697 3688 \r\nQ 1650 3769 2309 4237 \r\nQ 2969 4706 2969 5153 \r\nL 2969 5331 \r\nL 3431 5331 \r\nL 3431 5153 \r\nQ 3431 4697 4090 4226 \r\nQ 4750 3756 5703 3681 \r\nL 5459 3303 \r\nz\r\nM 403 2234 \r\nL 403 2656 \r\nL 2963 2656 \r\nL 2963 3541 \r\nL 3438 3541 \r\nL 3438 2656 \r\nL 5997 2656 \r\nL 5997 2234 \r\nL 403 2234 \r\nz\r\nM 3200 -500 \r\nQ 2263 -500 1766 -200 \r\nQ 1269 100 1269 628 \r\nQ 1269 1144 1767 1442 \r\nQ 2266 1741 3200 1741 \r\nQ 4134 1741 4632 1442 \r\nQ 5131 1144 5131 628 \r\nQ 5131 100 4634 -200 \r\nQ 4138 -500 3200 -500 \r\nz\r\nM 3200 1344 \r\nQ 2481 1344 2117 1155 \r\nQ 1753 966 1753 628 \r\nQ 1753 284 2123 90 \r\nQ 2494 -103 3200 -103 \r\nQ 3903 -103 4275 90 \r\nQ 4647 284 4647 628 \r\nQ 4647 966 4281 1155 \r\nQ 3916 1344 3200 1344 \r\nz\r\n\" id=\"MalgunGothic-c1a1\" transform=\"scale(0.015625)\"/>\r\n     </defs>\r\n     <use xlink:href=\"#MalgunGothic-5b\"/>\r\n     <use x=\"30.46875\" xlink:href=\"#MalgunGothic-54\"/>\r\n     <use x=\"86.087891\" xlink:href=\"#MalgunGothic-56\"/>\r\n     <use x=\"149.515625\" xlink:href=\"#MalgunGothic-2f\"/>\r\n     <use x=\"189.115234\" xlink:href=\"#MalgunGothic-bc29\"/>\r\n     <use x=\"289.115234\" xlink:href=\"#MalgunGothic-c1a1\"/>\r\n     <use x=\"389.115234\" xlink:href=\"#MalgunGothic-5d\"/>\r\n    </g>\r\n   </g>\r\n   <g id=\"text_8\">\r\n    <!-- 8.9% -->\r\n    <g transform=\"translate(355.31952 378.742343)scale(0.1 -0.1)\">\r\n     <use xlink:href=\"#MalgunGothic-38\"/>\r\n     <use x=\"55.078125\" xlink:href=\"#MalgunGothic-2e\"/>\r\n     <use x=\"76.953125\" xlink:href=\"#MalgunGothic-39\"/>\r\n     <use x=\"132.03125\" xlink:href=\"#MalgunGothic-25\"/>\r\n    </g>\r\n   </g>\r\n   <g id=\"text_9\">\r\n    <!-- [BJ/인물/연예인] -->\r\n    <g transform=\"translate(490.316535 393.767882)scale(0.1 -0.1)\">\r\n     <defs>\r\n      <path d=\"M 609 0 \r\nL 609 4600 \r\nL 1894 4600 \r\nQ 2466 4600 2817 4311 \r\nQ 3169 4022 3169 3547 \r\nQ 3169 3166 2961 2870 \r\nQ 2753 2575 2378 2453 \r\nL 2378 2441 \r\nQ 2844 2391 3122 2089 \r\nQ 3400 1788 3400 1319 \r\nQ 3400 731 2978 365 \r\nQ 2556 0 1919 0 \r\nL 609 0 \r\nz\r\nM 1113 4128 \r\nL 1113 2619 \r\nL 1672 2619 \r\nQ 2134 2619 2387 2839 \r\nQ 2641 3059 2641 3447 \r\nQ 2641 4128 1750 4128 \r\nL 1113 4128 \r\nz\r\nM 1113 2153 \r\nL 1113 469 \r\nL 1859 469 \r\nQ 2334 469 2603 698 \r\nQ 2872 928 2872 1325 \r\nQ 2872 2153 1738 2153 \r\nL 1113 2153 \r\nz\r\n\" id=\"MalgunGothic-42\" transform=\"scale(0.015625)\"/>\r\n      <path d=\"M 1734 1634 \r\nQ 1734 822 1398 372 \r\nQ 1063 -78 491 -78 \r\nQ 244 -78 63 -3 \r\nL 63 500 \r\nQ 234 381 503 381 \r\nQ 1228 381 1228 1628 \r\nL 1228 4600 \r\nL 1734 4600 \r\nL 1734 1634 \r\nz\r\n\" id=\"MalgunGothic-4a\" transform=\"scale(0.015625)\"/>\r\n      <path d=\"M 4947 1063 \r\nL 4947 5466 \r\nL 5416 5466 \r\nL 5416 1063 \r\nL 4947 1063 \r\nz\r\nM 2438 2175 \r\nQ 1763 2175 1309 2601 \r\nQ 856 3028 856 3706 \r\nQ 856 4388 1307 4811 \r\nQ 1759 5234 2438 5234 \r\nQ 3116 5234 3564 4812 \r\nQ 4013 4391 4013 3706 \r\nQ 4013 3028 3563 2601 \r\nQ 3113 2175 2438 2175 \r\nz\r\nM 2438 4819 \r\nQ 1944 4819 1634 4516 \r\nQ 1325 4213 1325 3706 \r\nQ 1325 3200 1633 2895 \r\nQ 1941 2591 2438 2591 \r\nQ 2934 2591 3243 2895 \r\nQ 3553 3200 3553 3706 \r\nQ 3553 4213 3243 4516 \r\nQ 2934 4819 2438 4819 \r\nz\r\nM 1613 -331 \r\nL 1613 1625 \r\nL 2081 1625 \r\nL 2081 91 \r\nL 5575 91 \r\nL 5575 -331 \r\nL 1613 -331 \r\nz\r\n\" id=\"MalgunGothic-c778\" transform=\"scale(0.015625)\"/>\r\n      <path d=\"M 1338 3463 \r\nL 1338 5350 \r\nL 5056 5350 \r\nL 5056 3463 \r\nL 1338 3463 \r\nz\r\nM 4594 4947 \r\nL 1797 4947 \r\nL 1797 3866 \r\nL 4594 3866 \r\nL 4594 4947 \r\nz\r\nM 1319 -494 \r\nL 1319 884 \r\nL 4616 884 \r\nL 4616 1466 \r\nL 1319 1466 \r\nL 1319 1863 \r\nL 2963 1863 \r\nL 2963 2478 \r\nL 403 2478 \r\nL 403 2881 \r\nL 5997 2881 \r\nL 5997 2478 \r\nL 3438 2478 \r\nL 3438 1863 \r\nL 5075 1863 \r\nL 5075 506 \r\nL 1778 506 \r\nL 1778 -97 \r\nL 5234 -97 \r\nL 5234 -494 \r\nL 1319 -494 \r\nz\r\n\" id=\"MalgunGothic-bb3c\" transform=\"scale(0.015625)\"/>\r\n      <path d=\"M 3591 2528 \r\nQ 3134 2041 2413 2041 \r\nQ 1734 2041 1282 2489 \r\nQ 831 2938 831 3647 \r\nQ 831 4369 1284 4811 \r\nQ 1738 5253 2413 5253 \r\nQ 3266 5253 3725 4603 \r\nL 4959 4603 \r\nL 4959 5466 \r\nL 5428 5466 \r\nL 5428 1063 \r\nL 4959 1063 \r\nL 4959 2528 \r\nL 3591 2528 \r\nz\r\nM 2413 4844 \r\nQ 1919 4844 1609 4520 \r\nQ 1300 4197 1300 3647 \r\nQ 1300 3097 1609 2773 \r\nQ 1919 2450 2413 2450 \r\nQ 2916 2450 3228 2775 \r\nQ 3541 3100 3541 3647 \r\nQ 3541 4194 3228 4519 \r\nQ 2916 4844 2413 4844 \r\nz\r\nM 3859 2938 \r\nL 4959 2938 \r\nL 4959 4191 \r\nL 3916 4191 \r\nQ 4000 3931 4000 3647 \r\nQ 4000 3263 3859 2938 \r\nz\r\nM 1703 -378 \r\nL 1703 1478 \r\nL 2169 1478 \r\nL 2169 44 \r\nL 5575 44 \r\nL 5575 -378 \r\nL 1703 -378 \r\nz\r\n\" id=\"MalgunGothic-c5f0\" transform=\"scale(0.015625)\"/>\r\n      <path d=\"M 5069 -563 \r\nL 5069 5466 \r\nL 5538 5466 \r\nL 5538 -563 \r\nL 5069 -563 \r\nz\r\nM 3091 1856 \r\nQ 2775 928 1947 928 \r\nQ 1325 928 986 1470 \r\nQ 647 2013 647 3016 \r\nQ 647 4016 986 4558 \r\nQ 1325 5100 1947 5100 \r\nQ 2763 5100 3078 4206 \r\nL 3981 4206 \r\nL 3981 5344 \r\nL 4447 5344 \r\nL 4447 -500 \r\nL 3981 -500 \r\nL 3981 1856 \r\nL 3091 1856 \r\nz\r\nM 1947 4678 \r\nQ 1094 4678 1094 3016 \r\nQ 1094 1350 1947 1350 \r\nQ 2797 1350 2797 3016 \r\nQ 2797 4678 1947 4678 \r\nz\r\nM 3194 2266 \r\nL 3981 2266 \r\nL 3981 3794 \r\nL 3188 3794 \r\nQ 3250 3413 3250 3016 \r\nQ 3250 2597 3194 2266 \r\nz\r\n\" id=\"MalgunGothic-c608\" transform=\"scale(0.015625)\"/>\r\n     </defs>\r\n     <use xlink:href=\"#MalgunGothic-5b\"/>\r\n     <use x=\"30.46875\" xlink:href=\"#MalgunGothic-42\"/>\r\n     <use x=\"88.818359\" xlink:href=\"#MalgunGothic-4a\"/>\r\n     <use x=\"124.804688\" xlink:href=\"#MalgunGothic-2f\"/>\r\n     <use x=\"164.404297\" xlink:href=\"#MalgunGothic-c778\"/>\r\n     <use x=\"264.404297\" xlink:href=\"#MalgunGothic-bb3c\"/>\r\n     <use x=\"364.404297\" xlink:href=\"#MalgunGothic-2f\"/>\r\n     <use x=\"404.003906\" xlink:href=\"#MalgunGothic-c5f0\"/>\r\n     <use x=\"504.003906\" xlink:href=\"#MalgunGothic-c608\"/>\r\n     <use x=\"604.003906\" xlink:href=\"#MalgunGothic-c778\"/>\r\n     <use x=\"704.003906\" xlink:href=\"#MalgunGothic-5d\"/>\r\n    </g>\r\n   </g>\r\n   <g id=\"text_10\">\r\n    <!-- 2.3% -->\r\n    <g transform=\"translate(383.479971 342.730066)scale(0.1 -0.1)\">\r\n     <defs>\r\n      <path d=\"M 2519 3372 \r\nQ 2519 3784 2275 4018 \r\nQ 2031 4253 1628 4253 \r\nQ 1341 4253 1053 4104 \r\nQ 766 3956 534 3697 \r\nL 534 4234 \r\nQ 981 4675 1691 4675 \r\nQ 2281 4675 2642 4334 \r\nQ 3003 3994 3003 3416 \r\nQ 3003 2919 2772 2545 \r\nQ 2541 2172 1984 1775 \r\nQ 1459 1406 1254 1215 \r\nQ 1050 1025 967 854 \r\nQ 884 684 884 450 \r\nL 3116 450 \r\nL 3116 0 \r\nL 356 0 \r\nL 356 225 \r\nQ 356 603 461 870 \r\nQ 566 1138 811 1392 \r\nQ 1056 1647 1597 2022 \r\nQ 2091 2363 2305 2670 \r\nQ 2519 2978 2519 3372 \r\nz\r\n\" id=\"MalgunGothic-32\" transform=\"scale(0.015625)\"/>\r\n     </defs>\r\n     <use xlink:href=\"#MalgunGothic-32\"/>\r\n     <use x=\"55.078125\" xlink:href=\"#MalgunGothic-2e\"/>\r\n     <use x=\"76.953125\" xlink:href=\"#MalgunGothic-33\"/>\r\n     <use x=\"132.03125\" xlink:href=\"#MalgunGothic-25\"/>\r\n    </g>\r\n   </g>\r\n   <g id=\"text_11\">\r\n    <!-- [뉴스/정치/사회] -->\r\n    <g transform=\"translate(504.073352 362.659951)scale(0.1 -0.1)\">\r\n     <defs>\r\n      <path d=\"M 1313 3138 \r\nL 1313 5253 \r\nL 1778 5253 \r\nL 1778 3553 \r\nL 5172 3553 \r\nL 5172 3138 \r\nL 1313 3138 \r\nz\r\nM 4519 1850 \r\nL 4519 -563 \r\nL 4050 -563 \r\nL 4050 1850 \r\nL 2406 1850 \r\nL 2406 -563 \r\nL 1947 -563 \r\nL 1947 1850 \r\nL 403 1850 \r\nL 403 2266 \r\nL 5997 2266 \r\nL 5997 1850 \r\nL 4519 1850 \r\nz\r\n\" id=\"MalgunGothic-b274\" transform=\"scale(0.015625)\"/>\r\n      <path d=\"M 4947 1984 \r\nL 4947 3694 \r\nL 3541 3694 \r\nL 3541 4109 \r\nL 4947 4109 \r\nL 4947 5466 \r\nL 5416 5466 \r\nL 5416 1984 \r\nL 4947 1984 \r\nz\r\nM 3653 2328 \r\nQ 3244 2550 2831 2950 \r\nQ 2419 3350 2253 3700 \r\nQ 2075 3303 1659 2858 \r\nQ 1244 2413 819 2175 \r\nL 488 2497 \r\nQ 1134 2806 1571 3393 \r\nQ 2009 3981 2009 4628 \r\nL 2009 4781 \r\nL 684 4781 \r\nL 684 5197 \r\nL 3788 5197 \r\nL 3788 4781 \r\nL 2463 4781 \r\nL 2463 4628 \r\nQ 2463 4025 2916 3472 \r\nQ 3369 2919 3969 2669 \r\nL 3653 2328 \r\nz\r\nM 3566 -475 \r\nQ 2622 -475 2108 -148 \r\nQ 1594 178 1594 697 \r\nQ 1594 1216 2106 1539 \r\nQ 2619 1863 3566 1863 \r\nQ 4513 1863 5025 1539 \r\nQ 5538 1216 5538 697 \r\nQ 5538 178 5023 -148 \r\nQ 4509 -475 3566 -475 \r\nz\r\nM 3566 1466 \r\nQ 2850 1466 2472 1248 \r\nQ 2094 1031 2094 697 \r\nQ 2094 359 2473 143 \r\nQ 2853 -72 3566 -72 \r\nQ 4275 -72 4656 142 \r\nQ 5038 356 5038 697 \r\nQ 5038 1034 4659 1250 \r\nQ 4281 1466 3566 1466 \r\nz\r\n\" id=\"MalgunGothic-c815\" transform=\"scale(0.015625)\"/>\r\n      <path d=\"M 4941 -563 \r\nL 4941 5466 \r\nL 5409 5466 \r\nL 5409 -563 \r\nL 4941 -563 \r\nz\r\nM 3969 966 \r\nQ 3447 1272 2995 1773 \r\nQ 2544 2275 2406 2656 \r\nQ 2281 2259 1817 1686 \r\nQ 1353 1113 891 831 \r\nL 531 1197 \r\nQ 1197 1519 1683 2242 \r\nQ 2169 2966 2169 3628 \r\nL 2169 4206 \r\nL 678 4206 \r\nL 678 4622 \r\nL 2163 4622 \r\nL 2163 5466 \r\nL 2631 5466 \r\nL 2631 4622 \r\nL 4128 4622 \r\nL 4128 4206 \r\nL 2638 4206 \r\nL 2631 3603 \r\nQ 2625 2991 3111 2314 \r\nQ 3597 1638 4300 1338 \r\nL 3969 966 \r\nz\r\n\" id=\"MalgunGothic-ce58\" transform=\"scale(0.015625)\"/>\r\n      <path d=\"M 5094 2600 \r\nL 5094 -563 \r\nL 4628 -563 \r\nL 4628 5466 \r\nL 5094 5466 \r\nL 5094 3016 \r\nL 6138 3016 \r\nL 6138 2600 \r\nL 5094 2600 \r\nz\r\nM 3744 966 \r\nQ 3234 1356 2800 1936 \r\nQ 2366 2516 2234 2950 \r\nQ 2094 2472 1672 1883 \r\nQ 1250 1294 738 891 \r\nL 378 1203 \r\nQ 1116 1703 1556 2479 \r\nQ 1997 3256 1997 4063 \r\nL 1997 5050 \r\nL 2463 5050 \r\nL 2463 4084 \r\nQ 2463 3297 2898 2553 \r\nQ 3334 1809 4072 1331 \r\nL 3744 966 \r\nz\r\n\" id=\"MalgunGothic-c0ac\" transform=\"scale(0.015625)\"/>\r\n      <path d=\"M 4997 -563 \r\nL 4997 5466 \r\nL 5466 5466 \r\nL 5466 -563 \r\nL 4997 -563 \r\nz\r\nM 2247 5453 \r\nL 2713 5453 \r\nL 2713 4666 \r\nL 4275 4666 \r\nL 4275 4250 \r\nL 672 4250 \r\nL 672 4666 \r\nL 2247 4666 \r\nL 2247 5453 \r\nz\r\nM 2706 1728 \r\nL 2706 863 \r\nL 3838 900 \r\nQ 4341 916 4531 934 \r\nL 4556 531 \r\nQ 4063 491 2667 459 \r\nQ 1272 428 513 428 \r\nL 469 838 \r\nQ 1413 838 2247 856 \r\nL 2247 1728 \r\nQ 1628 1784 1293 2082 \r\nQ 959 2381 959 2816 \r\nQ 959 3313 1368 3620 \r\nQ 1778 3928 2484 3928 \r\nQ 3184 3928 3589 3622 \r\nQ 3994 3316 3994 2853 \r\nQ 3994 2400 3656 2092 \r\nQ 3319 1784 2706 1728 \r\nz\r\nM 2484 3534 \r\nQ 2003 3534 1718 3332 \r\nQ 1434 3131 1434 2816 \r\nQ 1434 2506 1711 2312 \r\nQ 1988 2119 2484 2119 \r\nQ 2978 2119 3251 2314 \r\nQ 3525 2509 3525 2816 \r\nQ 3525 3128 3245 3331 \r\nQ 2966 3534 2484 3534 \r\nz\r\n\" id=\"MalgunGothic-d68c\" transform=\"scale(0.015625)\"/>\r\n     </defs>\r\n     <use xlink:href=\"#MalgunGothic-5b\"/>\r\n     <use x=\"30.46875\" xlink:href=\"#MalgunGothic-b274\"/>\r\n     <use x=\"130.46875\" xlink:href=\"#MalgunGothic-c2a4\"/>\r\n     <use x=\"230.46875\" xlink:href=\"#MalgunGothic-2f\"/>\r\n     <use x=\"270.068359\" xlink:href=\"#MalgunGothic-c815\"/>\r\n     <use x=\"370.068359\" xlink:href=\"#MalgunGothic-ce58\"/>\r\n     <use x=\"470.068359\" xlink:href=\"#MalgunGothic-2f\"/>\r\n     <use x=\"509.667969\" xlink:href=\"#MalgunGothic-c0ac\"/>\r\n     <use x=\"609.667969\" xlink:href=\"#MalgunGothic-d68c\"/>\r\n     <use x=\"709.667969\" xlink:href=\"#MalgunGothic-5d\"/>\r\n    </g>\r\n   </g>\r\n   <g id=\"text_12\">\r\n    <!-- 2.2% -->\r\n    <g transform=\"translate(390.983689 325.762104)scale(0.1 -0.1)\">\r\n     <use xlink:href=\"#MalgunGothic-32\"/>\r\n     <use x=\"55.078125\" xlink:href=\"#MalgunGothic-2e\"/>\r\n     <use x=\"76.953125\" xlink:href=\"#MalgunGothic-32\"/>\r\n     <use x=\"132.03125\" xlink:href=\"#MalgunGothic-25\"/>\r\n    </g>\r\n   </g>\r\n   <g id=\"text_13\">\r\n    <!-- [미분류] -->\r\n    <g transform=\"translate(511.053289 339.689598)scale(0.1 -0.1)\">\r\n     <defs>\r\n      <path d=\"M 4884 -563 \r\nL 4884 5466 \r\nL 5350 5466 \r\nL 5350 -563 \r\nL 4884 -563 \r\nz\r\nM 819 1209 \r\nL 819 4934 \r\nL 3688 4934 \r\nL 3688 1209 \r\nL 819 1209 \r\nz\r\nM 3219 4525 \r\nL 1288 4525 \r\nL 1288 1619 \r\nL 3219 1619 \r\nL 3219 4525 \r\nz\r\n\" id=\"MalgunGothic-bbf8\" transform=\"scale(0.015625)\"/>\r\n      <path d=\"M 1338 2994 \r\nL 1338 5306 \r\nL 1806 5306 \r\nL 1806 4525 \r\nL 4594 4525 \r\nL 4594 5306 \r\nL 5056 5306 \r\nL 5056 2994 \r\nL 1338 2994 \r\nz\r\nM 4594 4109 \r\nL 1806 4109 \r\nL 1806 3406 \r\nL 4594 3406 \r\nL 4594 4109 \r\nz\r\nM 3456 1863 \r\nL 3456 494 \r\nL 2988 494 \r\nL 2988 1863 \r\nL 403 1863 \r\nL 403 2278 \r\nL 5997 2278 \r\nL 5997 1863 \r\nL 3456 1863 \r\nz\r\nM 1288 -384 \r\nL 1288 1344 \r\nL 1753 1344 \r\nL 1753 31 \r\nL 5216 31 \r\nL 5216 -384 \r\nL 1288 -384 \r\nz\r\n\" id=\"MalgunGothic-bd84\" transform=\"scale(0.015625)\"/>\r\n      <path d=\"M 1325 2675 \r\nL 1325 4206 \r\nL 4616 4206 \r\nL 4616 4863 \r\nL 1325 4863 \r\nL 1325 5281 \r\nL 5075 5281 \r\nL 5075 3803 \r\nL 1784 3803 \r\nL 1784 3091 \r\nL 5216 3091 \r\nL 5216 2675 \r\nL 1325 2675 \r\nz\r\nM 1881 -563 \r\nL 1881 1588 \r\nL 403 1588 \r\nL 403 2003 \r\nL 5997 2003 \r\nL 5997 1588 \r\nL 4519 1588 \r\nL 4519 -563 \r\nL 4050 -563 \r\nL 4050 1588 \r\nL 2350 1588 \r\nL 2350 -563 \r\nL 1881 -563 \r\nz\r\n\" id=\"MalgunGothic-b958\" transform=\"scale(0.015625)\"/>\r\n     </defs>\r\n     <use xlink:href=\"#MalgunGothic-5b\"/>\r\n     <use x=\"30.46875\" xlink:href=\"#MalgunGothic-bbf8\"/>\r\n     <use x=\"130.46875\" xlink:href=\"#MalgunGothic-bd84\"/>\r\n     <use x=\"230.46875\" xlink:href=\"#MalgunGothic-b958\"/>\r\n     <use x=\"330.46875\" xlink:href=\"#MalgunGothic-5d\"/>\r\n    </g>\r\n   </g>\r\n   <g id=\"text_14\">\r\n    <!-- 1.0% -->\r\n    <g transform=\"translate(394.790928 313.232821)scale(0.1 -0.1)\">\r\n     <defs>\r\n      <path d=\"M 278 2206 \r\nQ 278 3425 675 4050 \r\nQ 1072 4675 1819 4675 \r\nQ 3253 4675 3253 2319 \r\nQ 3253 1156 2854 539 \r\nQ 2456 -78 1716 -78 \r\nQ 1016 -78 647 520 \r\nQ 278 1119 278 2206 \r\nz\r\nM 784 2231 \r\nQ 784 344 1769 344 \r\nQ 2747 344 2747 2259 \r\nQ 2747 4250 1794 4250 \r\nQ 784 4250 784 2231 \r\nz\r\n\" id=\"MalgunGothic-30\" transform=\"scale(0.015625)\"/>\r\n     </defs>\r\n     <use xlink:href=\"#MalgunGothic-31\"/>\r\n     <use x=\"55.078125\" xlink:href=\"#MalgunGothic-2e\"/>\r\n     <use x=\"76.953125\" xlink:href=\"#MalgunGothic-30\"/>\r\n     <use x=\"132.03125\" xlink:href=\"#MalgunGothic-25\"/>\r\n    </g>\r\n   </g>\r\n   <g id=\"text_15\">\r\n    <!-- [애완/반려동물] -->\r\n    <g transform=\"translate(514.061436 325.938467)scale(0.1 -0.1)\">\r\n     <defs>\r\n      <path d=\"M 5069 -563 \r\nL 5069 2553 \r\nL 4313 2553 \r\nL 4313 -378 \r\nL 3853 -378 \r\nL 3853 5344 \r\nL 4313 5344 \r\nL 4313 2969 \r\nL 5069 2969 \r\nL 5069 5466 \r\nL 5538 5466 \r\nL 5538 -563 \r\nL 5069 -563 \r\nz\r\nM 1947 959 \r\nQ 1328 959 993 1479 \r\nQ 659 2000 659 3016 \r\nQ 659 4028 993 4545 \r\nQ 1328 5063 1947 5063 \r\nQ 2559 5063 2895 4547 \r\nQ 3231 4031 3231 3016 \r\nQ 3231 1997 2895 1478 \r\nQ 2559 959 1947 959 \r\nz\r\nM 1947 4641 \r\nQ 1106 4641 1106 3016 \r\nQ 1106 1381 1947 1381 \r\nQ 2778 1381 2778 3016 \r\nQ 2778 4641 1947 4641 \r\nz\r\n\" id=\"MalgunGothic-c560\" transform=\"scale(0.015625)\"/>\r\n      <path d=\"M 5203 2841 \r\nL 5203 934 \r\nL 4738 934 \r\nL 4738 5466 \r\nL 5203 5466 \r\nL 5203 3256 \r\nL 6138 3256 \r\nL 6138 2841 \r\nL 5203 2841 \r\nz\r\nM 4313 1869 \r\nQ 3784 1831 2462 1795 \r\nQ 1141 1759 500 1759 \r\nL 453 2175 \r\nQ 1378 2175 2156 2194 \r\nL 2156 2859 \r\nQ 1553 2919 1204 3248 \r\nQ 856 3578 856 4056 \r\nQ 856 4584 1272 4926 \r\nQ 1688 5269 2381 5269 \r\nQ 3078 5269 3487 4926 \r\nQ 3897 4584 3897 4056 \r\nQ 3897 3584 3556 3253 \r\nQ 3216 2922 2625 2859 \r\nL 2625 2209 \r\nQ 3866 2241 4288 2272 \r\nL 4313 1869 \r\nz\r\nM 2381 4872 \r\nQ 1894 4872 1603 4648 \r\nQ 1313 4425 1313 4056 \r\nQ 1313 3697 1602 3470 \r\nQ 1891 3244 2381 3244 \r\nQ 2872 3244 3158 3472 \r\nQ 3444 3700 3444 4056 \r\nQ 3444 4422 3156 4647 \r\nQ 2869 4872 2381 4872 \r\nz\r\nM 1441 -416 \r\nL 1441 1288 \r\nL 1906 1288 \r\nL 1906 0 \r\nL 5356 0 \r\nL 5356 -416 \r\nL 1441 -416 \r\nz\r\n\" id=\"MalgunGothic-c644\" transform=\"scale(0.015625)\"/>\r\n      <path d=\"M 5125 3169 \r\nL 5125 1063 \r\nL 4659 1063 \r\nL 4659 5466 \r\nL 5125 5466 \r\nL 5125 3591 \r\nL 6034 3591 \r\nL 6034 3169 \r\nL 5125 3169 \r\nz\r\nM 756 2119 \r\nL 756 5178 \r\nL 1216 5178 \r\nL 1216 4019 \r\nL 3059 4019 \r\nL 3059 5178 \r\nL 3519 5178 \r\nL 3519 2119 \r\nL 756 2119 \r\nz\r\nM 3059 3603 \r\nL 1216 3603 \r\nL 1216 2534 \r\nL 3059 2534 \r\nL 3059 3603 \r\nz\r\nM 1453 -372 \r\nL 1453 1478 \r\nL 1919 1478 \r\nL 1919 44 \r\nL 5294 44 \r\nL 5294 -372 \r\nL 1453 -372 \r\nz\r\n\" id=\"MalgunGothic-bc18\" transform=\"scale(0.015625)\"/>\r\n      <path d=\"M 3841 1919 \r\nL 3841 2338 \r\nL 4963 2338 \r\nL 4963 3559 \r\nL 3875 3559 \r\nL 3875 3975 \r\nL 4963 3975 \r\nL 4963 5466 \r\nL 5431 5466 \r\nL 5431 -563 \r\nL 4963 -563 \r\nL 4963 1919 \r\nL 3841 1919 \r\nz\r\nM 3756 913 \r\nQ 3063 778 922 778 \r\nL 922 3166 \r\nL 2963 3166 \r\nL 2963 4503 \r\nL 934 4503 \r\nL 934 4919 \r\nL 3438 4919 \r\nL 3438 2763 \r\nL 1388 2763 \r\nL 1388 1188 \r\nQ 2606 1188 2959 1203 \r\nQ 3313 1219 3688 1291 \r\nL 3756 913 \r\nz\r\n\" id=\"MalgunGothic-b824\" transform=\"scale(0.015625)\"/>\r\n      <path d=\"M 403 2119 \r\nL 403 2534 \r\nL 2963 2534 \r\nL 2963 3316 \r\nL 1338 3316 \r\nL 1338 5325 \r\nL 5081 5325 \r\nL 5081 4909 \r\nL 1813 4909 \r\nL 1813 3731 \r\nL 5153 3731 \r\nL 5153 3316 \r\nL 3438 3316 \r\nL 3438 2534 \r\nL 5997 2534 \r\nL 5997 2119 \r\nL 403 2119 \r\nz\r\nM 3200 -513 \r\nQ 2247 -513 1740 -211 \r\nQ 1234 91 1234 603 \r\nQ 1234 1116 1742 1416 \r\nQ 2250 1716 3200 1716 \r\nQ 4150 1716 4658 1416 \r\nQ 5166 1116 5166 603 \r\nQ 5166 91 4659 -211 \r\nQ 4153 -513 3200 -513 \r\nz\r\nM 3200 1319 \r\nQ 2478 1319 2103 1126 \r\nQ 1728 934 1728 603 \r\nQ 1728 272 2104 78 \r\nQ 2481 -116 3200 -116 \r\nQ 3919 -116 4295 78 \r\nQ 4672 272 4672 603 \r\nQ 4672 934 4295 1126 \r\nQ 3919 1319 3200 1319 \r\nz\r\n\" id=\"MalgunGothic-b3d9\" transform=\"scale(0.015625)\"/>\r\n     </defs>\r\n     <use xlink:href=\"#MalgunGothic-5b\"/>\r\n     <use x=\"30.46875\" xlink:href=\"#MalgunGothic-c560\"/>\r\n     <use x=\"130.46875\" xlink:href=\"#MalgunGothic-c644\"/>\r\n     <use x=\"230.46875\" xlink:href=\"#MalgunGothic-2f\"/>\r\n     <use x=\"270.068359\" xlink:href=\"#MalgunGothic-bc18\"/>\r\n     <use x=\"370.068359\" xlink:href=\"#MalgunGothic-b824\"/>\r\n     <use x=\"470.068359\" xlink:href=\"#MalgunGothic-b3d9\"/>\r\n     <use x=\"570.068359\" xlink:href=\"#MalgunGothic-bb3c\"/>\r\n     <use x=\"670.068359\" xlink:href=\"#MalgunGothic-5d\"/>\r\n    </g>\r\n   </g>\r\n   <g id=\"text_16\">\r\n    <!-- 0.9% -->\r\n    <g transform=\"translate(396.431735 305.732204)scale(0.1 -0.1)\">\r\n     <use xlink:href=\"#MalgunGothic-30\"/>\r\n     <use x=\"55.078125\" xlink:href=\"#MalgunGothic-2e\"/>\r\n     <use x=\"76.953125\" xlink:href=\"#MalgunGothic-39\"/>\r\n     <use x=\"132.03125\" xlink:href=\"#MalgunGothic-25\"/>\r\n    </g>\r\n   </g>\r\n   <g id=\"text_17\">\r\n    <!-- [해외] -->\r\n    <g transform=\"translate(516.062188 313.510317)scale(0.1 -0.1)\">\r\n     <defs>\r\n      <path d=\"M 5119 -563 \r\nL 5119 2272 \r\nL 4403 2272 \r\nL 4403 -372 \r\nL 3944 -372 \r\nL 3944 5350 \r\nL 4403 5350 \r\nL 4403 2688 \r\nL 5119 2688 \r\nL 5119 5466 \r\nL 5588 5466 \r\nL 5588 -563 \r\nL 5119 -563 \r\nz\r\nM 416 3969 \r\nL 416 4384 \r\nL 1753 4384 \r\nL 1753 5319 \r\nL 2222 5319 \r\nL 2222 4384 \r\nL 3559 4384 \r\nL 3559 3969 \r\nL 416 3969 \r\nz\r\nM 2003 897 \r\nQ 1434 897 1046 1270 \r\nQ 659 1644 659 2222 \r\nQ 659 2794 1045 3170 \r\nQ 1431 3547 2003 3547 \r\nQ 2572 3547 2956 3173 \r\nQ 3341 2800 3341 2222 \r\nQ 3341 1638 2955 1267 \r\nQ 2569 897 2003 897 \r\nz\r\nM 2003 3138 \r\nQ 1603 3138 1354 2878 \r\nQ 1106 2619 1106 2222 \r\nQ 1106 1819 1356 1562 \r\nQ 1606 1306 2003 1306 \r\nQ 2394 1306 2647 1561 \r\nQ 2900 1816 2900 2222 \r\nQ 2900 2622 2648 2880 \r\nQ 2397 3138 2003 3138 \r\nz\r\n\" id=\"MalgunGothic-d574\" transform=\"scale(0.015625)\"/>\r\n      <path d=\"M 4984 -563 \r\nL 4984 5466 \r\nL 5453 5466 \r\nL 5453 -563 \r\nL 4984 -563 \r\nz\r\nM 2803 2131 \r\nL 2803 928 \r\nQ 4206 963 4628 991 \r\nL 4653 588 \r\nQ 2922 488 531 488 \r\nL 488 903 \r\nQ 1475 903 2328 922 \r\nL 2328 2125 \r\nQ 1688 2197 1311 2592 \r\nQ 934 2988 934 3566 \r\nQ 934 4200 1401 4606 \r\nQ 1869 5013 2572 5013 \r\nQ 3269 5013 3714 4613 \r\nQ 4159 4213 4159 3566 \r\nQ 4159 2997 3795 2608 \r\nQ 3431 2219 2803 2131 \r\nz\r\nM 2541 4603 \r\nQ 2050 4603 1733 4314 \r\nQ 1416 4025 1416 3566 \r\nQ 1416 3113 1731 2820 \r\nQ 2047 2528 2541 2528 \r\nQ 3038 2528 3359 2822 \r\nQ 3681 3116 3681 3566 \r\nQ 3681 4022 3357 4312 \r\nQ 3034 4603 2541 4603 \r\nz\r\n\" id=\"MalgunGothic-c678\" transform=\"scale(0.015625)\"/>\r\n     </defs>\r\n     <use xlink:href=\"#MalgunGothic-5b\"/>\r\n     <use x=\"30.46875\" xlink:href=\"#MalgunGothic-d574\"/>\r\n     <use x=\"130.46875\" xlink:href=\"#MalgunGothic-c678\"/>\r\n     <use x=\"230.46875\" xlink:href=\"#MalgunGothic-5d\"/>\r\n    </g>\r\n   </g>\r\n   <g id=\"text_18\">\r\n    <!-- 0.8% -->\r\n    <g transform=\"translate(397.523054 298.953213)scale(0.1 -0.1)\">\r\n     <use xlink:href=\"#MalgunGothic-30\"/>\r\n     <use x=\"55.078125\" xlink:href=\"#MalgunGothic-2e\"/>\r\n     <use x=\"76.953125\" xlink:href=\"#MalgunGothic-38\"/>\r\n     <use x=\"132.03125\" xlink:href=\"#MalgunGothic-25\"/>\r\n    </g>\r\n   </g>\r\n   <g id=\"text_19\">\r\n    <!-- [패션/미용] -->\r\n    <g transform=\"translate(517.265231 302.666215)scale(0.1 -0.1)\">\r\n     <defs>\r\n      <path d=\"M 5069 -563 \r\nL 5069 2491 \r\nL 4347 2491 \r\nL 4347 -378 \r\nL 3884 -378 \r\nL 3884 5344 \r\nL 4347 5344 \r\nL 4347 2913 \r\nL 5069 2913 \r\nL 5069 5466 \r\nL 5538 5466 \r\nL 5538 -563 \r\nL 5069 -563 \r\nz\r\nM 538 4513 \r\nL 538 4928 \r\nL 3384 4928 \r\nL 3384 4513 \r\nL 538 4513 \r\nz\r\nM 3591 1125 \r\nQ 3278 1063 2663 1063 \r\nL 366 1063 \r\nL 366 1478 \r\nL 1113 1478 \r\nL 1031 4091 \r\nL 1497 4091 \r\nL 1550 1478 \r\nL 2375 1478 \r\nL 2425 4091 \r\nL 2894 4091 \r\nL 2809 1478 \r\nQ 3369 1478 3553 1522 \r\nL 3591 1125 \r\nz\r\n\" id=\"MalgunGothic-d328\" transform=\"scale(0.015625)\"/>\r\n      <path d=\"M 3713 3066 \r\nL 3713 3469 \r\nL 4878 3469 \r\nL 4878 4153 \r\nL 3713 4153 \r\nL 3713 4556 \r\nL 4878 4556 \r\nL 4878 5466 \r\nL 5344 5466 \r\nL 5344 1063 \r\nL 4878 1063 \r\nL 4878 3066 \r\nL 3713 3066 \r\nz\r\nM 3675 2069 \r\nQ 3228 2344 2829 2776 \r\nQ 2431 3209 2266 3566 \r\nQ 2091 3150 1662 2648 \r\nQ 1234 2147 819 1913 \r\nL 481 2234 \r\nQ 1125 2559 1573 3198 \r\nQ 2022 3838 2022 4494 \r\nL 2022 5269 \r\nL 2478 5269 \r\nL 2478 4494 \r\nQ 2478 3894 2943 3286 \r\nQ 3409 2678 3988 2406 \r\nL 3675 2069 \r\nz\r\nM 1631 -366 \r\nL 1631 1550 \r\nL 2100 1550 \r\nL 2100 44 \r\nL 5503 44 \r\nL 5503 -366 \r\nL 1631 -366 \r\nz\r\n\" id=\"MalgunGothic-c158\" transform=\"scale(0.015625)\"/>\r\n      <path d=\"M 1900 3378 \r\nQ 1288 3678 1288 4269 \r\nQ 1288 4803 1784 5095 \r\nQ 2281 5388 3200 5388 \r\nQ 4119 5388 4616 5095 \r\nQ 5113 4803 5113 4269 \r\nQ 5113 3669 4494 3378 \r\nL 4494 2522 \r\nL 5997 2522 \r\nL 5997 2106 \r\nL 403 2106 \r\nL 403 2522 \r\nL 1900 2522 \r\nL 1900 3378 \r\nz\r\nM 3200 4991 \r\nQ 1772 4991 1772 4269 \r\nQ 1772 3928 2126 3737 \r\nQ 2481 3547 3200 3547 \r\nQ 3919 3547 4273 3737 \r\nQ 4628 3928 4628 4269 \r\nQ 4628 4991 3200 4991 \r\nz\r\nM 2369 2522 \r\nL 4025 2522 \r\nL 4025 3225 \r\nQ 3678 3150 3200 3150 \r\nQ 2756 3150 2369 3231 \r\nL 2369 2522 \r\nz\r\nM 3200 -531 \r\nQ 2259 -531 1764 -234 \r\nQ 1269 63 1269 581 \r\nQ 1269 1106 1767 1404 \r\nQ 2266 1703 3200 1703 \r\nQ 4134 1703 4632 1404 \r\nQ 5131 1106 5131 581 \r\nQ 5131 63 4636 -234 \r\nQ 4141 -531 3200 -531 \r\nz\r\nM 3200 1306 \r\nQ 2484 1306 2118 1112 \r\nQ 1753 919 1753 581 \r\nQ 1753 244 2117 55 \r\nQ 2481 -134 3200 -134 \r\nQ 3916 -134 4281 55 \r\nQ 4647 244 4647 581 \r\nQ 4647 922 4280 1114 \r\nQ 3913 1306 3200 1306 \r\nz\r\n\" id=\"MalgunGothic-c6a9\" transform=\"scale(0.015625)\"/>\r\n     </defs>\r\n     <use xlink:href=\"#MalgunGothic-5b\"/>\r\n     <use x=\"30.46875\" xlink:href=\"#MalgunGothic-d328\"/>\r\n     <use x=\"130.46875\" xlink:href=\"#MalgunGothic-c158\"/>\r\n     <use x=\"230.46875\" xlink:href=\"#MalgunGothic-2f\"/>\r\n     <use x=\"270.068359\" xlink:href=\"#MalgunGothic-bbf8\"/>\r\n     <use x=\"370.068359\" xlink:href=\"#MalgunGothic-c6a9\"/>\r\n     <use x=\"470.068359\" xlink:href=\"#MalgunGothic-5d\"/>\r\n    </g>\r\n   </g>\r\n   <g id=\"text_20\">\r\n    <!-- 0.7% -->\r\n    <g transform=\"translate(398.17926 293.038248)scale(0.1 -0.1)\">\r\n     <defs>\r\n      <path d=\"M 3213 4297 \r\nQ 2478 3006 2064 1918 \r\nQ 1650 831 1550 0 \r\nL 1009 0 \r\nQ 1084 531 1290 1176 \r\nQ 1497 1822 1815 2537 \r\nQ 2134 3253 2631 4147 \r\nL 291 4147 \r\nL 291 4600 \r\nL 3213 4600 \r\nL 3213 4297 \r\nz\r\n\" id=\"MalgunGothic-37\" transform=\"scale(0.015625)\"/>\r\n     </defs>\r\n     <use xlink:href=\"#MalgunGothic-30\"/>\r\n     <use x=\"55.078125\" xlink:href=\"#MalgunGothic-2e\"/>\r\n     <use x=\"76.953125\" xlink:href=\"#MalgunGothic-37\"/>\r\n     <use x=\"132.03125\" xlink:href=\"#MalgunGothic-25\"/>\r\n    </g>\r\n   </g>\r\n   <g id=\"text_21\">\r\n    <!-- [회사/오피셜] -->\r\n    <g transform=\"translate(517.925644 292.835951)scale(0.1 -0.1)\">\r\n     <defs>\r\n      <path d=\"M 403 391 \r\nL 403 800 \r\nL 2963 800 \r\nL 2963 2016 \r\nQ 2103 2081 1634 2479 \r\nQ 1166 2878 1166 3525 \r\nQ 1166 4228 1727 4629 \r\nQ 2288 5031 3200 5031 \r\nQ 4113 5031 4670 4632 \r\nQ 5228 4234 5228 3525 \r\nQ 5228 2878 4759 2479 \r\nQ 4291 2081 3438 2016 \r\nL 3438 800 \r\nL 5997 800 \r\nL 5997 391 \r\nL 403 391 \r\nz\r\nM 1650 3525 \r\nQ 1650 3016 2079 2720 \r\nQ 2509 2425 3200 2425 \r\nQ 3891 2425 4317 2722 \r\nQ 4744 3019 4744 3525 \r\nQ 4744 4028 4317 4325 \r\nQ 3891 4622 3200 4622 \r\nQ 2506 4622 2078 4325 \r\nQ 1650 4028 1650 3525 \r\nz\r\n\" id=\"MalgunGothic-c624\" transform=\"scale(0.015625)\"/>\r\n      <path d=\"M 3647 3456 \r\nL 3647 3859 \r\nL 4878 3859 \r\nL 4878 4447 \r\nL 3647 4447 \r\nL 3647 4850 \r\nL 4878 4850 \r\nL 4878 5466 \r\nL 5344 5466 \r\nL 5344 2431 \r\nL 4878 2431 \r\nL 4878 3456 \r\nL 3647 3456 \r\nz\r\nM 3653 2547 \r\nQ 3247 2731 2833 3114 \r\nQ 2419 3497 2241 3847 \r\nQ 1897 3047 800 2413 \r\nL 469 2725 \r\nQ 1178 3063 1590 3584 \r\nQ 2003 4106 2003 4716 \r\nL 2003 5331 \r\nL 2456 5331 \r\nL 2456 4716 \r\nQ 2456 4119 2911 3608 \r\nQ 3366 3097 3969 2888 \r\nL 3653 2547 \r\nz\r\nM 1631 -422 \r\nL 1631 1063 \r\nL 4884 1063 \r\nL 4884 1697 \r\nL 1631 1697 \r\nL 1631 2106 \r\nL 5344 2106 \r\nL 5344 659 \r\nL 2094 659 \r\nL 2094 -6 \r\nL 5509 -6 \r\nL 5509 -422 \r\nL 1631 -422 \r\nz\r\n\" id=\"MalgunGothic-c15c\" transform=\"scale(0.015625)\"/>\r\n     </defs>\r\n     <use xlink:href=\"#MalgunGothic-5b\"/>\r\n     <use x=\"30.46875\" xlink:href=\"#MalgunGothic-d68c\"/>\r\n     <use x=\"130.46875\" xlink:href=\"#MalgunGothic-c0ac\"/>\r\n     <use x=\"230.46875\" xlink:href=\"#MalgunGothic-2f\"/>\r\n     <use x=\"270.068359\" xlink:href=\"#MalgunGothic-c624\"/>\r\n     <use x=\"370.068359\" xlink:href=\"#MalgunGothic-d53c\"/>\r\n     <use x=\"470.068359\" xlink:href=\"#MalgunGothic-c15c\"/>\r\n     <use x=\"570.068359\" xlink:href=\"#MalgunGothic-5d\"/>\r\n    </g>\r\n   </g>\r\n   <g id=\"text_22\">\r\n    <!-- 0.6% -->\r\n    <g transform=\"translate(398.539485 287.676286)scale(0.1 -0.1)\">\r\n     <defs>\r\n      <path d=\"M 2981 4069 \r\nQ 2619 4250 2228 4250 \r\nQ 1591 4250 1228 3689 \r\nQ 866 3128 869 2213 \r\nL 884 2213 \r\nQ 1203 2872 1938 2872 \r\nQ 2547 2872 2903 2478 \r\nQ 3259 2084 3259 1450 \r\nQ 3259 797 2857 359 \r\nQ 2456 -78 1825 -78 \r\nQ 1116 -78 736 478 \r\nQ 356 1034 356 2019 \r\nQ 356 3181 847 3928 \r\nQ 1338 4675 2222 4675 \r\nQ 2700 4675 2981 4544 \r\nL 2981 4069 \r\nz\r\nM 906 1506 \r\nQ 906 1022 1165 683 \r\nQ 1425 344 1844 344 \r\nQ 2247 344 2498 645 \r\nQ 2750 947 2750 1388 \r\nQ 2750 1888 2509 2167 \r\nQ 2269 2447 1838 2447 \r\nQ 1444 2447 1175 2173 \r\nQ 906 1900 906 1506 \r\nz\r\n\" id=\"MalgunGothic-36\" transform=\"scale(0.015625)\"/>\r\n     </defs>\r\n     <use xlink:href=\"#MalgunGothic-30\"/>\r\n     <use x=\"55.078125\" xlink:href=\"#MalgunGothic-2e\"/>\r\n     <use x=\"76.953125\" xlink:href=\"#MalgunGothic-36\"/>\r\n     <use x=\"132.03125\" xlink:href=\"#MalgunGothic-25\"/>\r\n    </g>\r\n   </g>\r\n   <g id=\"text_23\">\r\n    <!-- [취미/라이프] -->\r\n    <g transform=\"translate(518.163264 284.876002)scale(0.1 -0.1)\">\r\n     <defs>\r\n      <path d=\"M 4197 2834 \r\nQ 3700 2925 3233 3214 \r\nQ 2766 3503 2597 3788 \r\nQ 2441 3484 1958 3170 \r\nQ 1475 2856 978 2725 \r\nL 678 3091 \r\nQ 1319 3184 1803 3548 \r\nQ 2288 3913 2344 4353 \r\nL 922 4353 \r\nL 922 4769 \r\nL 2363 4769 \r\nL 2363 5472 \r\nL 2828 5472 \r\nL 2828 4769 \r\nL 4225 4769 \r\nL 4225 4353 \r\nL 2841 4353 \r\nQ 2894 3950 3355 3626 \r\nQ 3816 3303 4481 3225 \r\nL 4197 2834 \r\nz\r\nM 4997 -563 \r\nL 4997 5466 \r\nL 5466 5466 \r\nL 5466 -563 \r\nL 4997 -563 \r\nz\r\nM 2375 -391 \r\nL 2375 1856 \r\nQ 878 1831 453 1831 \r\nL 409 2241 \r\nQ 1131 2241 2622 2267 \r\nQ 4113 2294 4647 2328 \r\nL 4672 1925 \r\nQ 3984 1881 2841 1869 \r\nL 2841 -391 \r\nL 2375 -391 \r\nz\r\n\" id=\"MalgunGothic-cde8\" transform=\"scale(0.015625)\"/>\r\n      <path d=\"M 5094 2503 \r\nL 5094 -563 \r\nL 4628 -563 \r\nL 4628 5466 \r\nL 5094 5466 \r\nL 5094 2925 \r\nL 6138 2925 \r\nL 6138 2503 \r\nL 5094 2503 \r\nz\r\nM 806 794 \r\nL 806 3169 \r\nL 3003 3169 \r\nL 3003 4506 \r\nL 806 4506 \r\nL 806 4922 \r\nL 3469 4922 \r\nL 3469 2759 \r\nL 1275 2759 \r\nL 1275 1203 \r\nQ 3419 1203 4063 1338 \r\nL 4128 928 \r\nQ 3284 794 806 794 \r\nz\r\n\" id=\"MalgunGothic-b77c\" transform=\"scale(0.015625)\"/>\r\n      <path d=\"M 997 4891 \r\nL 5403 4891 \r\nL 5403 4475 \r\nL 997 4475 \r\nL 997 4891 \r\nz\r\nM 4459 2463 \r\nL 5478 2463 \r\nL 5478 2053 \r\nL 922 2053 \r\nL 922 2463 \r\nL 1925 2463 \r\nL 1850 4159 \r\nL 2309 4159 \r\nL 2388 2463 \r\nL 4000 2463 \r\nL 4091 4159 \r\nL 4550 4159 \r\nL 4459 2463 \r\nz\r\nM 403 397 \r\nL 403 813 \r\nL 5997 813 \r\nL 5997 397 \r\nL 403 397 \r\nz\r\n\" id=\"MalgunGothic-d504\" transform=\"scale(0.015625)\"/>\r\n     </defs>\r\n     <use xlink:href=\"#MalgunGothic-5b\"/>\r\n     <use x=\"30.46875\" xlink:href=\"#MalgunGothic-cde8\"/>\r\n     <use x=\"130.46875\" xlink:href=\"#MalgunGothic-bbf8\"/>\r\n     <use x=\"230.46875\" xlink:href=\"#MalgunGothic-2f\"/>\r\n     <use x=\"270.068359\" xlink:href=\"#MalgunGothic-b77c\"/>\r\n     <use x=\"370.068359\" xlink:href=\"#MalgunGothic-c774\"/>\r\n     <use x=\"470.068359\" xlink:href=\"#MalgunGothic-d504\"/>\r\n     <use x=\"570.068359\" xlink:href=\"#MalgunGothic-5d\"/>\r\n    </g>\r\n   </g>\r\n   <g id=\"text_24\">\r\n    <!-- 0.4% -->\r\n    <g transform=\"translate(398.669096 283.331938)scale(0.1 -0.1)\">\r\n     <use xlink:href=\"#MalgunGothic-30\"/>\r\n     <use x=\"55.078125\" xlink:href=\"#MalgunGothic-2e\"/>\r\n     <use x=\"76.953125\" xlink:href=\"#MalgunGothic-34\"/>\r\n     <use x=\"132.03125\" xlink:href=\"#MalgunGothic-25\"/>\r\n    </g>\r\n   </g>\r\n  </g>\r\n </g>\r\n</svg>\r\n",
      "image/png": "[encoded data removed]"
     },
     "metadata": {}
    }
   ],
   "source": [
    "#파이차트 그리기\n",
    "#구독자수를 시각화하기 때문에 pivot_df['subscriber_sum]을 입력한다. \n",
    "#그리고 라벨을 출력하고 각 수치값을 퍼센트로 표기한다. \n",
    "plt.figure(figsize=(30,10))\n",
    "plt.pie(pivot_df['subscriber_sum'], labels=pivot_df['category'], autopct='%1.1f%%')\n",
    "plt.show()"
   ]
  },
  {
   "cell_type": "code",
   "execution_count": 90,
   "metadata": {},
   "outputs": [
    {
     "output_type": "display_data",
     "data": {
      "text/plain": "<Figure size 4320x1440 with 1 Axes>",
      "image/svg+xml": "<?xml version=\"1.0\" encoding=\"utf-8\" standalone=\"no\"?>\r\n<!DOCTYPE svg PUBLIC \"-//W3C//DTD SVG 1.1//EN\"\r\n  \"http://www.w3.org/Graphics/SVG/1.1/DTD/svg11.dtd\">\r\n<svg height=\"1101.6pt\" version=\"1.1\" viewBox=\"0 0 1101.6 1101.6\" width=\"1101.6pt\" xmlns=\"http://www.w3.org/2000/svg\" xmlns:xlink=\"http://www.w3.org/1999/xlink\">\r\n <metadata>\r\n  <rdf:RDF xmlns:cc=\"http://creativecommons.org/ns#\" xmlns:dc=\"http://purl.org/dc/elements/1.1/\" xmlns:rdf=\"http://www.w3.org/1999/02/22-rdf-syntax-ns#\">\r\n   <cc:Work>\r\n    <dc:type rdf:resource=\"http://purl.org/dc/dcmitype/StillImage\"/>\r\n    <dc:date>2021-06-01T16:56:48.382681</dc:date>\r\n    <dc:format>image/svg+xml</dc:format>\r\n    <dc:creator>\r\n     <cc:Agent>\r\n      <dc:title>Matplotlib v3.4.2, https://matplotlib.org/</dc:title>\r\n     </cc:Agent>\r\n    </dc:creator>\r\n   </cc:Work>\r\n  </rdf:RDF>\r\n </metadata>\r\n <defs>\r\n  <style type=\"text/css\">*{stroke-linecap:butt;stroke-linejoin:round;}</style>\r\n </defs>\r\n <g id=\"figure_1\">\r\n  <g id=\"patch_1\">\r\n   <path d=\"M 0 1101.6 \r\nL 1101.6 1101.6 \r\nL 1101.6 0 \r\nL 0 0 \r\nz\r\n\" style=\"fill:none;\"/>\r\n  </g>\r\n  <g id=\"axes_1\">\r\n   <g id=\"patch_2\">\r\n    <path d=\"M 985.68 550.8 \r\nC 985.68 468.284922 962.195114 387.449419 917.981323 317.779635 \r\nC 873.767532 248.109852 810.624757 192.442011 735.962881 157.308803 \r\nC 661.301004 122.175595 578.159475 109.007275 496.295054 119.349162 \r\nC 414.430633 129.691049 337.175981 163.12213 273.597025 215.719226 \r\nL 550.8 550.8 \r\nL 985.68 550.8 \r\nz\r\n\" style=\"fill:#1f77b4;\"/>\r\n   </g>\r\n   <g id=\"patch_3\">\r\n    <path d=\"M 273.597025 215.719226 \r\nC 192.023848 283.202439 137.83558 378.204608 121.274087 482.769824 \r\nC 104.712595 587.33504 126.891438 694.432563 183.618699 783.820399 \r\nL 550.8 550.8 \r\nL 273.597025 215.719226 \r\nz\r\n\" style=\"fill:#ff7f0e;\"/>\r\n   </g>\r\n   <g id=\"patch_4\">\r\n    <path d=\"M 183.618699 783.820399 \r\nC 217.918355 837.867995 263.732083 883.681712 317.779687 917.981356 \r\nC 371.827291 952.280999 432.787323 974.227953 496.295135 982.250848 \r\nL 550.8 550.8 \r\nL 183.618699 783.820399 \r\nz\r\n\" style=\"fill:#2ca02c;\"/>\r\n   </g>\r\n   <g id=\"patch_5\">\r\n    <path d=\"M 496.295135 982.250848 \r\nC 550.67287 989.120347 605.862334 985.648114 658.950305 972.017433 \r\nC 712.038276 958.386753 762.073927 934.841756 806.416087 902.625284 \r\nL 550.8 550.8 \r\nL 496.295135 982.250848 \r\nz\r\n\" style=\"fill:#d62728;\"/>\r\n   </g>\r\n   <g id=\"patch_6\">\r\n    <path d=\"M 806.416087 902.625284 \r\nC 824.84708 889.234381 842.197351 874.415846 858.306629 858.306565 \r\nC 874.415908 842.197283 889.234438 824.847009 902.625338 806.416013 \r\nL 550.8 550.8 \r\nL 806.416087 902.625284 \r\nz\r\n\" style=\"fill:#9467bd;\"/>\r\n   </g>\r\n   <g id=\"patch_7\">\r\n    <path d=\"M 902.625338 806.416013 \r\nC 910.657238 795.361049 918.163626 783.933661 925.119516 772.171891 \r\nC 932.075406 760.410121 938.473069 748.327035 944.291208 735.962858 \r\nL 550.8 550.8 \r\nL 902.625338 806.416013 \r\nz\r\n\" style=\"fill:#8c564b;\"/>\r\n   </g>\r\n   <g id=\"patch_8\">\r\n    <path d=\"M 944.291208 735.962858 \r\nC 948.169568 727.720919 951.788022 719.359163 955.141215 710.889964 \r\nC 958.494407 702.420765 961.580681 693.848304 964.395471 685.185269 \r\nL 550.8 550.8 \r\nL 944.291208 735.962858 \r\nz\r\n\" style=\"fill:#e377c2;\"/>\r\n   </g>\r\n   <g id=\"patch_9\">\r\n    <path d=\"M 964.395471 685.185269 \r\nC 965.802779 680.854018 967.141964 676.500928 968.41253 672.12761 \r\nC 969.683096 667.754292 970.884886 663.361286 972.017456 658.950216 \r\nL 550.8 550.8 \r\nL 964.395471 685.185269 \r\nz\r\n\" style=\"fill:#7f7f7f;\"/>\r\n   </g>\r\n   <g id=\"patch_10\">\r\n    <path d=\"M 972.017456 658.950216 \r\nC 973.150026 654.539147 974.213235 650.110559 975.206691 645.666091 \r\nC 976.200147 641.221623 977.123726 636.761824 977.977088 632.288344 \r\nL 550.8 550.8 \r\nL 972.017456 658.950216 \r\nz\r\n\" style=\"fill:#bcbd22;\"/>\r\n   </g>\r\n   <g id=\"patch_11\">\r\n    <path d=\"M 977.977088 632.288344 \r\nC 978.830449 627.814864 979.613487 623.328256 980.325912 618.830178 \r\nC 981.038337 614.332101 981.680061 609.823111 982.250847 605.304875 \r\nL 550.8 550.8 \r\nL 977.977088 632.288344 \r\nz\r\n\" style=\"fill:#17becf;\"/>\r\n   </g>\r\n   <g id=\"patch_12\">\r\n    <path d=\"M 982.250847 605.304875 \r\nC 982.821632 600.78664 983.321408 596.259717 983.749991 591.725782 \r\nC 984.178574 587.191847 984.535909 582.65146 984.821866 578.1063 \r\nL 550.8 550.8 \r\nL 982.250847 605.304875 \r\nz\r\n\" style=\"fill:#1f77b4;\"/>\r\n   </g>\r\n   <g id=\"patch_13\">\r\n    <path d=\"M 984.821866 578.1063 \r\nC 985.107823 573.56114 985.322365 569.011769 985.465414 564.45987 \r\nC 985.608463 559.907971 985.68 555.354106 985.68 550.799959 \r\nL 550.8 550.8 \r\nL 984.821866 578.1063 \r\nz\r\n\" style=\"fill:#ff7f0e;\"/>\r\n   </g>\r\n   <g id=\"matplotlib.axis_1\"/>\r\n   <g id=\"matplotlib.axis_2\"/>\r\n   <g id=\"text_1\">\r\n    <!-- [음악/댄스/가수] -->\r\n    <g transform=\"translate(754.479169 120.681558)scale(0.1 -0.1)\">\r\n     <defs>\r\n      <path d=\"M 1797 -1044 \r\nL 638 -1044 \r\nL 638 4600 \r\nL 1797 4600 \r\nL 1797 4234 \r\nL 1084 4234 \r\nL 1084 -684 \r\nL 1797 -684 \r\nL 1797 -1044 \r\nz\r\n\" id=\"MalgunGothic-5b\" transform=\"scale(0.015625)\"/>\r\n      <path d=\"M 3200 3103 \r\nQ 2291 3103 1798 3426 \r\nQ 1306 3750 1306 4269 \r\nQ 1306 4788 1798 5111 \r\nQ 2291 5434 3200 5434 \r\nQ 4109 5434 4601 5111 \r\nQ 5094 4788 5094 4269 \r\nQ 5094 3750 4601 3426 \r\nQ 4109 3103 3200 3103 \r\nz\r\nM 3200 5038 \r\nQ 2525 5038 2161 4831 \r\nQ 1797 4625 1797 4269 \r\nQ 1797 3913 2161 3706 \r\nQ 2525 3500 3200 3500 \r\nQ 3875 3500 4239 3706 \r\nQ 4603 3913 4603 4269 \r\nQ 4603 4625 4239 4831 \r\nQ 3875 5038 3200 5038 \r\nz\r\nM 403 2175 \r\nL 403 2591 \r\nL 5997 2591 \r\nL 5997 2175 \r\nL 403 2175 \r\nz\r\nM 1325 -384 \r\nL 1325 1625 \r\nL 5075 1625 \r\nL 5075 -384 \r\nL 1325 -384 \r\nz\r\nM 4609 1209 \r\nL 1791 1209 \r\nL 1791 31 \r\nL 4609 31 \r\nL 4609 1209 \r\nz\r\n\" id=\"MalgunGothic-c74c\" transform=\"scale(0.015625)\"/>\r\n      <path d=\"M 5125 3438 \r\nL 5125 2100 \r\nL 4659 2100 \r\nL 4659 5466 \r\nL 5125 5466 \r\nL 5125 3859 \r\nL 6034 3859 \r\nL 6034 3438 \r\nL 5125 3438 \r\nz\r\nM 2150 2394 \r\nQ 1478 2394 1050 2808 \r\nQ 622 3222 622 3847 \r\nQ 622 4469 1047 4881 \r\nQ 1472 5294 2150 5294 \r\nQ 2828 5294 3258 4883 \r\nQ 3688 4472 3688 3847 \r\nQ 3688 3216 3256 2805 \r\nQ 2825 2394 2150 2394 \r\nz\r\nM 2150 4897 \r\nQ 1678 4897 1383 4601 \r\nQ 1088 4306 1088 3847 \r\nQ 1088 3381 1381 3089 \r\nQ 1675 2797 2150 2797 \r\nQ 2628 2797 2923 3090 \r\nQ 3219 3384 3219 3847 \r\nQ 3219 4300 2923 4598 \r\nQ 2628 4897 2150 4897 \r\nz\r\nM 4659 -563 \r\nL 4659 1350 \r\nL 1259 1350 \r\nL 1259 1766 \r\nL 5125 1766 \r\nL 5125 -563 \r\nL 4659 -563 \r\nz\r\n\" id=\"MalgunGothic-c545\" transform=\"scale(0.015625)\"/>\r\n      <path d=\"M 2584 4600 \r\nL 378 -763 \r\nL -84 -763 \r\nL 2113 4600 \r\nL 2584 4600 \r\nz\r\n\" id=\"MalgunGothic-2f\" transform=\"scale(0.015625)\"/>\r\n      <path d=\"M 5056 1166 \r\nL 5056 3128 \r\nL 4353 3128 \r\nL 4353 1294 \r\nL 3891 1294 \r\nL 3891 5344 \r\nL 4353 5344 \r\nL 4353 3547 \r\nL 5056 3547 \r\nL 5056 5466 \r\nL 5522 5466 \r\nL 5522 1166 \r\nL 5056 1166 \r\nz\r\nM 3384 2297 \r\nQ 2603 2234 863 2234 \r\nL 863 5031 \r\nL 3169 5031 \r\nL 3169 4609 \r\nL 1331 4609 \r\nL 1331 2650 \r\nQ 2772 2650 3347 2706 \r\nL 3384 2297 \r\nz\r\nM 1753 -331 \r\nL 1753 1497 \r\nL 2222 1497 \r\nL 2222 91 \r\nL 5703 91 \r\nL 5703 -331 \r\nL 1753 -331 \r\nz\r\n\" id=\"MalgunGothic-b304\" transform=\"scale(0.015625)\"/>\r\n      <path d=\"M 3194 3897 \r\nQ 2969 3416 2328 2930 \r\nQ 1688 2444 959 2247 \r\nL 641 2619 \r\nQ 1703 2841 2329 3472 \r\nQ 2956 4103 2956 4659 \r\nL 2956 4978 \r\nL 3438 4978 \r\nL 3438 4659 \r\nQ 3438 4094 4073 3476 \r\nQ 4709 2859 5759 2625 \r\nL 5428 2253 \r\nQ 4694 2481 4058 2956 \r\nQ 3422 3431 3194 3897 \r\nz\r\nM 5997 447 \r\nL 403 447 \r\nL 403 863 \r\nL 5997 863 \r\nL 5997 447 \r\nz\r\n\" id=\"MalgunGothic-c2a4\" transform=\"scale(0.015625)\"/>\r\n      <path d=\"M 5094 2566 \r\nL 5094 -563 \r\nL 4628 -563 \r\nL 4628 5466 \r\nL 5094 5466 \r\nL 5094 2981 \r\nL 6175 2981 \r\nL 6175 2566 \r\nL 5094 2566 \r\nz\r\nM 3609 4928 \r\nQ 3541 2363 897 863 \r\nL 538 1241 \r\nQ 1484 1631 2234 2506 \r\nQ 2984 3381 3109 4513 \r\nL 794 4513 \r\nL 794 4928 \r\nL 3609 4928 \r\nz\r\n\" id=\"MalgunGothic-ac00\" transform=\"scale(0.015625)\"/>\r\n      <path d=\"M 5491 2994 \r\nQ 4750 3097 4078 3498 \r\nQ 3406 3900 3200 4275 \r\nQ 2975 3891 2309 3491 \r\nQ 1644 3091 922 2956 \r\nL 634 3347 \r\nQ 1559 3450 2261 3942 \r\nQ 2963 4434 2963 5013 \r\nL 2963 5275 \r\nL 3431 5275 \r\nL 3431 5013 \r\nQ 3431 4431 4118 3948 \r\nQ 4806 3466 5766 3378 \r\nL 5491 2994 \r\nz\r\nM 3431 1838 \r\nL 3431 -563 \r\nL 2963 -563 \r\nL 2963 1838 \r\nL 403 1838 \r\nL 403 2253 \r\nL 5997 2253 \r\nL 5997 1838 \r\nL 3431 1838 \r\nz\r\n\" id=\"MalgunGothic-c218\" transform=\"scale(0.015625)\"/>\r\n      <path d=\"M 1322 -1044 \r\nL 166 -1044 \r\nL 166 -684 \r\nL 878 -684 \r\nL 878 4234 \r\nL 166 4234 \r\nL 166 4600 \r\nL 1322 4600 \r\nL 1322 -1044 \r\nz\r\n\" id=\"MalgunGothic-5d\" transform=\"scale(0.015625)\"/>\r\n     </defs>\r\n     <use xlink:href=\"#MalgunGothic-5b\"/>\r\n     <use x=\"30.46875\" xlink:href=\"#MalgunGothic-c74c\"/>\r\n     <use x=\"130.46875\" xlink:href=\"#MalgunGothic-c545\"/>\r\n     <use x=\"230.46875\" xlink:href=\"#MalgunGothic-2f\"/>\r\n     <use x=\"270.068359\" xlink:href=\"#MalgunGothic-b304\"/>\r\n     <use x=\"370.068359\" xlink:href=\"#MalgunGothic-c2a4\"/>\r\n     <use x=\"470.068359\" xlink:href=\"#MalgunGothic-2f\"/>\r\n     <use x=\"509.667969\" xlink:href=\"#MalgunGothic-ac00\"/>\r\n     <use x=\"609.667969\" xlink:href=\"#MalgunGothic-c218\"/>\r\n     <use x=\"709.667969\" xlink:href=\"#MalgunGothic-5d\"/>\r\n    </g>\r\n   </g>\r\n   <g id=\"text_2\">\r\n    <!-- 36.0% -->\r\n    <g transform=\"translate(648.360228 317.319344)scale(0.1 -0.1)\">\r\n     <defs>\r\n      <path d=\"M 416 719 \r\nQ 891 344 1478 344 \r\nQ 1959 344 2254 587 \r\nQ 2550 831 2550 1247 \r\nQ 2550 2169 1253 2169 \r\nL 872 2169 \r\nL 872 2591 \r\nL 1234 2591 \r\nQ 2388 2591 2388 3453 \r\nQ 2388 4250 1509 4250 \r\nQ 1022 4250 594 3916 \r\nL 594 4413 \r\nQ 1031 4675 1634 4675 \r\nQ 2184 4675 2539 4372 \r\nQ 2894 4069 2894 3581 \r\nQ 2894 2678 1972 2409 \r\nL 1972 2400 \r\nQ 2469 2356 2764 2053 \r\nQ 3059 1750 3059 1300 \r\nQ 3059 672 2604 297 \r\nQ 2150 -78 1450 -78 \r\nQ 806 -78 416 169 \r\nL 416 719 \r\nz\r\n\" id=\"MalgunGothic-33\" transform=\"scale(0.015625)\"/>\r\n      <path d=\"M 2981 4069 \r\nQ 2619 4250 2228 4250 \r\nQ 1591 4250 1228 3689 \r\nQ 866 3128 869 2213 \r\nL 884 2213 \r\nQ 1203 2872 1938 2872 \r\nQ 2547 2872 2903 2478 \r\nQ 3259 2084 3259 1450 \r\nQ 3259 797 2857 359 \r\nQ 2456 -78 1825 -78 \r\nQ 1116 -78 736 478 \r\nQ 356 1034 356 2019 \r\nQ 356 3181 847 3928 \r\nQ 1338 4675 2222 4675 \r\nQ 2700 4675 2981 4544 \r\nL 2981 4069 \r\nz\r\nM 906 1506 \r\nQ 906 1022 1165 683 \r\nQ 1425 344 1844 344 \r\nQ 2247 344 2498 645 \r\nQ 2750 947 2750 1388 \r\nQ 2750 1888 2509 2167 \r\nQ 2269 2447 1838 2447 \r\nQ 1444 2447 1175 2173 \r\nQ 906 1900 906 1506 \r\nz\r\n\" id=\"MalgunGothic-36\" transform=\"scale(0.015625)\"/>\r\n      <path d=\"M 356 275 \r\nQ 356 422 459 523 \r\nQ 563 625 700 625 \r\nQ 838 625 941 523 \r\nQ 1044 422 1044 275 \r\nQ 1044 138 942 33 \r\nQ 841 -72 700 -72 \r\nQ 559 -72 457 29 \r\nQ 356 131 356 275 \r\nz\r\n\" id=\"MalgunGothic-2e\" transform=\"scale(0.015625)\"/>\r\n      <path d=\"M 278 2206 \r\nQ 278 3425 675 4050 \r\nQ 1072 4675 1819 4675 \r\nQ 3253 4675 3253 2319 \r\nQ 3253 1156 2854 539 \r\nQ 2456 -78 1716 -78 \r\nQ 1016 -78 647 520 \r\nQ 278 1119 278 2206 \r\nz\r\nM 784 2231 \r\nQ 784 344 1769 344 \r\nQ 2747 344 2747 2259 \r\nQ 2747 4250 1794 4250 \r\nQ 784 4250 784 2231 \r\nz\r\n\" id=\"MalgunGothic-30\" transform=\"scale(0.015625)\"/>\r\n      <path d=\"M 253 3444 \r\nQ 253 3997 547 4331 \r\nQ 841 4666 1353 4666 \r\nQ 1847 4666 2115 4355 \r\nQ 2384 4044 2384 3509 \r\nQ 2384 2972 2082 2633 \r\nQ 1781 2294 1288 2294 \r\nQ 816 2294 534 2608 \r\nQ 253 2922 253 3444 \r\nz\r\nM 666 3475 \r\nQ 666 3091 841 2864 \r\nQ 1016 2638 1322 2638 \r\nQ 1631 2638 1803 2863 \r\nQ 1975 3088 1975 3494 \r\nQ 1975 3894 1804 4112 \r\nQ 1634 4331 1334 4331 \r\nQ 1022 4331 844 4098 \r\nQ 666 3866 666 3475 \r\nz\r\nM 4350 4600 \r\nL 1403 -34 \r\nL 966 -34 \r\nL 3909 4600 \r\nL 4350 4600 \r\nz\r\nM 2988 1078 \r\nQ 2988 1641 3284 1977 \r\nQ 3581 2313 4081 2313 \r\nQ 4569 2313 4841 2000 \r\nQ 5113 1688 5113 1138 \r\nQ 5113 600 4809 264 \r\nQ 4506 -72 4019 -72 \r\nQ 3550 -72 3269 245 \r\nQ 2988 563 2988 1078 \r\nz\r\nM 3394 1103 \r\nQ 3394 725 3570 498 \r\nQ 3747 272 4050 272 \r\nQ 4356 272 4529 501 \r\nQ 4703 731 4703 1134 \r\nQ 4703 1534 4534 1748 \r\nQ 4366 1963 4066 1963 \r\nQ 3753 1963 3573 1731 \r\nQ 3394 1500 3394 1103 \r\nz\r\n\" id=\"MalgunGothic-25\" transform=\"scale(0.015625)\"/>\r\n     </defs>\r\n     <use xlink:href=\"#MalgunGothic-33\"/>\r\n     <use x=\"55.078125\" xlink:href=\"#MalgunGothic-36\"/>\r\n     <use x=\"110.15625\" xlink:href=\"#MalgunGothic-2e\"/>\r\n     <use x=\"132.03125\" xlink:href=\"#MalgunGothic-30\"/>\r\n     <use x=\"187.109375\" xlink:href=\"#MalgunGothic-25\"/>\r\n    </g>\r\n   </g>\r\n   <g id=\"text_3\">\r\n    <!-- [키즈/어린이] -->\r\n    <g transform=\"translate(18.268371 478.688681)scale(0.1 -0.1)\">\r\n     <defs>\r\n      <path d=\"M 4884 -563 \r\nL 4884 5466 \r\nL 5350 5466 \r\nL 5350 -563 \r\nL 4884 -563 \r\nz\r\nM 3675 4928 \r\nQ 3609 2366 959 856 \r\nL 603 1234 \r\nQ 1188 1459 1800 1993 \r\nQ 2413 2528 2766 3200 \r\nL 722 2988 \r\nL 556 3438 \r\nL 2944 3584 \r\nQ 3116 4025 3175 4513 \r\nL 850 4513 \r\nL 850 4928 \r\nL 3675 4928 \r\nz\r\n\" id=\"MalgunGothic-d0a4\" transform=\"scale(0.015625)\"/>\r\n      <path d=\"M 3438 4469 \r\nQ 3472 3888 4126 3309 \r\nQ 4781 2731 5759 2522 \r\nL 5428 2125 \r\nQ 4709 2344 4071 2811 \r\nQ 3434 3278 3194 3750 \r\nQ 2978 3281 2350 2815 \r\nQ 1722 2350 972 2125 \r\nL 641 2497 \r\nQ 1594 2700 2251 3292 \r\nQ 2909 3884 2950 4469 \r\nL 1025 4469 \r\nL 1025 4884 \r\nL 5375 4884 \r\nL 5375 4469 \r\nL 3438 4469 \r\nz\r\nM 5997 481 \r\nL 403 481 \r\nL 403 897 \r\nL 5997 897 \r\nL 5997 481 \r\nz\r\n\" id=\"MalgunGothic-c988\" transform=\"scale(0.015625)\"/>\r\n      <path d=\"M 3781 2822 \r\nQ 3731 1925 3314 1445 \r\nQ 2897 966 2259 966 \r\nQ 1572 966 1150 1514 \r\nQ 728 2063 728 3016 \r\nQ 728 3978 1145 4520 \r\nQ 1563 5063 2259 5063 \r\nQ 2900 5063 3312 4583 \r\nQ 3725 4103 3775 3238 \r\nL 4891 3238 \r\nL 4891 5466 \r\nL 5356 5466 \r\nL 5356 -563 \r\nL 4891 -563 \r\nL 4891 2822 \r\nL 3781 2822 \r\nz\r\nM 2259 4647 \r\nQ 1775 4647 1483 4206 \r\nQ 1191 3766 1191 3016 \r\nQ 1191 2269 1487 1825 \r\nQ 1784 1381 2259 1381 \r\nQ 2728 1381 3028 1831 \r\nQ 3328 2281 3328 3016 \r\nQ 3328 3766 3034 4206 \r\nQ 2741 4647 2259 4647 \r\nz\r\n\" id=\"MalgunGothic-c5b4\" transform=\"scale(0.015625)\"/>\r\n      <path d=\"M 4947 1063 \r\nL 4947 5466 \r\nL 5422 5466 \r\nL 5422 1063 \r\nL 4947 1063 \r\nz\r\nM 4325 2059 \r\nQ 3844 1981 3405 1967 \r\nQ 2966 1953 1044 1953 \r\nL 1044 3769 \r\nL 3278 3769 \r\nL 3278 4728 \r\nL 1044 4728 \r\nL 1044 5141 \r\nL 3738 5141 \r\nL 3738 3366 \r\nL 1503 3366 \r\nL 1503 2363 \r\nQ 2956 2363 3423 2380 \r\nQ 3891 2397 4256 2463 \r\nL 4325 2059 \r\nz\r\nM 1703 -391 \r\nL 1703 1434 \r\nL 2169 1434 \r\nL 2169 31 \r\nL 5575 31 \r\nL 5575 -391 \r\nL 1703 -391 \r\nz\r\n\" id=\"MalgunGothic-b9b0\" transform=\"scale(0.015625)\"/>\r\n      <path d=\"M 4947 -563 \r\nL 4947 5466 \r\nL 5416 5466 \r\nL 5416 -563 \r\nL 4947 -563 \r\nz\r\nM 2284 959 \r\nQ 1597 959 1173 1514 \r\nQ 750 2069 750 3016 \r\nQ 750 3975 1169 4522 \r\nQ 1588 5069 2284 5069 \r\nQ 2978 5069 3403 4522 \r\nQ 3828 3975 3828 3016 \r\nQ 3828 2063 3401 1511 \r\nQ 2975 959 2284 959 \r\nz\r\nM 2284 4653 \r\nQ 1803 4653 1503 4204 \r\nQ 1203 3756 1203 3016 \r\nQ 1203 2278 1506 1826 \r\nQ 1809 1375 2284 1375 \r\nQ 2756 1375 3061 1828 \r\nQ 3366 2281 3366 3016 \r\nQ 3366 3759 3067 4206 \r\nQ 2769 4653 2284 4653 \r\nz\r\n\" id=\"MalgunGothic-c774\" transform=\"scale(0.015625)\"/>\r\n     </defs>\r\n     <use xlink:href=\"#MalgunGothic-5b\"/>\r\n     <use x=\"30.46875\" xlink:href=\"#MalgunGothic-d0a4\"/>\r\n     <use x=\"130.46875\" xlink:href=\"#MalgunGothic-c988\"/>\r\n     <use x=\"230.46875\" xlink:href=\"#MalgunGothic-2f\"/>\r\n     <use x=\"270.068359\" xlink:href=\"#MalgunGothic-c5b4\"/>\r\n     <use x=\"370.068359\" xlink:href=\"#MalgunGothic-b9b0\"/>\r\n     <use x=\"470.068359\" xlink:href=\"#MalgunGothic-c774\"/>\r\n     <use x=\"570.068359\" xlink:href=\"#MalgunGothic-5d\"/>\r\n    </g>\r\n   </g>\r\n   <g id=\"text_4\">\r\n    <!-- 23.0% -->\r\n    <g transform=\"translate(279.546952 512.595957)scale(0.1 -0.1)\">\r\n     <defs>\r\n      <path d=\"M 2519 3372 \r\nQ 2519 3784 2275 4018 \r\nQ 2031 4253 1628 4253 \r\nQ 1341 4253 1053 4104 \r\nQ 766 3956 534 3697 \r\nL 534 4234 \r\nQ 981 4675 1691 4675 \r\nQ 2281 4675 2642 4334 \r\nQ 3003 3994 3003 3416 \r\nQ 3003 2919 2772 2545 \r\nQ 2541 2172 1984 1775 \r\nQ 1459 1406 1254 1215 \r\nQ 1050 1025 967 854 \r\nQ 884 684 884 450 \r\nL 3116 450 \r\nL 3116 0 \r\nL 356 0 \r\nL 356 225 \r\nQ 356 603 461 870 \r\nQ 566 1138 811 1392 \r\nQ 1056 1647 1597 2022 \r\nQ 2091 2363 2305 2670 \r\nQ 2519 2978 2519 3372 \r\nz\r\n\" id=\"MalgunGothic-32\" transform=\"scale(0.015625)\"/>\r\n     </defs>\r\n     <use xlink:href=\"#MalgunGothic-32\"/>\r\n     <use x=\"55.078125\" xlink:href=\"#MalgunGothic-33\"/>\r\n     <use x=\"110.15625\" xlink:href=\"#MalgunGothic-2e\"/>\r\n     <use x=\"132.03125\" xlink:href=\"#MalgunGothic-30\"/>\r\n     <use x=\"187.109375\" xlink:href=\"#MalgunGothic-25\"/>\r\n    </g>\r\n   </g>\r\n   <g id=\"text_5\">\r\n    <!-- [음식/요리/레시피] -->\r\n    <g transform=\"translate(210.465155 957.421366)scale(0.1 -0.1)\">\r\n     <defs>\r\n      <path d=\"M 4884 1991 \r\nL 4884 5466 \r\nL 5350 5466 \r\nL 5350 1991 \r\nL 4884 1991 \r\nz\r\nM 3653 2328 \r\nQ 3244 2550 2831 2950 \r\nQ 2419 3350 2253 3700 \r\nQ 2075 3303 1659 2858 \r\nQ 1244 2413 819 2175 \r\nL 488 2497 \r\nQ 1134 2806 1571 3393 \r\nQ 2009 3981 2009 4628 \r\nL 2009 5269 \r\nL 2463 5269 \r\nL 2463 4628 \r\nQ 2463 4025 2916 3472 \r\nQ 3369 2919 3969 2669 \r\nL 3653 2328 \r\nz\r\nM 4884 -563 \r\nL 4884 1234 \r\nL 1428 1234 \r\nL 1428 1650 \r\nL 5350 1650 \r\nL 5350 -563 \r\nL 4884 -563 \r\nz\r\n\" id=\"MalgunGothic-c2dd\" transform=\"scale(0.015625)\"/>\r\n      <path d=\"M 403 391 \r\nL 403 806 \r\nL 1850 806 \r\nL 1850 2344 \r\nQ 1166 2738 1166 3525 \r\nQ 1166 4234 1727 4626 \r\nQ 2288 5019 3200 5019 \r\nQ 4116 5019 4672 4626 \r\nQ 5228 4234 5228 3525 \r\nQ 5228 2738 4550 2344 \r\nL 4550 806 \r\nL 5997 806 \r\nL 5997 391 \r\nL 403 391 \r\nz\r\nM 1650 3525 \r\nQ 1650 3022 2076 2736 \r\nQ 2503 2450 3200 2450 \r\nQ 3897 2450 4320 2737 \r\nQ 4744 3025 4744 3525 \r\nQ 4744 4028 4317 4318 \r\nQ 3891 4609 3200 4609 \r\nQ 2506 4609 2078 4318 \r\nQ 1650 4028 1650 3525 \r\nz\r\nM 2316 2150 \r\nL 2316 806 \r\nL 4084 806 \r\nL 4084 2150 \r\nQ 3709 2034 3200 2034 \r\nQ 2734 2034 2316 2150 \r\nz\r\n\" id=\"MalgunGothic-c694\" transform=\"scale(0.015625)\"/>\r\n      <path d=\"M 4884 -563 \r\nL 4884 5466 \r\nL 5350 5466 \r\nL 5350 -563 \r\nL 4884 -563 \r\nz\r\nM 856 738 \r\nL 856 3128 \r\nL 3150 3128 \r\nL 3150 4519 \r\nL 856 4519 \r\nL 856 4934 \r\nL 3616 4934 \r\nL 3616 2725 \r\nL 1325 2725 \r\nL 1325 1153 \r\nQ 3597 1153 4197 1281 \r\nL 4250 878 \r\nQ 3500 738 856 738 \r\nz\r\n\" id=\"MalgunGothic-b9ac\" transform=\"scale(0.015625)\"/>\r\n      <path d=\"M 5088 -563 \r\nL 5088 5466 \r\nL 5563 5466 \r\nL 5563 -563 \r\nL 5088 -563 \r\nz\r\nM 4000 -403 \r\nL 4000 2509 \r\nL 3144 2509 \r\nL 3144 2925 \r\nL 4000 2925 \r\nL 4000 5344 \r\nL 4459 5344 \r\nL 4459 -403 \r\nL 4000 -403 \r\nz\r\nM 769 722 \r\nL 769 3144 \r\nL 2438 3144 \r\nL 2438 4506 \r\nL 769 4506 \r\nL 769 4922 \r\nL 2906 4922 \r\nL 2906 2741 \r\nL 1234 2741 \r\nL 1234 1141 \r\nQ 2822 1141 3284 1222 \r\nL 3334 825 \r\nQ 2728 722 769 722 \r\nz\r\n\" id=\"MalgunGothic-b808\" transform=\"scale(0.015625)\"/>\r\n      <path d=\"M 4947 -563 \r\nL 4947 5466 \r\nL 5416 5466 \r\nL 5416 -563 \r\nL 4947 -563 \r\nz\r\nM 3769 966 \r\nQ 3263 1353 2820 1939 \r\nQ 2378 2525 2259 2950 \r\nQ 2116 2463 1687 1872 \r\nQ 1259 1281 756 891 \r\nL 397 1203 \r\nQ 1141 1703 1581 2479 \r\nQ 2022 3256 2022 4063 \r\nL 2022 5050 \r\nL 2484 5050 \r\nL 2484 4084 \r\nQ 2484 3303 2920 2556 \r\nQ 3356 1809 4097 1331 \r\nL 3769 966 \r\nz\r\n\" id=\"MalgunGothic-c2dc\" transform=\"scale(0.015625)\"/>\r\n      <path d=\"M 5025 -563 \r\nL 5025 5466 \r\nL 5491 5466 \r\nL 5491 -563 \r\nL 5025 -563 \r\nz\r\nM 672 4531 \r\nL 672 4941 \r\nL 4319 4941 \r\nL 4319 4531 \r\nL 672 4531 \r\nz\r\nM 4622 1141 \r\nQ 4163 1050 3647 1050 \r\nL 475 1050 \r\nL 475 1466 \r\nL 1409 1466 \r\nL 1344 4091 \r\nL 1813 4091 \r\nL 1869 1466 \r\nL 3122 1466 \r\nL 3181 4091 \r\nL 3641 4091 \r\nL 3578 1466 \r\nQ 4272 1466 4575 1538 \r\nL 4622 1141 \r\nz\r\n\" id=\"MalgunGothic-d53c\" transform=\"scale(0.015625)\"/>\r\n     </defs>\r\n     <use xlink:href=\"#MalgunGothic-5b\"/>\r\n     <use x=\"30.46875\" xlink:href=\"#MalgunGothic-c74c\"/>\r\n     <use x=\"130.46875\" xlink:href=\"#MalgunGothic-c2dd\"/>\r\n     <use x=\"230.46875\" xlink:href=\"#MalgunGothic-2f\"/>\r\n     <use x=\"270.068359\" xlink:href=\"#MalgunGothic-c694\"/>\r\n     <use x=\"370.068359\" xlink:href=\"#MalgunGothic-b9ac\"/>\r\n     <use x=\"470.068359\" xlink:href=\"#MalgunGothic-2f\"/>\r\n     <use x=\"509.667969\" xlink:href=\"#MalgunGothic-b808\"/>\r\n     <use x=\"609.667969\" xlink:href=\"#MalgunGothic-c2dc\"/>\r\n     <use x=\"709.667969\" xlink:href=\"#MalgunGothic-d53c\"/>\r\n     <use x=\"809.667969\" xlink:href=\"#MalgunGothic-5d\"/>\r\n    </g>\r\n   </g>\r\n   <g id=\"text_6\">\r\n    <!-- 14.0% -->\r\n    <g transform=\"translate(397.450312 773.722876)scale(0.1 -0.1)\">\r\n     <defs>\r\n      <path d=\"M 2231 0 \r\nL 1734 0 \r\nL 1734 3972 \r\nQ 1591 3828 1266 3661 \r\nQ 941 3494 672 3428 \r\nL 672 3959 \r\nQ 1016 4056 1409 4275 \r\nQ 1803 4494 2031 4700 \r\nL 2231 4700 \r\nL 2231 0 \r\nz\r\n\" id=\"MalgunGothic-31\" transform=\"scale(0.015625)\"/>\r\n      <path d=\"M 2703 4600 \r\nL 2703 1563 \r\nL 3309 1563 \r\nL 3309 1113 \r\nL 2703 1113 \r\nL 2703 0 \r\nL 2213 0 \r\nL 2213 1113 \r\nL 50 1113 \r\nL 50 1534 \r\nQ 728 2297 1295 3109 \r\nQ 1863 3922 2172 4600 \r\nL 2703 4600 \r\nz\r\nM 625 1563 \r\nL 2213 1563 \r\nL 2213 3831 \r\nQ 1613 2788 959 1981 \r\nL 625 1563 \r\nz\r\n\" id=\"MalgunGothic-34\" transform=\"scale(0.015625)\"/>\r\n     </defs>\r\n     <use xlink:href=\"#MalgunGothic-31\"/>\r\n     <use x=\"55.078125\" xlink:href=\"#MalgunGothic-34\"/>\r\n     <use x=\"110.15625\" xlink:href=\"#MalgunGothic-2e\"/>\r\n     <use x=\"132.03125\" xlink:href=\"#MalgunGothic-30\"/>\r\n     <use x=\"187.109375\" xlink:href=\"#MalgunGothic-25\"/>\r\n    </g>\r\n   </g>\r\n   <g id=\"text_7\">\r\n    <!-- [TV/방송] -->\r\n    <g transform=\"translate(669.765336 1016.861051)scale(0.1 -0.1)\">\r\n     <defs>\r\n      <path d=\"M 3294 4134 \r\nL 1966 4134 \r\nL 1966 0 \r\nL 1456 0 \r\nL 1456 4134 \r\nL 134 4134 \r\nL 134 4600 \r\nL 3294 4600 \r\nL 3294 4134 \r\nz\r\n\" id=\"MalgunGothic-54\" transform=\"scale(0.015625)\"/>\r\n      <path d=\"M 4000 4600 \r\nL 2288 0 \r\nL 1734 0 \r\nL 59 4600 \r\nL 625 4600 \r\nL 1919 922 \r\nQ 1978 750 2009 519 \r\nL 2025 519 \r\nQ 2050 713 2128 928 \r\nL 3453 4600 \r\nL 4000 4600 \r\nz\r\n\" id=\"MalgunGothic-56\" transform=\"scale(0.015625)\"/>\r\n      <path d=\"M 5125 3378 \r\nL 5125 1900 \r\nL 4659 1900 \r\nL 4659 5466 \r\nL 5125 5466 \r\nL 5125 3794 \r\nL 6034 3794 \r\nL 6034 3378 \r\nL 5125 3378 \r\nz\r\nM 756 2344 \r\nL 756 5184 \r\nL 1216 5184 \r\nL 1216 4141 \r\nL 3059 4141 \r\nL 3059 5184 \r\nL 3519 5184 \r\nL 3519 2344 \r\nL 756 2344 \r\nz\r\nM 3059 3731 \r\nL 1216 3731 \r\nL 1216 2753 \r\nL 3059 2753 \r\nL 3059 3731 \r\nz\r\nM 3263 -481 \r\nQ 2319 -481 1809 -176 \r\nQ 1300 128 1300 641 \r\nQ 1300 1144 1808 1445 \r\nQ 2316 1747 3263 1747 \r\nQ 4213 1747 4720 1448 \r\nQ 5228 1150 5228 641 \r\nQ 5228 122 4717 -179 \r\nQ 4206 -481 3263 -481 \r\nz\r\nM 3263 1344 \r\nQ 2547 1344 2172 1159 \r\nQ 1797 975 1797 641 \r\nQ 1797 303 2176 112 \r\nQ 2556 -78 3263 -78 \r\nQ 3978 -78 4358 114 \r\nQ 4738 306 4738 641 \r\nQ 4738 972 4363 1158 \r\nQ 3988 1344 3263 1344 \r\nz\r\n\" id=\"MalgunGothic-bc29\" transform=\"scale(0.015625)\"/>\r\n      <path d=\"M 5459 3303 \r\nQ 4734 3409 4096 3771 \r\nQ 3459 4134 3206 4531 \r\nQ 2972 4163 2323 3786 \r\nQ 1675 3409 972 3309 \r\nL 697 3688 \r\nQ 1650 3769 2309 4237 \r\nQ 2969 4706 2969 5153 \r\nL 2969 5331 \r\nL 3431 5331 \r\nL 3431 5153 \r\nQ 3431 4697 4090 4226 \r\nQ 4750 3756 5703 3681 \r\nL 5459 3303 \r\nz\r\nM 403 2234 \r\nL 403 2656 \r\nL 2963 2656 \r\nL 2963 3541 \r\nL 3438 3541 \r\nL 3438 2656 \r\nL 5997 2656 \r\nL 5997 2234 \r\nL 403 2234 \r\nz\r\nM 3200 -500 \r\nQ 2263 -500 1766 -200 \r\nQ 1269 100 1269 628 \r\nQ 1269 1144 1767 1442 \r\nQ 2266 1741 3200 1741 \r\nQ 4134 1741 4632 1442 \r\nQ 5131 1144 5131 628 \r\nQ 5131 100 4634 -200 \r\nQ 4138 -500 3200 -500 \r\nz\r\nM 3200 1344 \r\nQ 2481 1344 2117 1155 \r\nQ 1753 966 1753 628 \r\nQ 1753 284 2123 90 \r\nQ 2494 -103 3200 -103 \r\nQ 3903 -103 4275 90 \r\nQ 4647 284 4647 628 \r\nQ 4647 966 4281 1155 \r\nQ 3916 1344 3200 1344 \r\nz\r\n\" id=\"MalgunGothic-c1a1\" transform=\"scale(0.015625)\"/>\r\n     </defs>\r\n     <use xlink:href=\"#MalgunGothic-5b\"/>\r\n     <use x=\"30.46875\" xlink:href=\"#MalgunGothic-54\"/>\r\n     <use x=\"86.087891\" xlink:href=\"#MalgunGothic-56\"/>\r\n     <use x=\"149.515625\" xlink:href=\"#MalgunGothic-2f\"/>\r\n     <use x=\"189.115234\" xlink:href=\"#MalgunGothic-bc29\"/>\r\n     <use x=\"289.115234\" xlink:href=\"#MalgunGothic-c1a1\"/>\r\n     <use x=\"389.115234\" xlink:href=\"#MalgunGothic-5d\"/>\r\n    </g>\r\n   </g>\r\n   <g id=\"text_8\">\r\n    <!-- 12.0% -->\r\n    <g transform=\"translate(602.152683 806.144522)scale(0.1 -0.1)\">\r\n     <use xlink:href=\"#MalgunGothic-31\"/>\r\n     <use x=\"55.078125\" xlink:href=\"#MalgunGothic-32\"/>\r\n     <use x=\"110.15625\" xlink:href=\"#MalgunGothic-2e\"/>\r\n     <use x=\"132.03125\" xlink:href=\"#MalgunGothic-30\"/>\r\n     <use x=\"187.109375\" xlink:href=\"#MalgunGothic-25\"/>\r\n    </g>\r\n   </g>\r\n   <g id=\"text_9\">\r\n    <!-- [BJ/인물/연예인] -->\r\n    <g transform=\"translate(889.057292 891.779096)scale(0.1 -0.1)\">\r\n     <defs>\r\n      <path d=\"M 609 0 \r\nL 609 4600 \r\nL 1894 4600 \r\nQ 2466 4600 2817 4311 \r\nQ 3169 4022 3169 3547 \r\nQ 3169 3166 2961 2870 \r\nQ 2753 2575 2378 2453 \r\nL 2378 2441 \r\nQ 2844 2391 3122 2089 \r\nQ 3400 1788 3400 1319 \r\nQ 3400 731 2978 365 \r\nQ 2556 0 1919 0 \r\nL 609 0 \r\nz\r\nM 1113 4128 \r\nL 1113 2619 \r\nL 1672 2619 \r\nQ 2134 2619 2387 2839 \r\nQ 2641 3059 2641 3447 \r\nQ 2641 4128 1750 4128 \r\nL 1113 4128 \r\nz\r\nM 1113 2153 \r\nL 1113 469 \r\nL 1859 469 \r\nQ 2334 469 2603 698 \r\nQ 2872 928 2872 1325 \r\nQ 2872 2153 1738 2153 \r\nL 1113 2153 \r\nz\r\n\" id=\"MalgunGothic-42\" transform=\"scale(0.015625)\"/>\r\n      <path d=\"M 1734 1634 \r\nQ 1734 822 1398 372 \r\nQ 1063 -78 491 -78 \r\nQ 244 -78 63 -3 \r\nL 63 500 \r\nQ 234 381 503 381 \r\nQ 1228 381 1228 1628 \r\nL 1228 4600 \r\nL 1734 4600 \r\nL 1734 1634 \r\nz\r\n\" id=\"MalgunGothic-4a\" transform=\"scale(0.015625)\"/>\r\n      <path d=\"M 4947 1063 \r\nL 4947 5466 \r\nL 5416 5466 \r\nL 5416 1063 \r\nL 4947 1063 \r\nz\r\nM 2438 2175 \r\nQ 1763 2175 1309 2601 \r\nQ 856 3028 856 3706 \r\nQ 856 4388 1307 4811 \r\nQ 1759 5234 2438 5234 \r\nQ 3116 5234 3564 4812 \r\nQ 4013 4391 4013 3706 \r\nQ 4013 3028 3563 2601 \r\nQ 3113 2175 2438 2175 \r\nz\r\nM 2438 4819 \r\nQ 1944 4819 1634 4516 \r\nQ 1325 4213 1325 3706 \r\nQ 1325 3200 1633 2895 \r\nQ 1941 2591 2438 2591 \r\nQ 2934 2591 3243 2895 \r\nQ 3553 3200 3553 3706 \r\nQ 3553 4213 3243 4516 \r\nQ 2934 4819 2438 4819 \r\nz\r\nM 1613 -331 \r\nL 1613 1625 \r\nL 2081 1625 \r\nL 2081 91 \r\nL 5575 91 \r\nL 5575 -331 \r\nL 1613 -331 \r\nz\r\n\" id=\"MalgunGothic-c778\" transform=\"scale(0.015625)\"/>\r\n      <path d=\"M 1338 3463 \r\nL 1338 5350 \r\nL 5056 5350 \r\nL 5056 3463 \r\nL 1338 3463 \r\nz\r\nM 4594 4947 \r\nL 1797 4947 \r\nL 1797 3866 \r\nL 4594 3866 \r\nL 4594 4947 \r\nz\r\nM 1319 -494 \r\nL 1319 884 \r\nL 4616 884 \r\nL 4616 1466 \r\nL 1319 1466 \r\nL 1319 1863 \r\nL 2963 1863 \r\nL 2963 2478 \r\nL 403 2478 \r\nL 403 2881 \r\nL 5997 2881 \r\nL 5997 2478 \r\nL 3438 2478 \r\nL 3438 1863 \r\nL 5075 1863 \r\nL 5075 506 \r\nL 1778 506 \r\nL 1778 -97 \r\nL 5234 -97 \r\nL 5234 -494 \r\nL 1319 -494 \r\nz\r\n\" id=\"MalgunGothic-bb3c\" transform=\"scale(0.015625)\"/>\r\n      <path d=\"M 3591 2528 \r\nQ 3134 2041 2413 2041 \r\nQ 1734 2041 1282 2489 \r\nQ 831 2938 831 3647 \r\nQ 831 4369 1284 4811 \r\nQ 1738 5253 2413 5253 \r\nQ 3266 5253 3725 4603 \r\nL 4959 4603 \r\nL 4959 5466 \r\nL 5428 5466 \r\nL 5428 1063 \r\nL 4959 1063 \r\nL 4959 2528 \r\nL 3591 2528 \r\nz\r\nM 2413 4844 \r\nQ 1919 4844 1609 4520 \r\nQ 1300 4197 1300 3647 \r\nQ 1300 3097 1609 2773 \r\nQ 1919 2450 2413 2450 \r\nQ 2916 2450 3228 2775 \r\nQ 3541 3100 3541 3647 \r\nQ 3541 4194 3228 4519 \r\nQ 2916 4844 2413 4844 \r\nz\r\nM 3859 2938 \r\nL 4959 2938 \r\nL 4959 4191 \r\nL 3916 4191 \r\nQ 4000 3931 4000 3647 \r\nQ 4000 3263 3859 2938 \r\nz\r\nM 1703 -378 \r\nL 1703 1478 \r\nL 2169 1478 \r\nL 2169 44 \r\nL 5575 44 \r\nL 5575 -378 \r\nL 1703 -378 \r\nz\r\n\" id=\"MalgunGothic-c5f0\" transform=\"scale(0.015625)\"/>\r\n      <path d=\"M 5069 -563 \r\nL 5069 5466 \r\nL 5538 5466 \r\nL 5538 -563 \r\nL 5069 -563 \r\nz\r\nM 3091 1856 \r\nQ 2775 928 1947 928 \r\nQ 1325 928 986 1470 \r\nQ 647 2013 647 3016 \r\nQ 647 4016 986 4558 \r\nQ 1325 5100 1947 5100 \r\nQ 2763 5100 3078 4206 \r\nL 3981 4206 \r\nL 3981 5344 \r\nL 4447 5344 \r\nL 4447 -500 \r\nL 3981 -500 \r\nL 3981 1856 \r\nL 3091 1856 \r\nz\r\nM 1947 4678 \r\nQ 1094 4678 1094 3016 \r\nQ 1094 1350 1947 1350 \r\nQ 2797 1350 2797 3016 \r\nQ 2797 4678 1947 4678 \r\nz\r\nM 3194 2266 \r\nL 3981 2266 \r\nL 3981 3794 \r\nL 3188 3794 \r\nQ 3250 3413 3250 3016 \r\nQ 3250 2597 3194 2266 \r\nz\r\n\" id=\"MalgunGothic-c608\" transform=\"scale(0.015625)\"/>\r\n     </defs>\r\n     <use xlink:href=\"#MalgunGothic-5b\"/>\r\n     <use x=\"30.46875\" xlink:href=\"#MalgunGothic-42\"/>\r\n     <use x=\"88.818359\" xlink:href=\"#MalgunGothic-4a\"/>\r\n     <use x=\"124.804688\" xlink:href=\"#MalgunGothic-2f\"/>\r\n     <use x=\"164.404297\" xlink:href=\"#MalgunGothic-c778\"/>\r\n     <use x=\"264.404297\" xlink:href=\"#MalgunGothic-bb3c\"/>\r\n     <use x=\"364.404297\" xlink:href=\"#MalgunGothic-2f\"/>\r\n     <use x=\"404.003906\" xlink:href=\"#MalgunGothic-c5f0\"/>\r\n     <use x=\"504.003906\" xlink:href=\"#MalgunGothic-c608\"/>\r\n     <use x=\"604.003906\" xlink:href=\"#MalgunGothic-c778\"/>\r\n     <use x=\"704.003906\" xlink:href=\"#MalgunGothic-5d\"/>\r\n    </g>\r\n   </g>\r\n   <g id=\"text_10\">\r\n    <!-- 5.0% -->\r\n    <g transform=\"translate(724.520384 737.918001)scale(0.1 -0.1)\">\r\n     <defs>\r\n      <path d=\"M 3072 1403 \r\nQ 3072 722 2636 322 \r\nQ 2200 -78 1469 -78 \r\nQ 828 -78 516 113 \r\nL 516 650 \r\nQ 994 344 1475 344 \r\nQ 1969 344 2270 630 \r\nQ 2572 916 2572 1372 \r\nQ 2572 1838 2265 2092 \r\nQ 1959 2347 1381 2347 \r\nQ 994 2347 603 2300 \r\nL 759 4600 \r\nL 2869 4600 \r\nL 2869 4147 \r\nL 1206 4147 \r\nL 1106 2763 \r\nQ 1347 2784 1547 2784 \r\nQ 2263 2784 2667 2414 \r\nQ 3072 2044 3072 1403 \r\nz\r\n\" id=\"MalgunGothic-35\" transform=\"scale(0.015625)\"/>\r\n     </defs>\r\n     <use xlink:href=\"#MalgunGothic-35\"/>\r\n     <use x=\"55.078125\" xlink:href=\"#MalgunGothic-2e\"/>\r\n     <use x=\"76.953125\" xlink:href=\"#MalgunGothic-30\"/>\r\n     <use x=\"132.03125\" xlink:href=\"#MalgunGothic-25\"/>\r\n    </g>\r\n   </g>\r\n   <g id=\"text_11\">\r\n    <!-- [뉴스/정치/사회] -->\r\n    <g transform=\"translate(962.551468 797.030956)scale(0.1 -0.1)\">\r\n     <defs>\r\n      <path d=\"M 1313 3138 \r\nL 1313 5253 \r\nL 1778 5253 \r\nL 1778 3553 \r\nL 5172 3553 \r\nL 5172 3138 \r\nL 1313 3138 \r\nz\r\nM 4519 1850 \r\nL 4519 -563 \r\nL 4050 -563 \r\nL 4050 1850 \r\nL 2406 1850 \r\nL 2406 -563 \r\nL 1947 -563 \r\nL 1947 1850 \r\nL 403 1850 \r\nL 403 2266 \r\nL 5997 2266 \r\nL 5997 1850 \r\nL 4519 1850 \r\nz\r\n\" id=\"MalgunGothic-b274\" transform=\"scale(0.015625)\"/>\r\n      <path d=\"M 4947 1984 \r\nL 4947 3694 \r\nL 3541 3694 \r\nL 3541 4109 \r\nL 4947 4109 \r\nL 4947 5466 \r\nL 5416 5466 \r\nL 5416 1984 \r\nL 4947 1984 \r\nz\r\nM 3653 2328 \r\nQ 3244 2550 2831 2950 \r\nQ 2419 3350 2253 3700 \r\nQ 2075 3303 1659 2858 \r\nQ 1244 2413 819 2175 \r\nL 488 2497 \r\nQ 1134 2806 1571 3393 \r\nQ 2009 3981 2009 4628 \r\nL 2009 4781 \r\nL 684 4781 \r\nL 684 5197 \r\nL 3788 5197 \r\nL 3788 4781 \r\nL 2463 4781 \r\nL 2463 4628 \r\nQ 2463 4025 2916 3472 \r\nQ 3369 2919 3969 2669 \r\nL 3653 2328 \r\nz\r\nM 3566 -475 \r\nQ 2622 -475 2108 -148 \r\nQ 1594 178 1594 697 \r\nQ 1594 1216 2106 1539 \r\nQ 2619 1863 3566 1863 \r\nQ 4513 1863 5025 1539 \r\nQ 5538 1216 5538 697 \r\nQ 5538 178 5023 -148 \r\nQ 4509 -475 3566 -475 \r\nz\r\nM 3566 1466 \r\nQ 2850 1466 2472 1248 \r\nQ 2094 1031 2094 697 \r\nQ 2094 359 2473 143 \r\nQ 2853 -72 3566 -72 \r\nQ 4275 -72 4656 142 \r\nQ 5038 356 5038 697 \r\nQ 5038 1034 4659 1250 \r\nQ 4281 1466 3566 1466 \r\nz\r\n\" id=\"MalgunGothic-c815\" transform=\"scale(0.015625)\"/>\r\n      <path d=\"M 4941 -563 \r\nL 4941 5466 \r\nL 5409 5466 \r\nL 5409 -563 \r\nL 4941 -563 \r\nz\r\nM 3969 966 \r\nQ 3447 1272 2995 1773 \r\nQ 2544 2275 2406 2656 \r\nQ 2281 2259 1817 1686 \r\nQ 1353 1113 891 831 \r\nL 531 1197 \r\nQ 1197 1519 1683 2242 \r\nQ 2169 2966 2169 3628 \r\nL 2169 4206 \r\nL 678 4206 \r\nL 678 4622 \r\nL 2163 4622 \r\nL 2163 5466 \r\nL 2631 5466 \r\nL 2631 4622 \r\nL 4128 4622 \r\nL 4128 4206 \r\nL 2638 4206 \r\nL 2631 3603 \r\nQ 2625 2991 3111 2314 \r\nQ 3597 1638 4300 1338 \r\nL 3969 966 \r\nz\r\n\" id=\"MalgunGothic-ce58\" transform=\"scale(0.015625)\"/>\r\n      <path d=\"M 5094 2600 \r\nL 5094 -563 \r\nL 4628 -563 \r\nL 4628 5466 \r\nL 5094 5466 \r\nL 5094 3016 \r\nL 6138 3016 \r\nL 6138 2600 \r\nL 5094 2600 \r\nz\r\nM 3744 966 \r\nQ 3234 1356 2800 1936 \r\nQ 2366 2516 2234 2950 \r\nQ 2094 2472 1672 1883 \r\nQ 1250 1294 738 891 \r\nL 378 1203 \r\nQ 1116 1703 1556 2479 \r\nQ 1997 3256 1997 4063 \r\nL 1997 5050 \r\nL 2463 5050 \r\nL 2463 4084 \r\nQ 2463 3297 2898 2553 \r\nQ 3334 1809 4072 1331 \r\nL 3744 966 \r\nz\r\n\" id=\"MalgunGothic-c0ac\" transform=\"scale(0.015625)\"/>\r\n      <path d=\"M 4997 -563 \r\nL 4997 5466 \r\nL 5466 5466 \r\nL 5466 -563 \r\nL 4997 -563 \r\nz\r\nM 2247 5453 \r\nL 2713 5453 \r\nL 2713 4666 \r\nL 4275 4666 \r\nL 4275 4250 \r\nL 672 4250 \r\nL 672 4666 \r\nL 2247 4666 \r\nL 2247 5453 \r\nz\r\nM 2706 1728 \r\nL 2706 863 \r\nL 3838 900 \r\nQ 4341 916 4531 934 \r\nL 4556 531 \r\nQ 4063 491 2667 459 \r\nQ 1272 428 513 428 \r\nL 469 838 \r\nQ 1413 838 2247 856 \r\nL 2247 1728 \r\nQ 1628 1784 1293 2082 \r\nQ 959 2381 959 2816 \r\nQ 959 3313 1368 3620 \r\nQ 1778 3928 2484 3928 \r\nQ 3184 3928 3589 3622 \r\nQ 3994 3316 3994 2853 \r\nQ 3994 2400 3656 2092 \r\nQ 3319 1784 2706 1728 \r\nz\r\nM 2484 3534 \r\nQ 2003 3534 1718 3332 \r\nQ 1434 3131 1434 2816 \r\nQ 1434 2506 1711 2312 \r\nQ 1988 2119 2484 2119 \r\nQ 2978 2119 3251 2314 \r\nQ 3525 2509 3525 2816 \r\nQ 3525 3128 3245 3331 \r\nQ 2966 3534 2484 3534 \r\nz\r\n\" id=\"MalgunGothic-d68c\" transform=\"scale(0.015625)\"/>\r\n     </defs>\r\n     <use xlink:href=\"#MalgunGothic-5b\"/>\r\n     <use x=\"30.46875\" xlink:href=\"#MalgunGothic-b274\"/>\r\n     <use x=\"130.46875\" xlink:href=\"#MalgunGothic-c2a4\"/>\r\n     <use x=\"230.46875\" xlink:href=\"#MalgunGothic-2f\"/>\r\n     <use x=\"270.068359\" xlink:href=\"#MalgunGothic-c815\"/>\r\n     <use x=\"370.068359\" xlink:href=\"#MalgunGothic-ce58\"/>\r\n     <use x=\"470.068359\" xlink:href=\"#MalgunGothic-2f\"/>\r\n     <use x=\"509.667969\" xlink:href=\"#MalgunGothic-c0ac\"/>\r\n     <use x=\"609.667969\" xlink:href=\"#MalgunGothic-d68c\"/>\r\n     <use x=\"709.667969\" xlink:href=\"#MalgunGothic-5d\"/>\r\n    </g>\r\n   </g>\r\n   <g id=\"text_12\">\r\n    <!-- 3.0% -->\r\n    <g transform=\"translate(764.608116 686.237197)scale(0.1 -0.1)\">\r\n     <use xlink:href=\"#MalgunGothic-33\"/>\r\n     <use x=\"55.078125\" xlink:href=\"#MalgunGothic-2e\"/>\r\n     <use x=\"76.953125\" xlink:href=\"#MalgunGothic-30\"/>\r\n     <use x=\"132.03125\" xlink:href=\"#MalgunGothic-25\"/>\r\n    </g>\r\n   </g>\r\n   <g id=\"text_13\">\r\n    <!-- [애완/반려동물] -->\r\n    <g transform=\"translate(995.575336 729.620836)scale(0.1 -0.1)\">\r\n     <defs>\r\n      <path d=\"M 5069 -563 \r\nL 5069 2553 \r\nL 4313 2553 \r\nL 4313 -378 \r\nL 3853 -378 \r\nL 3853 5344 \r\nL 4313 5344 \r\nL 4313 2969 \r\nL 5069 2969 \r\nL 5069 5466 \r\nL 5538 5466 \r\nL 5538 -563 \r\nL 5069 -563 \r\nz\r\nM 1947 959 \r\nQ 1328 959 993 1479 \r\nQ 659 2000 659 3016 \r\nQ 659 4028 993 4545 \r\nQ 1328 5063 1947 5063 \r\nQ 2559 5063 2895 4547 \r\nQ 3231 4031 3231 3016 \r\nQ 3231 1997 2895 1478 \r\nQ 2559 959 1947 959 \r\nz\r\nM 1947 4641 \r\nQ 1106 4641 1106 3016 \r\nQ 1106 1381 1947 1381 \r\nQ 2778 1381 2778 3016 \r\nQ 2778 4641 1947 4641 \r\nz\r\n\" id=\"MalgunGothic-c560\" transform=\"scale(0.015625)\"/>\r\n      <path d=\"M 5203 2841 \r\nL 5203 934 \r\nL 4738 934 \r\nL 4738 5466 \r\nL 5203 5466 \r\nL 5203 3256 \r\nL 6138 3256 \r\nL 6138 2841 \r\nL 5203 2841 \r\nz\r\nM 4313 1869 \r\nQ 3784 1831 2462 1795 \r\nQ 1141 1759 500 1759 \r\nL 453 2175 \r\nQ 1378 2175 2156 2194 \r\nL 2156 2859 \r\nQ 1553 2919 1204 3248 \r\nQ 856 3578 856 4056 \r\nQ 856 4584 1272 4926 \r\nQ 1688 5269 2381 5269 \r\nQ 3078 5269 3487 4926 \r\nQ 3897 4584 3897 4056 \r\nQ 3897 3584 3556 3253 \r\nQ 3216 2922 2625 2859 \r\nL 2625 2209 \r\nQ 3866 2241 4288 2272 \r\nL 4313 1869 \r\nz\r\nM 2381 4872 \r\nQ 1894 4872 1603 4648 \r\nQ 1313 4425 1313 4056 \r\nQ 1313 3697 1602 3470 \r\nQ 1891 3244 2381 3244 \r\nQ 2872 3244 3158 3472 \r\nQ 3444 3700 3444 4056 \r\nQ 3444 4422 3156 4647 \r\nQ 2869 4872 2381 4872 \r\nz\r\nM 1441 -416 \r\nL 1441 1288 \r\nL 1906 1288 \r\nL 1906 0 \r\nL 5356 0 \r\nL 5356 -416 \r\nL 1441 -416 \r\nz\r\n\" id=\"MalgunGothic-c644\" transform=\"scale(0.015625)\"/>\r\n      <path d=\"M 5125 3169 \r\nL 5125 1063 \r\nL 4659 1063 \r\nL 4659 5466 \r\nL 5125 5466 \r\nL 5125 3591 \r\nL 6034 3591 \r\nL 6034 3169 \r\nL 5125 3169 \r\nz\r\nM 756 2119 \r\nL 756 5178 \r\nL 1216 5178 \r\nL 1216 4019 \r\nL 3059 4019 \r\nL 3059 5178 \r\nL 3519 5178 \r\nL 3519 2119 \r\nL 756 2119 \r\nz\r\nM 3059 3603 \r\nL 1216 3603 \r\nL 1216 2534 \r\nL 3059 2534 \r\nL 3059 3603 \r\nz\r\nM 1453 -372 \r\nL 1453 1478 \r\nL 1919 1478 \r\nL 1919 44 \r\nL 5294 44 \r\nL 5294 -372 \r\nL 1453 -372 \r\nz\r\n\" id=\"MalgunGothic-bc18\" transform=\"scale(0.015625)\"/>\r\n      <path d=\"M 3841 1919 \r\nL 3841 2338 \r\nL 4963 2338 \r\nL 4963 3559 \r\nL 3875 3559 \r\nL 3875 3975 \r\nL 4963 3975 \r\nL 4963 5466 \r\nL 5431 5466 \r\nL 5431 -563 \r\nL 4963 -563 \r\nL 4963 1919 \r\nL 3841 1919 \r\nz\r\nM 3756 913 \r\nQ 3063 778 922 778 \r\nL 922 3166 \r\nL 2963 3166 \r\nL 2963 4503 \r\nL 934 4503 \r\nL 934 4919 \r\nL 3438 4919 \r\nL 3438 2763 \r\nL 1388 2763 \r\nL 1388 1188 \r\nQ 2606 1188 2959 1203 \r\nQ 3313 1219 3688 1291 \r\nL 3756 913 \r\nz\r\n\" id=\"MalgunGothic-b824\" transform=\"scale(0.015625)\"/>\r\n      <path d=\"M 403 2119 \r\nL 403 2534 \r\nL 2963 2534 \r\nL 2963 3316 \r\nL 1338 3316 \r\nL 1338 5325 \r\nL 5081 5325 \r\nL 5081 4909 \r\nL 1813 4909 \r\nL 1813 3731 \r\nL 5153 3731 \r\nL 5153 3316 \r\nL 3438 3316 \r\nL 3438 2534 \r\nL 5997 2534 \r\nL 5997 2119 \r\nL 403 2119 \r\nz\r\nM 3200 -513 \r\nQ 2247 -513 1740 -211 \r\nQ 1234 91 1234 603 \r\nQ 1234 1116 1742 1416 \r\nQ 2250 1716 3200 1716 \r\nQ 4150 1716 4658 1416 \r\nQ 5166 1116 5166 603 \r\nQ 5166 91 4659 -211 \r\nQ 4153 -513 3200 -513 \r\nz\r\nM 3200 1319 \r\nQ 2478 1319 2103 1126 \r\nQ 1728 934 1728 603 \r\nQ 1728 272 2104 78 \r\nQ 2481 -116 3200 -116 \r\nQ 3919 -116 4295 78 \r\nQ 4672 272 4672 603 \r\nQ 4672 934 4295 1126 \r\nQ 3919 1319 3200 1319 \r\nz\r\n\" id=\"MalgunGothic-b3d9\" transform=\"scale(0.015625)\"/>\r\n     </defs>\r\n     <use xlink:href=\"#MalgunGothic-5b\"/>\r\n     <use x=\"30.46875\" xlink:href=\"#MalgunGothic-c560\"/>\r\n     <use x=\"130.46875\" xlink:href=\"#MalgunGothic-c644\"/>\r\n     <use x=\"230.46875\" xlink:href=\"#MalgunGothic-2f\"/>\r\n     <use x=\"270.068359\" xlink:href=\"#MalgunGothic-bc18\"/>\r\n     <use x=\"370.068359\" xlink:href=\"#MalgunGothic-b824\"/>\r\n     <use x=\"470.068359\" xlink:href=\"#MalgunGothic-b3d9\"/>\r\n     <use x=\"570.068359\" xlink:href=\"#MalgunGothic-bb3c\"/>\r\n     <use x=\"670.068359\" xlink:href=\"#MalgunGothic-5d\"/>\r\n    </g>\r\n   </g>\r\n   <g id=\"text_14\">\r\n    <!-- 2.0% -->\r\n    <g transform=\"translate(782.621135 649.468041)scale(0.1 -0.1)\">\r\n     <use xlink:href=\"#MalgunGothic-32\"/>\r\n     <use x=\"55.078125\" xlink:href=\"#MalgunGothic-2e\"/>\r\n     <use x=\"76.953125\" xlink:href=\"#MalgunGothic-30\"/>\r\n     <use x=\"132.03125\" xlink:href=\"#MalgunGothic-25\"/>\r\n    </g>\r\n   </g>\r\n   <g id=\"text_15\">\r\n    <!-- [미분류] -->\r\n    <g transform=\"translate(1010.173783 686.982247)scale(0.1 -0.1)\">\r\n     <defs>\r\n      <path d=\"M 4884 -563 \r\nL 4884 5466 \r\nL 5350 5466 \r\nL 5350 -563 \r\nL 4884 -563 \r\nz\r\nM 819 1209 \r\nL 819 4934 \r\nL 3688 4934 \r\nL 3688 1209 \r\nL 819 1209 \r\nz\r\nM 3219 4525 \r\nL 1288 4525 \r\nL 1288 1619 \r\nL 3219 1619 \r\nL 3219 4525 \r\nz\r\n\" id=\"MalgunGothic-bbf8\" transform=\"scale(0.015625)\"/>\r\n      <path d=\"M 1338 2994 \r\nL 1338 5306 \r\nL 1806 5306 \r\nL 1806 4525 \r\nL 4594 4525 \r\nL 4594 5306 \r\nL 5056 5306 \r\nL 5056 2994 \r\nL 1338 2994 \r\nz\r\nM 4594 4109 \r\nL 1806 4109 \r\nL 1806 3406 \r\nL 4594 3406 \r\nL 4594 4109 \r\nz\r\nM 3456 1863 \r\nL 3456 494 \r\nL 2988 494 \r\nL 2988 1863 \r\nL 403 1863 \r\nL 403 2278 \r\nL 5997 2278 \r\nL 5997 1863 \r\nL 3456 1863 \r\nz\r\nM 1288 -384 \r\nL 1288 1344 \r\nL 1753 1344 \r\nL 1753 31 \r\nL 5216 31 \r\nL 5216 -384 \r\nL 1288 -384 \r\nz\r\n\" id=\"MalgunGothic-bd84\" transform=\"scale(0.015625)\"/>\r\n      <path d=\"M 1325 2675 \r\nL 1325 4206 \r\nL 4616 4206 \r\nL 4616 4863 \r\nL 1325 4863 \r\nL 1325 5281 \r\nL 5075 5281 \r\nL 5075 3803 \r\nL 1784 3803 \r\nL 1784 3091 \r\nL 5216 3091 \r\nL 5216 2675 \r\nL 1325 2675 \r\nz\r\nM 1881 -563 \r\nL 1881 1588 \r\nL 403 1588 \r\nL 403 2003 \r\nL 5997 2003 \r\nL 5997 1588 \r\nL 4519 1588 \r\nL 4519 -563 \r\nL 4050 -563 \r\nL 4050 1588 \r\nL 2350 1588 \r\nL 2350 -563 \r\nL 1881 -563 \r\nz\r\n\" id=\"MalgunGothic-b958\" transform=\"scale(0.015625)\"/>\r\n     </defs>\r\n     <use xlink:href=\"#MalgunGothic-5b\"/>\r\n     <use x=\"30.46875\" xlink:href=\"#MalgunGothic-bbf8\"/>\r\n     <use x=\"130.46875\" xlink:href=\"#MalgunGothic-bd84\"/>\r\n     <use x=\"230.46875\" xlink:href=\"#MalgunGothic-b958\"/>\r\n     <use x=\"330.46875\" xlink:href=\"#MalgunGothic-5d\"/>\r\n    </g>\r\n   </g>\r\n   <g id=\"text_16\">\r\n    <!-- 1.0% -->\r\n    <g transform=\"translate(790.583924 626.210629)scale(0.1 -0.1)\">\r\n     <use xlink:href=\"#MalgunGothic-31\"/>\r\n     <use x=\"55.078125\" xlink:href=\"#MalgunGothic-2e\"/>\r\n     <use x=\"76.953125\" xlink:href=\"#MalgunGothic-30\"/>\r\n     <use x=\"132.03125\" xlink:href=\"#MalgunGothic-25\"/>\r\n    </g>\r\n   </g>\r\n   <g id=\"text_17\">\r\n    <!-- [해외] -->\r\n    <g transform=\"translate(1017.64736 657.874575)scale(0.1 -0.1)\">\r\n     <defs>\r\n      <path d=\"M 5119 -563 \r\nL 5119 2272 \r\nL 4403 2272 \r\nL 4403 -372 \r\nL 3944 -372 \r\nL 3944 5350 \r\nL 4403 5350 \r\nL 4403 2688 \r\nL 5119 2688 \r\nL 5119 5466 \r\nL 5588 5466 \r\nL 5588 -563 \r\nL 5119 -563 \r\nz\r\nM 416 3969 \r\nL 416 4384 \r\nL 1753 4384 \r\nL 1753 5319 \r\nL 2222 5319 \r\nL 2222 4384 \r\nL 3559 4384 \r\nL 3559 3969 \r\nL 416 3969 \r\nz\r\nM 2003 897 \r\nQ 1434 897 1046 1270 \r\nQ 659 1644 659 2222 \r\nQ 659 2794 1045 3170 \r\nQ 1431 3547 2003 3547 \r\nQ 2572 3547 2956 3173 \r\nQ 3341 2800 3341 2222 \r\nQ 3341 1638 2955 1267 \r\nQ 2569 897 2003 897 \r\nz\r\nM 2003 3138 \r\nQ 1603 3138 1354 2878 \r\nQ 1106 2619 1106 2222 \r\nQ 1106 1819 1356 1562 \r\nQ 1606 1306 2003 1306 \r\nQ 2394 1306 2647 1561 \r\nQ 2900 1816 2900 2222 \r\nQ 2900 2622 2648 2880 \r\nQ 2397 3138 2003 3138 \r\nz\r\n\" id=\"MalgunGothic-d574\" transform=\"scale(0.015625)\"/>\r\n      <path d=\"M 4984 -563 \r\nL 4984 5466 \r\nL 5453 5466 \r\nL 5453 -563 \r\nL 4984 -563 \r\nz\r\nM 2803 2131 \r\nL 2803 928 \r\nQ 4206 963 4628 991 \r\nL 4653 588 \r\nQ 2922 488 531 488 \r\nL 488 903 \r\nQ 1475 903 2328 922 \r\nL 2328 2125 \r\nQ 1688 2197 1311 2592 \r\nQ 934 2988 934 3566 \r\nQ 934 4200 1401 4606 \r\nQ 1869 5013 2572 5013 \r\nQ 3269 5013 3714 4613 \r\nQ 4159 4213 4159 3566 \r\nQ 4159 2997 3795 2608 \r\nQ 3431 2219 2803 2131 \r\nz\r\nM 2541 4603 \r\nQ 2050 4603 1733 4314 \r\nQ 1416 4025 1416 3566 \r\nQ 1416 3113 1731 2820 \r\nQ 2047 2528 2541 2528 \r\nQ 3038 2528 3359 2822 \r\nQ 3681 3116 3681 3566 \r\nQ 3681 4022 3357 4312 \r\nQ 3034 4603 2541 4603 \r\nz\r\n\" id=\"MalgunGothic-c678\" transform=\"scale(0.015625)\"/>\r\n     </defs>\r\n     <use xlink:href=\"#MalgunGothic-5b\"/>\r\n     <use x=\"30.46875\" xlink:href=\"#MalgunGothic-d574\"/>\r\n     <use x=\"130.46875\" xlink:href=\"#MalgunGothic-c678\"/>\r\n     <use x=\"230.46875\" xlink:href=\"#MalgunGothic-5d\"/>\r\n    </g>\r\n   </g>\r\n   <g id=\"text_18\">\r\n    <!-- 1.0% -->\r\n    <g transform=\"translate(794.660421 610.333717)scale(0.1 -0.1)\">\r\n     <use xlink:href=\"#MalgunGothic-31\"/>\r\n     <use x=\"55.078125\" xlink:href=\"#MalgunGothic-2e\"/>\r\n     <use x=\"76.953125\" xlink:href=\"#MalgunGothic-30\"/>\r\n     <use x=\"132.03125\" xlink:href=\"#MalgunGothic-25\"/>\r\n    </g>\r\n   </g>\r\n   <g id=\"text_19\">\r\n    <!-- [패션/미용] -->\r\n    <g transform=\"translate(1023.278503 628.355071)scale(0.1 -0.1)\">\r\n     <defs>\r\n      <path d=\"M 5069 -563 \r\nL 5069 2491 \r\nL 4347 2491 \r\nL 4347 -378 \r\nL 3884 -378 \r\nL 3884 5344 \r\nL 4347 5344 \r\nL 4347 2913 \r\nL 5069 2913 \r\nL 5069 5466 \r\nL 5538 5466 \r\nL 5538 -563 \r\nL 5069 -563 \r\nz\r\nM 538 4513 \r\nL 538 4928 \r\nL 3384 4928 \r\nL 3384 4513 \r\nL 538 4513 \r\nz\r\nM 3591 1125 \r\nQ 3278 1063 2663 1063 \r\nL 366 1063 \r\nL 366 1478 \r\nL 1113 1478 \r\nL 1031 4091 \r\nL 1497 4091 \r\nL 1550 1478 \r\nL 2375 1478 \r\nL 2425 4091 \r\nL 2894 4091 \r\nL 2809 1478 \r\nQ 3369 1478 3553 1522 \r\nL 3591 1125 \r\nz\r\n\" id=\"MalgunGothic-d328\" transform=\"scale(0.015625)\"/>\r\n      <path d=\"M 3713 3066 \r\nL 3713 3469 \r\nL 4878 3469 \r\nL 4878 4153 \r\nL 3713 4153 \r\nL 3713 4556 \r\nL 4878 4556 \r\nL 4878 5466 \r\nL 5344 5466 \r\nL 5344 1063 \r\nL 4878 1063 \r\nL 4878 3066 \r\nL 3713 3066 \r\nz\r\nM 3675 2069 \r\nQ 3228 2344 2829 2776 \r\nQ 2431 3209 2266 3566 \r\nQ 2091 3150 1662 2648 \r\nQ 1234 2147 819 1913 \r\nL 481 2234 \r\nQ 1125 2559 1573 3198 \r\nQ 2022 3838 2022 4494 \r\nL 2022 5269 \r\nL 2478 5269 \r\nL 2478 4494 \r\nQ 2478 3894 2943 3286 \r\nQ 3409 2678 3988 2406 \r\nL 3675 2069 \r\nz\r\nM 1631 -366 \r\nL 1631 1550 \r\nL 2100 1550 \r\nL 2100 44 \r\nL 5503 44 \r\nL 5503 -366 \r\nL 1631 -366 \r\nz\r\n\" id=\"MalgunGothic-c158\" transform=\"scale(0.015625)\"/>\r\n      <path d=\"M 1900 3378 \r\nQ 1288 3678 1288 4269 \r\nQ 1288 4803 1784 5095 \r\nQ 2281 5388 3200 5388 \r\nQ 4119 5388 4616 5095 \r\nQ 5113 4803 5113 4269 \r\nQ 5113 3669 4494 3378 \r\nL 4494 2522 \r\nL 5997 2522 \r\nL 5997 2106 \r\nL 403 2106 \r\nL 403 2522 \r\nL 1900 2522 \r\nL 1900 3378 \r\nz\r\nM 3200 4991 \r\nQ 1772 4991 1772 4269 \r\nQ 1772 3928 2126 3737 \r\nQ 2481 3547 3200 3547 \r\nQ 3919 3547 4273 3737 \r\nQ 4628 3928 4628 4269 \r\nQ 4628 4991 3200 4991 \r\nz\r\nM 2369 2522 \r\nL 4025 2522 \r\nL 4025 3225 \r\nQ 3678 3150 3200 3150 \r\nQ 2756 3150 2369 3231 \r\nL 2369 2522 \r\nz\r\nM 3200 -531 \r\nQ 2259 -531 1764 -234 \r\nQ 1269 63 1269 581 \r\nQ 1269 1106 1767 1404 \r\nQ 2266 1703 3200 1703 \r\nQ 4134 1703 4632 1404 \r\nQ 5131 1106 5131 581 \r\nQ 5131 63 4636 -234 \r\nQ 4141 -531 3200 -531 \r\nz\r\nM 3200 1306 \r\nQ 2484 1306 2118 1112 \r\nQ 1753 919 1753 581 \r\nQ 1753 244 2117 55 \r\nQ 2481 -134 3200 -134 \r\nQ 3916 -134 4281 55 \r\nQ 4647 244 4647 581 \r\nQ 4647 922 4280 1114 \r\nQ 3913 1306 3200 1306 \r\nz\r\n\" id=\"MalgunGothic-c6a9\" transform=\"scale(0.015625)\"/>\r\n     </defs>\r\n     <use xlink:href=\"#MalgunGothic-5b\"/>\r\n     <use x=\"30.46875\" xlink:href=\"#MalgunGothic-d328\"/>\r\n     <use x=\"130.46875\" xlink:href=\"#MalgunGothic-c158\"/>\r\n     <use x=\"230.46875\" xlink:href=\"#MalgunGothic-2f\"/>\r\n     <use x=\"270.068359\" xlink:href=\"#MalgunGothic-bbf8\"/>\r\n     <use x=\"370.068359\" xlink:href=\"#MalgunGothic-c6a9\"/>\r\n     <use x=\"470.068359\" xlink:href=\"#MalgunGothic-5d\"/>\r\n    </g>\r\n   </g>\r\n   <g id=\"text_20\">\r\n    <!-- 1.0% -->\r\n    <g transform=\"translate(797.731954 594.23217)scale(0.1 -0.1)\">\r\n     <use xlink:href=\"#MalgunGothic-31\"/>\r\n     <use x=\"55.078125\" xlink:href=\"#MalgunGothic-2e\"/>\r\n     <use x=\"76.953125\" xlink:href=\"#MalgunGothic-30\"/>\r\n     <use x=\"132.03125\" xlink:href=\"#MalgunGothic-25\"/>\r\n    </g>\r\n   </g>\r\n   <g id=\"text_21\">\r\n    <!-- [회사/오피셜] -->\r\n    <g transform=\"translate(1027.04499 598.540235)scale(0.1 -0.1)\">\r\n     <defs>\r\n      <path d=\"M 403 391 \r\nL 403 800 \r\nL 2963 800 \r\nL 2963 2016 \r\nQ 2103 2081 1634 2479 \r\nQ 1166 2878 1166 3525 \r\nQ 1166 4228 1727 4629 \r\nQ 2288 5031 3200 5031 \r\nQ 4113 5031 4670 4632 \r\nQ 5228 4234 5228 3525 \r\nQ 5228 2878 4759 2479 \r\nQ 4291 2081 3438 2016 \r\nL 3438 800 \r\nL 5997 800 \r\nL 5997 391 \r\nL 403 391 \r\nz\r\nM 1650 3525 \r\nQ 1650 3016 2079 2720 \r\nQ 2509 2425 3200 2425 \r\nQ 3891 2425 4317 2722 \r\nQ 4744 3019 4744 3525 \r\nQ 4744 4028 4317 4325 \r\nQ 3891 4622 3200 4622 \r\nQ 2506 4622 2078 4325 \r\nQ 1650 4028 1650 3525 \r\nz\r\n\" id=\"MalgunGothic-c624\" transform=\"scale(0.015625)\"/>\r\n      <path d=\"M 3647 3456 \r\nL 3647 3859 \r\nL 4878 3859 \r\nL 4878 4447 \r\nL 3647 4447 \r\nL 3647 4850 \r\nL 4878 4850 \r\nL 4878 5466 \r\nL 5344 5466 \r\nL 5344 2431 \r\nL 4878 2431 \r\nL 4878 3456 \r\nL 3647 3456 \r\nz\r\nM 3653 2547 \r\nQ 3247 2731 2833 3114 \r\nQ 2419 3497 2241 3847 \r\nQ 1897 3047 800 2413 \r\nL 469 2725 \r\nQ 1178 3063 1590 3584 \r\nQ 2003 4106 2003 4716 \r\nL 2003 5331 \r\nL 2456 5331 \r\nL 2456 4716 \r\nQ 2456 4119 2911 3608 \r\nQ 3366 3097 3969 2888 \r\nL 3653 2547 \r\nz\r\nM 1631 -422 \r\nL 1631 1063 \r\nL 4884 1063 \r\nL 4884 1697 \r\nL 1631 1697 \r\nL 1631 2106 \r\nL 5344 2106 \r\nL 5344 659 \r\nL 2094 659 \r\nL 2094 -6 \r\nL 5509 -6 \r\nL 5509 -422 \r\nL 1631 -422 \r\nz\r\n\" id=\"MalgunGothic-c15c\" transform=\"scale(0.015625)\"/>\r\n     </defs>\r\n     <use xlink:href=\"#MalgunGothic-5b\"/>\r\n     <use x=\"30.46875\" xlink:href=\"#MalgunGothic-d68c\"/>\r\n     <use x=\"130.46875\" xlink:href=\"#MalgunGothic-c0ac\"/>\r\n     <use x=\"230.46875\" xlink:href=\"#MalgunGothic-2f\"/>\r\n     <use x=\"270.068359\" xlink:href=\"#MalgunGothic-c624\"/>\r\n     <use x=\"370.068359\" xlink:href=\"#MalgunGothic-d53c\"/>\r\n     <use x=\"470.068359\" xlink:href=\"#MalgunGothic-c15c\"/>\r\n     <use x=\"570.068359\" xlink:href=\"#MalgunGothic-5d\"/>\r\n    </g>\r\n   </g>\r\n   <g id=\"text_22\">\r\n    <!-- 1.0% -->\r\n    <g transform=\"translate(799.786401 577.969532)scale(0.1 -0.1)\">\r\n     <use xlink:href=\"#MalgunGothic-31\"/>\r\n     <use x=\"55.078125\" xlink:href=\"#MalgunGothic-2e\"/>\r\n     <use x=\"76.953125\" xlink:href=\"#MalgunGothic-30\"/>\r\n     <use x=\"132.03125\" xlink:href=\"#MalgunGothic-25\"/>\r\n    </g>\r\n   </g>\r\n   <g id=\"text_23\">\r\n    <!-- [취미/라이프] -->\r\n    <g transform=\"translate(1028.931956 568.552419)scale(0.1 -0.1)\">\r\n     <defs>\r\n      <path d=\"M 4197 2834 \r\nQ 3700 2925 3233 3214 \r\nQ 2766 3503 2597 3788 \r\nQ 2441 3484 1958 3170 \r\nQ 1475 2856 978 2725 \r\nL 678 3091 \r\nQ 1319 3184 1803 3548 \r\nQ 2288 3913 2344 4353 \r\nL 922 4353 \r\nL 922 4769 \r\nL 2363 4769 \r\nL 2363 5472 \r\nL 2828 5472 \r\nL 2828 4769 \r\nL 4225 4769 \r\nL 4225 4353 \r\nL 2841 4353 \r\nQ 2894 3950 3355 3626 \r\nQ 3816 3303 4481 3225 \r\nL 4197 2834 \r\nz\r\nM 4997 -563 \r\nL 4997 5466 \r\nL 5466 5466 \r\nL 5466 -563 \r\nL 4997 -563 \r\nz\r\nM 2375 -391 \r\nL 2375 1856 \r\nQ 878 1831 453 1831 \r\nL 409 2241 \r\nQ 1131 2241 2622 2267 \r\nQ 4113 2294 4647 2328 \r\nL 4672 1925 \r\nQ 3984 1881 2841 1869 \r\nL 2841 -391 \r\nL 2375 -391 \r\nz\r\n\" id=\"MalgunGothic-cde8\" transform=\"scale(0.015625)\"/>\r\n      <path d=\"M 5094 2503 \r\nL 5094 -563 \r\nL 4628 -563 \r\nL 4628 5466 \r\nL 5094 5466 \r\nL 5094 2925 \r\nL 6138 2925 \r\nL 6138 2503 \r\nL 5094 2503 \r\nz\r\nM 806 794 \r\nL 806 3169 \r\nL 3003 3169 \r\nL 3003 4506 \r\nL 806 4506 \r\nL 806 4922 \r\nL 3469 4922 \r\nL 3469 2759 \r\nL 1275 2759 \r\nL 1275 1203 \r\nQ 3419 1203 4063 1338 \r\nL 4128 928 \r\nQ 3284 794 806 794 \r\nz\r\n\" id=\"MalgunGothic-b77c\" transform=\"scale(0.015625)\"/>\r\n      <path d=\"M 997 4891 \r\nL 5403 4891 \r\nL 5403 4475 \r\nL 997 4475 \r\nL 997 4891 \r\nz\r\nM 4459 2463 \r\nL 5478 2463 \r\nL 5478 2053 \r\nL 922 2053 \r\nL 922 2463 \r\nL 1925 2463 \r\nL 1850 4159 \r\nL 2309 4159 \r\nL 2388 2463 \r\nL 4000 2463 \r\nL 4091 4159 \r\nL 4550 4159 \r\nL 4459 2463 \r\nz\r\nM 403 397 \r\nL 403 813 \r\nL 5997 813 \r\nL 5997 397 \r\nL 403 397 \r\nz\r\n\" id=\"MalgunGothic-d504\" transform=\"scale(0.015625)\"/>\r\n     </defs>\r\n     <use xlink:href=\"#MalgunGothic-5b\"/>\r\n     <use x=\"30.46875\" xlink:href=\"#MalgunGothic-cde8\"/>\r\n     <use x=\"130.46875\" xlink:href=\"#MalgunGothic-bbf8\"/>\r\n     <use x=\"230.46875\" xlink:href=\"#MalgunGothic-2f\"/>\r\n     <use x=\"270.068359\" xlink:href=\"#MalgunGothic-b77c\"/>\r\n     <use x=\"370.068359\" xlink:href=\"#MalgunGothic-c774\"/>\r\n     <use x=\"470.068359\" xlink:href=\"#MalgunGothic-d504\"/>\r\n     <use x=\"570.068359\" xlink:href=\"#MalgunGothic-5d\"/>\r\n    </g>\r\n   </g>\r\n   <g id=\"text_24\">\r\n    <!-- 1.0% -->\r\n    <g transform=\"translate(800.815655 561.609984)scale(0.1 -0.1)\">\r\n     <use xlink:href=\"#MalgunGothic-31\"/>\r\n     <use x=\"55.078125\" xlink:href=\"#MalgunGothic-2e\"/>\r\n     <use x=\"76.953125\" xlink:href=\"#MalgunGothic-30\"/>\r\n     <use x=\"132.03125\" xlink:href=\"#MalgunGothic-25\"/>\r\n    </g>\r\n   </g>\r\n  </g>\r\n </g>\r\n</svg>\r\n",
      "image/png": "[encoded data removed]"
     },
     "metadata": {}
    }
   ],
   "source": [
    "#이번에는 카테고리 채널 수를 시각화한다. \n",
    "pivot_df = pivot_df.sort_values(by='category_count', ascending=False)\n",
    "pivot_df.head()\n",
    "plt.figure(figsize=(60,20))\n",
    "plt.pie(pivot_df['category_count'], labels=pivot_df['category'], autopct='%1.1f%%')\n",
    "plt.show()"
   ]
  },
  {
   "cell_type": "code",
   "execution_count": null,
   "metadata": {},
   "outputs": [],
   "source": []
  }
 ]
}